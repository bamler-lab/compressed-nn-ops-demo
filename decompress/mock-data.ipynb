{
 "cells": [
  {
   "cell_type": "code",
   "execution_count": 1,
   "metadata": {},
   "outputs": [],
   "source": [
    "import numpy as np\n",
    "import constriction"
   ]
  },
  {
   "cell_type": "code",
   "execution_count": 2,
   "metadata": {},
   "outputs": [
    {
     "data": {
      "text/plain": [
       "array([[-0.24281341,  0.82277433, -1.76817447, ...,  0.37827248,\n",
       "         0.95446806,  1.3724337 ],\n",
       "       [-0.93972788,  0.53986172,  0.49766536, ...,  1.92457392,\n",
       "        -0.32346853,  2.16728419],\n",
       "       [ 0.77583578, -1.37499597, -0.03150158, ..., -1.95524463,\n",
       "         0.77135577,  0.56992074],\n",
       "       ...,\n",
       "       [-1.11369009, -0.3860364 , -0.74349466, ...,  1.20332443,\n",
       "         0.25760983,  1.11943256],\n",
       "       [-0.73039511, -0.79896008, -0.80715964, ...,  0.54681539,\n",
       "        -0.4218426 , -0.47858875],\n",
       "       [ 0.11453367, -0.5499435 ,  0.71707023, ...,  0.45978248,\n",
       "         0.60778436, -0.13992389]])"
      ]
     },
     "execution_count": 2,
     "metadata": {},
     "output_type": "execute_result"
    }
   ],
   "source": [
    "np.random.seed(202404151)\n",
    "matrix = np.random.randn(1024, 1024)\n",
    "matrix"
   ]
  },
  {
   "cell_type": "code",
   "execution_count": 3,
   "metadata": {},
   "outputs": [
    {
     "name": "stdout",
     "output_type": "stream",
     "text": [
      "min: -41; max: 38\n"
     ]
    },
    {
     "data": {
      "text/plain": [
       "array([[ -2,   7, -14, ...,   3,   8,  11],\n",
       "       [ -8,   4,   4, ...,  15,  -3,  17],\n",
       "       [  6, -11,   0, ..., -16,   6,   5],\n",
       "       ...,\n",
       "       [ -9,  -3,  -6, ...,  10,   2,   9],\n",
       "       [ -6,  -6,  -6, ...,   4,  -3,  -4],\n",
       "       [  1,  -4,   6, ...,   4,   5,  -1]], dtype=int8)"
      ]
     },
     "execution_count": 3,
     "metadata": {},
     "output_type": "execute_result"
    }
   ],
   "source": [
    "quantized_matrix = np.round(matrix * 8).astype(np.int8)\n",
    "print(f'min: {quantized_matrix.min()}; max: {quantized_matrix.max()}')\n",
    "quantized_matrix"
   ]
  },
  {
   "cell_type": "code",
   "execution_count": 4,
   "metadata": {},
   "outputs": [
    {
     "data": {
      "text/plain": [
       "(array([-41, -38, -36, -35, -34, -33, -32, -31, -30, -29, -28, -27, -26,\n",
       "        -25, -24, -23, -22, -21, -20, -19, -18, -17, -16, -15, -14, -13,\n",
       "        -12, -11, -10,  -9,  -8,  -7,  -6,  -5,  -4,  -3,  -2,  -1,   0,\n",
       "          1,   2,   3,   4,   5,   6,   7,   8,   9,  10,  11,  12,  13,\n",
       "         14,  15,  16,  17,  18,  19,  20,  21,  22,  23,  24,  25,  26,\n",
       "         27,  28,  29,  30,  31,  32,  33,  34,  35,  36,  38], dtype=int8),\n",
       " array([    1,     2,     3,     3,     6,     9,    20,    40,    36,\n",
       "           73,   108,   187,   272,   409,   564,   862,  1159,  1656,\n",
       "         2296,  3194,  4182,  5575,  7191,  9100, 11442, 13800, 17154,\n",
       "        20278, 23604, 27970, 31746, 35848, 38960, 43094, 46095, 48689,\n",
       "        50576, 51960, 52311, 51639, 50460, 48842, 46323, 43185, 39306,\n",
       "        35732, 31837, 27474, 23987, 20475, 16945, 13971, 11278,  9067,\n",
       "         7086,  5327,  4310,  3063,  2328,  1626,  1214,   853,   601,\n",
       "          421,   254,   174,   122,    75,    54,    27,    25,    10,\n",
       "            4,     4,     1,     1]))"
      ]
     },
     "execution_count": 4,
     "metadata": {},
     "output_type": "execute_result"
    }
   ],
   "source": [
    "np.unique(quantized_matrix.ravel(), return_counts=True)"
   ]
  },
  {
   "cell_type": "code",
   "execution_count": 5,
   "metadata": {},
   "outputs": [
    {
     "data": {
      "text/plain": [
       "5.048731287507302"
      ]
     },
     "execution_count": 5,
     "metadata": {},
     "output_type": "execute_result"
    }
   ],
   "source": [
    "values, counts = np.unique(quantized_matrix.ravel(), return_counts=True)\n",
    "order = np.argsort(counts)[::-1]\n",
    "values = values[order]\n",
    "counts = counts[order]\n",
    "entropy20bit = np.log2(matrix.size) - counts @ np.log2(counts) / matrix.size\n",
    "entropy20bit"
   ]
  },
  {
   "cell_type": "code",
   "execution_count": 6,
   "metadata": {},
   "outputs": [
    {
     "name": "stdout",
     "output_type": "stream",
     "text": [
      "19 0\n",
      "0 0\n"
     ]
    },
    {
     "data": {
      "text/plain": [
       "array([203, 202, 201, 197, 196, 190, 189, 180, 179, 168, 167, 153, 151,\n",
       "       139, 139, 123, 123, 108, 106,  94,  92,  80,  79,  67,  66,  55,\n",
       "        54,  45,  44,  36,  35,  28,  28,  22,  21,  17,  16,  12,  12,\n",
       "         9,   9,   6,   6,   5,   5,   3,   3,   2,   2,   2,   2,   1,\n",
       "         1,   1,   1,   1,   1,   1,   1,   1,   1,   1,   1,   1,   1,\n",
       "         1,   1,   1,   1,   1,   1,   1,   1,   1,   1,   1])"
      ]
     },
     "execution_count": 6,
     "metadata": {},
     "output_type": "execute_result"
    }
   ],
   "source": [
    "freqs = np.maximum(np.round(counts / 256).astype(np.int64), 1)\n",
    "too_much = sum(freqs) - 2**12\n",
    "print(too_much, 1024**2 - sum(counts))\n",
    "freqs[:too_much] -= 1 # very hacky but good enough for now\n",
    "print(2**12 - sum(freqs), 1024**2 - sum(counts))\n",
    "freqs"
   ]
  },
  {
   "cell_type": "code",
   "execution_count": 7,
   "metadata": {},
   "outputs": [
    {
     "data": {
      "text/plain": [
       "(5.054123235441871, 5.048731287507302)"
      ]
     },
     "execution_count": 7,
     "metadata": {},
     "output_type": "execute_result"
    }
   ],
   "source": [
    "cross_entropy12bit = 12 - counts @ np.log2(freqs) / (1024**2)\n",
    "cross_entropy12bit, entropy20bit"
   ]
  },
  {
   "cell_type": "code",
   "execution_count": 8,
   "metadata": {},
   "outputs": [
    {
     "data": {
      "text/plain": [
       "(array([   0,    0,  203,   -1,  405,    1,  606,   -2,  803,    2,  999,\n",
       "           3, 1189,   -3, 1378,    4, 1558,   -4, 1737,    5, 1905,   -5,\n",
       "        2072,    6, 2225,   -6, 2376,   -7, 2515,    7, 2654,    8, 2777,\n",
       "          -8, 2900,   -9, 3008,    9, 3114,   10, 3208,  -10, 3300,   11,\n",
       "        3380,  -11, 3459,  -12, 3526,   12, 3592,   13, 3647,  -13, 3701,\n",
       "         -14, 3746,   14, 3790,  -15, 3826,   15, 3861,  -16, 3889,   16,\n",
       "        3917,  -17, 3939,   17, 3960,   18, 3977,  -18, 3993,  -19, 4005,\n",
       "          19, 4017,   20, 4026,  -20, 4035,  -21, 4041,   21, 4047,   22,\n",
       "        4052,  -22, 4057,  -23, 4060,   23, 4063,   24, 4065,  -24, 4067,\n",
       "          25, 4069,  -25, 4071,  -26, 4072,   26, 4073,  -27, 4074,   27,\n",
       "        4075,   28, 4076,  -28, 4077,   29, 4078,  -29, 4079,   30, 4080,\n",
       "         -31, 4081,  -30, 4082,   31, 4083,   32, 4084,  -32, 4085,   33,\n",
       "        4086,  -33, 4087,  -34, 4088,   34, 4089,   35, 4090,  -35, 4091,\n",
       "         -36, 4092,  -38, 4093,   36, 4094,   38, 4095,  -41, 4096],\n",
       "       dtype=int16),\n",
       " 153,\n",
       " 152,\n",
       " 1048576)"
      ]
     },
     "execution_count": 8,
     "metadata": {},
     "output_type": "execute_result"
    }
   ],
   "source": [
    "cdf = np.add.accumulate(np.concatenate([np.array([0]), freqs]))\n",
    "values_pad = np.concatenate([values, np.array([0])])\n",
    "model_specification = np.stack((cdf, values_pad), axis=1).astype(np.int16).ravel()[:-1]\n",
    "model_specification, len(model_specification), 2 * len(freqs), 1024**2"
   ]
  },
  {
   "cell_type": "code",
   "execution_count": 9,
   "metadata": {},
   "outputs": [],
   "source": [
    "inv_vocab = {value: i for i, value in enumerate(values)}"
   ]
  },
  {
   "cell_type": "code",
   "execution_count": 164,
   "metadata": {},
   "outputs": [],
   "source": [
    "class AnsCoder:\n",
    "    def __init__(self, precision, word_size, compressed=[]):\n",
    "        self.precision = precision\n",
    "        self.word_size = word_size\n",
    "        self.word_mask = (1 << word_size) - 1 # (a string of `word_size`` one-bits)\n",
    "        self.quantile_mask = (1 << precision) - 1 # (a string of `precision`` one-bits)\n",
    "        self.bulk = compressed.copy() # (We will mutate `bulk`` below.)\n",
    "        self.head = 0\n",
    "        # Establish invariant (ii):\n",
    "        while len(self.bulk) != 0 and (self.head >> word_size) == 0:\n",
    "            self.head = (self.head << word_size) | self.bulk.pop()\n",
    "\n",
    "    def push(self, symbol, m): # Encodes one symbol.\n",
    "        # Check if encoding directly onto head would violate invariant (i):\n",
    "        if (self.head >> (2 * self.word_size - self.precision)) >= m[symbol]:\n",
    "            # Transfer one word of compressed data from head to bulk:\n",
    "            self.bulk.append(self.head & self.word_mask) # (“&” is bitwise `and`)\n",
    "            self.head >>= self.word_size\n",
    "            # At this point, invariant (ii) is definitely violated,\n",
    "            # but the operations below will restore it.\n",
    "\n",
    "        z = self.head % m[symbol] + sum(m[0:symbol])\n",
    "        self.head //= m[symbol]\n",
    "        self.head = (self.head << self.precision) | z # (This is\n",
    "            # equivalent to “ self.head * n + z”, just slightly faster.)\n",
    "\n",
    "    def pop(self, m): # Decodes one symbol.\n",
    "        z = self.head & self.quantile_mask # (same as “ self.head % n” but faster)\n",
    "        self.head >>= self.precision # (same as “ //= n” but faster)\n",
    "        for symbol, m_symbol in enumerate(m):\n",
    "            if z >= m_symbol:\n",
    "                z -= m_symbol\n",
    "            else:\n",
    "                break # We found the symbol that satisfies z ∈ Z_i(symbol).\n",
    "        self.head = self.head * m_symbol + z\n",
    "        print(f'm_symbol = {m_symbol}')\n",
    "        print(f'quantile = {z}')\n",
    "\n",
    "        # Restore invariant (ii) if it is violated (which happens exactly\n",
    "        # if the encoder transferred data from head to bulk at this point):\n",
    "        if (self.head >> self.word_size) == 0 and len(self.bulk) != 0:\n",
    "            # Transfer data back from bulk to head (“ |” is bitwise or):\n",
    "            self.head = (self.head << self.word_size) | self.bulk.pop()\n",
    "\n",
    "        return symbol\n",
    "\n",
    "    def get_compressed(self):\n",
    "        compressed = self.bulk.copy() # (We will mutate `compressed`` below.)\n",
    "        head = self.head\n",
    "        # Chop `head`` into `word_size`-sized words and append to `compressed``:\n",
    "        while head != 0:\n",
    "            compressed.append(head & self.word_mask)\n",
    "            head >>= self.word_size\n",
    "        return compressed"
   ]
  },
  {
   "cell_type": "code",
   "execution_count": 11,
   "metadata": {},
   "outputs": [],
   "source": [
    "distribution = constriction.stream.model.Categorical(freqs.astype(np.float64))\n",
    "# fake_next_data = np.array([1, 1], dtype=np.uint32) # pretend that there's more data to come (for the next matrix) so that decoding doesn't interfere with next row\n",
    "def compress_row(row):\n",
    "    row = np.array([inv_vocab[value] for value in row], dtype=np.int32)\n",
    "    # coder = constriction.stream.stack.AnsCoder(fake_next_data)\n",
    "    coder = AnsCoder(12, 16, [1, 1])\n",
    "    for elem in row[::-1]:\n",
    "        coder.push(elem, freqs)\n",
    "    # coder.encode_reverse(row.astype(np.int32), distribution)\n",
    "    return np.array(coder.get_compressed(), dtype=np.uint16)[::-1]\n",
    "    # return coder.get_compressed()"
   ]
  },
  {
   "cell_type": "code",
   "execution_count": 12,
   "metadata": {},
   "outputs": [],
   "source": [
    "compressed = [compress_row(row) for row in quantized_matrix]"
   ]
  },
  {
   "cell_type": "code",
   "execution_count": 13,
   "metadata": {},
   "outputs": [
    {
     "data": {
      "text/plain": [
       "(5.109375, 5.054123235441871)"
      ]
     },
     "execution_count": 13,
     "metadata": {},
     "output_type": "execute_result"
    }
   ],
   "source": [
    "len(compressed[0]) * 16 / 1024, cross_entropy12bit"
   ]
  },
  {
   "cell_type": "code",
   "execution_count": 84,
   "metadata": {},
   "outputs": [
    {
     "data": {
      "text/plain": [
       "(array([2201,    0, 2528, ...,    5, 6956,    5], dtype=uint16), 2048)"
      ]
     },
     "execution_count": 84,
     "metadata": {},
     "output_type": "execute_result"
    }
   ],
   "source": [
    "offsets = np.zeros((2 * 1024,), dtype=np.uint16)\n",
    "pos = len(model_specification) + len(offsets)\n",
    "mask = (1 << 16) - 1\n",
    "for i in range(1024):\n",
    "    # little endian encoding\n",
    "    offsets[2 * i] = pos & mask\n",
    "    offsets[2 * i + 1] = pos >> 16\n",
    "    pos += len(compressed[i])\n",
    "offsets, len(offsets)"
   ]
  },
  {
   "cell_type": "code",
   "execution_count": 85,
   "metadata": {},
   "outputs": [],
   "source": [
    "serialized = np.concatenate([offsets, model_specification.astype(np.uint16)] + compressed)"
   ]
  },
  {
   "cell_type": "code",
   "execution_count": 86,
   "metadata": {},
   "outputs": [
    {
     "data": {
      "text/plain": [
       "8.0"
      ]
     },
     "execution_count": 86,
     "metadata": {},
     "output_type": "execute_result"
    }
   ],
   "source": [
    "len(offsets) / 256"
   ]
  },
  {
   "cell_type": "code",
   "execution_count": 87,
   "metadata": {},
   "outputs": [
    {
     "data": {
      "text/plain": [
       "[20827,\n",
       " 2201,\n",
       " 273,\n",
       " 2201,\n",
       " 3819,\n",
       " 2201,\n",
       " 1188,\n",
       " 2201,\n",
       " 2,\n",
       " 2201,\n",
       " 1935,\n",
       " 2201,\n",
       " 11,\n",
       " 2201,\n",
       " 4584,\n",
       " 2201,\n",
       " 46,\n",
       " 2201,\n",
       " 192,\n",
       " 2201,\n",
       " 11852,\n",
       " 2201,\n",
       " 88,\n",
       " 2201,\n",
       " 2,\n",
       " 2201,\n",
       " 6161,\n",
       " 2201,\n",
       " 1,\n",
       " 2201,\n",
       " 61,\n",
       " 2201,\n",
       " 129,\n",
       " 2201,\n",
       " 83,\n",
       " 2201,\n",
       " 77,\n",
       " 2201,\n",
       " 21074,\n",
       " 2201,\n",
       " 145,\n",
       " 2201,\n",
       " 1504,\n",
       " 2201,\n",
       " 990,\n",
       " 2201,\n",
       " 48,\n",
       " 2201,\n",
       " 15750,\n",
       " 2201,\n",
       " 2074,\n",
       " 2201,\n",
       " 5,\n",
       " 2201,\n",
       " 116,\n",
       " 2201,\n",
       " 32,\n",
       " 2201,\n",
       " 4109,\n",
       " 2201,\n",
       " 630,\n",
       " 2201,\n",
       " 260,\n",
       " 2201,\n",
       " 6,\n",
       " 2201,\n",
       " 31833,\n",
       " 2201,\n",
       " 684,\n",
       " 2201,\n",
       " 34983,\n",
       " 2201,\n",
       " 3,\n",
       " 2201,\n",
       " 12,\n",
       " 2201,\n",
       " 1052,\n",
       " 2201,\n",
       " 12148,\n",
       " 2201,\n",
       " 24,\n",
       " 2201,\n",
       " 714,\n",
       " 2201,\n",
       " 46,\n",
       " 2201,\n",
       " 2,\n",
       " 2201,\n",
       " 42,\n",
       " 2201,\n",
       " 10,\n",
       " 2201,\n",
       " 8,\n",
       " 2201,\n",
       " 16,\n",
       " 2201,\n",
       " 1,\n",
       " 2201,\n",
       " 749,\n",
       " 2201,\n",
       " 20962,\n",
       " 2201,\n",
       " 19080,\n",
       " 2201,\n",
       " 4698,\n",
       " 2201,\n",
       " 51,\n",
       " 2201,\n",
       " 1807,\n",
       " 2201,\n",
       " 54159,\n",
       " 2201,\n",
       " 18108,\n",
       " 2201,\n",
       " 9,\n",
       " 2201,\n",
       " 3024,\n",
       " 2201,\n",
       " 1044,\n",
       " 2201,\n",
       " 74,\n",
       " 2201,\n",
       " 333,\n",
       " 2201,\n",
       " 250,\n",
       " 2201,\n",
       " 378,\n",
       " 2201,\n",
       " 20,\n",
       " 2201,\n",
       " 1417,\n",
       " 2201,\n",
       " 30,\n",
       " 2201,\n",
       " 25,\n",
       " 2201,\n",
       " 185,\n",
       " 2201,\n",
       " 1311,\n",
       " 2201,\n",
       " 3512,\n",
       " 2201,\n",
       " 1897,\n",
       " 2201,\n",
       " 4,\n",
       " 2201,\n",
       " 34,\n",
       " 2201,\n",
       " 13,\n",
       " 2201,\n",
       " 1777,\n",
       " 2201,\n",
       " 10330,\n",
       " 2201,\n",
       " 3,\n",
       " 2201,\n",
       " 28302,\n",
       " 2201,\n",
       " 6214,\n",
       " 2201,\n",
       " 33538,\n",
       " 2201,\n",
       " 185,\n",
       " 2201,\n",
       " 2,\n",
       " 2201,\n",
       " 150,\n",
       " 2201,\n",
       " 12,\n",
       " 2201,\n",
       " 10,\n",
       " 2201,\n",
       " 40931,\n",
       " 2201,\n",
       " 116,\n",
       " 2201,\n",
       " 5550,\n",
       " 2201,\n",
       " 5,\n",
       " 2201,\n",
       " 154,\n",
       " 2201,\n",
       " 207,\n",
       " 2201,\n",
       " 4,\n",
       " 2201,\n",
       " 135,\n",
       " 2201,\n",
       " 47,\n",
       " 2201,\n",
       " 7,\n",
       " 2201,\n",
       " 12,\n",
       " 2201,\n",
       " 11089,\n",
       " 2201,\n",
       " 31,\n",
       " 2201,\n",
       " 116,\n",
       " 2201,\n",
       " 258,\n",
       " 2201,\n",
       " 23103,\n",
       " 2201,\n",
       " 28,\n",
       " 2201,\n",
       " 27796,\n",
       " 2201,\n",
       " 30,\n",
       " 2201,\n",
       " 24535,\n",
       " 2201,\n",
       " 134,\n",
       " 2201,\n",
       " 17754,\n",
       " 2201,\n",
       " 39610,\n",
       " 2201,\n",
       " 13,\n",
       " 2201,\n",
       " 50,\n",
       " 2201,\n",
       " 87,\n",
       " 2201,\n",
       " 8,\n",
       " 2201,\n",
       " 8633,\n",
       " 2201,\n",
       " 1024,\n",
       " 2201,\n",
       " 28,\n",
       " 2201,\n",
       " 22,\n",
       " 2201,\n",
       " 11,\n",
       " 2201,\n",
       " 2626,\n",
       " 2201,\n",
       " 303,\n",
       " 2201,\n",
       " 11,\n",
       " 2201,\n",
       " 14,\n",
       " 2201,\n",
       " 2,\n",
       " 2201,\n",
       " 4,\n",
       " 2201,\n",
       " 8,\n",
       " 2201,\n",
       " 158,\n",
       " 2201,\n",
       " 168,\n",
       " 2201,\n",
       " 737,\n",
       " 2201,\n",
       " 4026,\n",
       " 2201,\n",
       " 97,\n",
       " 2201,\n",
       " 26402,\n",
       " 2201,\n",
       " 36196,\n",
       " 2201,\n",
       " 8401,\n",
       " 2201,\n",
       " 5370,\n",
       " 2201,\n",
       " 2570,\n",
       " 2201,\n",
       " 3,\n",
       " 2201,\n",
       " 166,\n",
       " 2201,\n",
       " 179,\n",
       " 2201,\n",
       " 1,\n",
       " 2201,\n",
       " 2,\n",
       " 2201,\n",
       " 43,\n",
       " 2201,\n",
       " 1796,\n",
       " 2201,\n",
       " 1,\n",
       " 2201,\n",
       " 65,\n",
       " 2201,\n",
       " 1,\n",
       " 2201,\n",
       " 167,\n",
       " 2201,\n",
       " 4381,\n",
       " 2201,\n",
       " 966,\n",
       " 2201,\n",
       " 6,\n",
       " 2201,\n",
       " 2,\n",
       " 2201,\n",
       " 164,\n",
       " 2201,\n",
       " 62,\n",
       " 2201,\n",
       " 95,\n",
       " 2201,\n",
       " 11309,\n",
       " 2201,\n",
       " 175,\n",
       " 2201,\n",
       " 1,\n",
       " 2201,\n",
       " 45,\n",
       " 2201,\n",
       " 13,\n",
       " 2201,\n",
       " 59609,\n",
       " 2201,\n",
       " 31,\n",
       " 2201,\n",
       " 13840,\n",
       " 2201,\n",
       " 2,\n",
       " 2201,\n",
       " 228,\n",
       " 2201,\n",
       " 58,\n",
       " 2201,\n",
       " 406,\n",
       " 2201,\n",
       " 100,\n",
       " 2201,\n",
       " 6502,\n",
       " 2201,\n",
       " 1380,\n",
       " 2201,\n",
       " 8,\n",
       " 2201,\n",
       " 22484,\n",
       " 2201,\n",
       " 5,\n",
       " 2201,\n",
       " 13981,\n",
       " 2201,\n",
       " 1,\n",
       " 2201,\n",
       " 9,\n",
       " 2201,\n",
       " 12,\n",
       " 2201,\n",
       " 11,\n",
       " 2201,\n",
       " 59,\n",
       " 2201,\n",
       " 884,\n",
       " 2201,\n",
       " 53,\n",
       " 2201,\n",
       " 380,\n",
       " 2201,\n",
       " 1106,\n",
       " 2201,\n",
       " 24302,\n",
       " 2201,\n",
       " 30,\n",
       " 2201,\n",
       " 25,\n",
       " 2201,\n",
       " 4,\n",
       " 2201,\n",
       " 169,\n",
       " 2201,\n",
       " 20,\n",
       " 2201,\n",
       " 183,\n",
       " 2201,\n",
       " 4929,\n",
       " 2201,\n",
       " 1,\n",
       " 2201,\n",
       " 2,\n",
       " 2201,\n",
       " 23,\n",
       " 2201,\n",
       " 5,\n",
       " 2201,\n",
       " 24692,\n",
       " 2201,\n",
       " 45,\n",
       " 2201,\n",
       " 11951,\n",
       " 0,\n",
       " 0,\n",
       " 0,\n",
       " 51400,\n",
       " 0,\n",
       " 2,\n",
       " 0,\n",
       " 3,\n",
       " 0,\n",
       " 4,\n",
       " 0,\n",
       " 4,\n",
       " 0,\n",
       " 9449,\n",
       " 0,\n",
       " 55725,\n",
       " 0,\n",
       " 12967,\n",
       " 0,\n",
       " 39738,\n",
       " 0,\n",
       " 58794,\n",
       " 0,\n",
       " 9488,\n",
       " 0,\n",
       " 47380,\n",
       " 0,\n",
       " 8872,\n",
       " 0,\n",
       " 13874,\n",
       " 0,\n",
       " 43145,\n",
       " 0,\n",
       " 45972,\n",
       " 0,\n",
       " 48224,\n",
       " 0,\n",
       " 13384,\n",
       " 0,\n",
       " 60721,\n",
       " 0,\n",
       " 19999,\n",
       " 0,\n",
       " 56851,\n",
       " 0,\n",
       " 59952,\n",
       " 0,\n",
       " 49016,\n",
       " 0,\n",
       " 24255,\n",
       " 0,\n",
       " 33184,\n",
       " 0,\n",
       " 43988,\n",
       " 0,\n",
       " 14808,\n",
       " 0,\n",
       " 42358,\n",
       " 0,\n",
       " 28519,\n",
       " 0,\n",
       " 23918,\n",
       " 0,\n",
       " 24447,\n",
       " 0,\n",
       " 54196,\n",
       " 0,\n",
       " 2462,\n",
       " 0,\n",
       " 13885,\n",
       " 0,\n",
       " 2223,\n",
       " 0,\n",
       " 25877,\n",
       " 0,\n",
       " 30761,\n",
       " 0,\n",
       " 26925,\n",
       " 0,\n",
       " 27707,\n",
       " 0,\n",
       " 9079,\n",
       " 0,\n",
       " 26101,\n",
       " 0,\n",
       " 18648,\n",
       " 0,\n",
       " 21263,\n",
       " 0,\n",
       " 31971,\n",
       " 0,\n",
       " 61056,\n",
       " 0,\n",
       " 61152,\n",
       " 0,\n",
       " 9252,\n",
       " 0,\n",
       " 11181,\n",
       " 0,\n",
       " 33408,\n",
       " 0,\n",
       " 23684,\n",
       " 0,\n",
       " 62882,\n",
       " 0,\n",
       " 3684,\n",
       " 0,\n",
       " 17244,\n",
       " 0,\n",
       " 63636,\n",
       " 0,\n",
       " 44011,\n",
       " 0,\n",
       " 22830,\n",
       " 0,\n",
       " 39697,\n",
       " 0,\n",
       " 42159,\n",
       " 0,\n",
       " 2580,\n",
       " 0,\n",
       " 56236,\n",
       " 0,\n",
       " 52893,\n",
       " 0,\n",
       " 52551,\n",
       " 0,\n",
       " 27654,\n",
       " 0,\n",
       " 14133,\n",
       " 0,\n",
       " 36698,\n",
       " 0,\n",
       " 28712,\n",
       " 0,\n",
       " 39042,\n",
       " 0,\n",
       " 34112,\n",
       " 0,\n",
       " 32231,\n",
       " 0,\n",
       " 31479,\n",
       " 0,\n",
       " 25987,\n",
       " 0,\n",
       " 61667,\n",
       " 0,\n",
       " 21652,\n",
       " 0,\n",
       " 25154,\n",
       " 0,\n",
       " 52358,\n",
       " 0,\n",
       " 47070,\n",
       " 0,\n",
       " 51599,\n",
       " 0,\n",
       " 44952,\n",
       " 0,\n",
       " 1672,\n",
       " 0,\n",
       " 58236,\n",
       " 0,\n",
       " 3010,\n",
       " 0,\n",
       " 35853,\n",
       " 0,\n",
       " 46287,\n",
       " 0,\n",
       " 33050,\n",
       " 0,\n",
       " 64767,\n",
       " 0,\n",
       " 42215,\n",
       " 0,\n",
       " 60355,\n",
       " 0,\n",
       " 65455,\n",
       " 0,\n",
       " 16740,\n",
       " 0,\n",
       " 50336,\n",
       " 0,\n",
       " 4583,\n",
       " 0,\n",
       " 27845,\n",
       " 0,\n",
       " 8652,\n",
       " 0,\n",
       " 56326,\n",
       " 0,\n",
       " 15313,\n",
       " 0,\n",
       " 30596,\n",
       " 0,\n",
       " 28632,\n",
       " 0,\n",
       " 29880,\n",
       " 0,\n",
       " 50781,\n",
       " 0,\n",
       " 9815,\n",
       " 0,\n",
       " 47631,\n",
       " 0,\n",
       " 22275,\n",
       " 0,\n",
       " 57349,\n",
       " 0,\n",
       " 50592,\n",
       " 0,\n",
       " 44485,\n",
       " 0,\n",
       " 26664,\n",
       " 0,\n",
       " 19572,\n",
       " 0,\n",
       " 31671,\n",
       " 0,\n",
       " 23437,\n",
       " 0,\n",
       " 37330,\n",
       " 0,\n",
       " 16188,\n",
       " 0,\n",
       " 47941,\n",
       " 0,\n",
       " 4707,\n",
       " 0,\n",
       " 32648,\n",
       " 0,\n",
       " 53230,\n",
       " 0,\n",
       " 56617,\n",
       " 0,\n",
       " 35451,\n",
       " 0,\n",
       " 9674,\n",
       " 0,\n",
       " 10557,\n",
       " 0,\n",
       " 21160,\n",
       " 0,\n",
       " 47768,\n",
       " 0,\n",
       " 62521,\n",
       " 0,\n",
       " 40178,\n",
       " 0,\n",
       " 6584,\n",
       " 0,\n",
       " 54261,\n",
       " 0,\n",
       " 62372,\n",
       " 0,\n",
       " 28853,\n",
       " 0,\n",
       " 15695,\n",
       " 0,\n",
       " 30443,\n",
       " 0,\n",
       " 24959,\n",
       " 0,\n",
       " 4160,\n",
       " 0,\n",
       " 13720,\n",
       " 0,\n",
       " 23217,\n",
       " 0,\n",
       " 11540,\n",
       " 0,\n",
       " 46954,\n",
       " 0,\n",
       " 40815,\n",
       " 0,\n",
       " 32980,\n",
       " 0,\n",
       " 15692,\n",
       " 0,\n",
       " 2037,\n",
       " 0,\n",
       " 33758,\n",
       " 0,\n",
       " 34557,\n",
       " 0,\n",
       " 8521,\n",
       " 0,\n",
       " 3236,\n",
       " 0,\n",
       " 49916,\n",
       " 0,\n",
       " 47207,\n",
       " 0,\n",
       " 44219,\n",
       " 0,\n",
       " 9683,\n",
       " 0,\n",
       " 61967,\n",
       " 0,\n",
       " 9242,\n",
       " 0,\n",
       " 4624,\n",
       " 0,\n",
       " 44890,\n",
       " 0,\n",
       " 50525,\n",
       " 0,\n",
       " 13784,\n",
       " 0,\n",
       " 27874,\n",
       " 0,\n",
       " 44460,\n",
       " 0,\n",
       " 60251,\n",
       " 0,\n",
       " 34164,\n",
       " 0,\n",
       " 3977,\n",
       " 0,\n",
       " 27423,\n",
       " 0,\n",
       " 13979,\n",
       " 0,\n",
       " 56375,\n",
       " 0,\n",
       " 9624,\n",
       " 0,\n",
       " 48290,\n",
       " 0,\n",
       " 63646,\n",
       " 0,\n",
       " 51959,\n",
       " 0,\n",
       " 35841,\n",
       " 0,\n",
       " 31957,\n",
       " 0,\n",
       " 3253,\n",
       " 0,\n",
       " 55973,\n",
       " 0,\n",
       " 52110,\n",
       " 0,\n",
       " 15146,\n",
       " 0,\n",
       " 11012,\n",
       " 0,\n",
       " 34864,\n",
       " 0,\n",
       " 48114,\n",
       " 0,\n",
       " 35926,\n",
       " 0,\n",
       " 36948,\n",
       " 0,\n",
       " 843,\n",
       " 0,\n",
       " 59698,\n",
       " 0,\n",
       " 61373,\n",
       " 0,\n",
       " 38635,\n",
       " 0,\n",
       " 37312,\n",
       " 0,\n",
       " 10462,\n",
       " 0,\n",
       " 31641,\n",
       " 0,\n",
       " 5540,\n",
       " 0,\n",
       " 14920,\n",
       " 0,\n",
       " 5547,\n",
       " 0,\n",
       " 2858,\n",
       " 0,\n",
       " 43751,\n",
       " 0,\n",
       " 31302,\n",
       " 0,\n",
       " 37085,\n",
       " 0,\n",
       " 51491,\n",
       " 0,\n",
       " 11294,\n",
       " 0,\n",
       " 35747,\n",
       " 0,\n",
       " 28182,\n",
       " 0,\n",
       " 30270,\n",
       " 0,\n",
       " 39431,\n",
       " 0,\n",
       " 11463,\n",
       " 0,\n",
       " 42127,\n",
       " 0,\n",
       " 16803,\n",
       " 0,\n",
       " 45972,\n",
       " 0,\n",
       " 0,\n",
       " 2528,\n",
       " 1,\n",
       " 2528,\n",
       " 2,\n",
       " 2528,\n",
       " 2,\n",
       " 2528,\n",
       " 3,\n",
       " 2528,\n",
       " 34468,\n",
       " 2528,\n",
       " 4057,\n",
       " 2528,\n",
       " 50874,\n",
       " 2528,\n",
       " 14470,\n",
       " 2528,\n",
       " 38091,\n",
       " 2528,\n",
       " 20835,\n",
       " 2528,\n",
       " 56906,\n",
       " 2528,\n",
       " 36449,\n",
       " 2528,\n",
       " 40513,\n",
       " 2528,\n",
       " 41768,\n",
       " 2528,\n",
       " 36836,\n",
       " 2528,\n",
       " 44399,\n",
       " 2528,\n",
       " 34822,\n",
       " 2528,\n",
       " 35033,\n",
       " 2528,\n",
       " 22315,\n",
       " 2528,\n",
       " 25281,\n",
       " 2528,\n",
       " 44348,\n",
       " 2528,\n",
       " 7928,\n",
       " 2528,\n",
       " 27241,\n",
       " 2528,\n",
       " 38358,\n",
       " 2528,\n",
       " 48821,\n",
       " 2528,\n",
       " 36325,\n",
       " 2528,\n",
       " 20954,\n",
       " 2528,\n",
       " 18159,\n",
       " 2528,\n",
       " 45898,\n",
       " 2528,\n",
       " 1160,\n",
       " 2528,\n",
       " 39930,\n",
       " 2528,\n",
       " 1956,\n",
       " 2528,\n",
       " 22231,\n",
       " 2528,\n",
       " 4878,\n",
       " 2528,\n",
       " 48405,\n",
       " 2528,\n",
       " 61261,\n",
       " 2528,\n",
       " 38681,\n",
       " 2528,\n",
       " 4282,\n",
       " 2528,\n",
       " 10350,\n",
       " 2528,\n",
       " 59173,\n",
       " 2528,\n",
       " 56693,\n",
       " 2528,\n",
       " 16518,\n",
       " 2528,\n",
       " 4759,\n",
       " 2528,\n",
       " 35932,\n",
       " 2528,\n",
       " 44174,\n",
       " 2528,\n",
       " 30596,\n",
       " 2528,\n",
       " 28724,\n",
       " 2528,\n",
       " 21381,\n",
       " 2528,\n",
       " 48243,\n",
       " 2528,\n",
       " 57953,\n",
       " 2528,\n",
       " 48804,\n",
       " 2528,\n",
       " 21243,\n",
       " 2528,\n",
       " 30878,\n",
       " 2528,\n",
       " 18238,\n",
       " 2528,\n",
       " 45066,\n",
       " 2528,\n",
       " 28903,\n",
       " 2528,\n",
       " 42083,\n",
       " 2528,\n",
       " 61157,\n",
       " 2528,\n",
       " 60532,\n",
       " 2528,\n",
       " 50237,\n",
       " 2528,\n",
       " 59276,\n",
       " 2528,\n",
       " 24443,\n",
       " 2528,\n",
       " 43218,\n",
       " 2528,\n",
       " 7415,\n",
       " 2528,\n",
       " 26453,\n",
       " 2528,\n",
       " 61812,\n",
       " 2528,\n",
       " 20910,\n",
       " 2528,\n",
       " 58732,\n",
       " 2528,\n",
       " 473,\n",
       " 2528,\n",
       " 54783,\n",
       " 2528,\n",
       " 63756,\n",
       " 2528,\n",
       " 4691,\n",
       " 2528,\n",
       " 5992,\n",
       " 2528,\n",
       " 39271,\n",
       " 2528,\n",
       " 51896,\n",
       " 2528,\n",
       " 20021,\n",
       " 2528,\n",
       " 23779,\n",
       " 2528,\n",
       " 42254,\n",
       " 2528,\n",
       " 46660,\n",
       " 2528,\n",
       " 54695,\n",
       " 2528,\n",
       " 41143,\n",
       " 2528,\n",
       " 6458,\n",
       " 2528,\n",
       " 1612,\n",
       " 2528,\n",
       " 18405,\n",
       " 2528,\n",
       " 40206,\n",
       " 2528,\n",
       " 20396,\n",
       " 2528,\n",
       " 25875,\n",
       " 2528,\n",
       " 26829,\n",
       " 2528,\n",
       " 62785,\n",
       " 2528,\n",
       " 56827,\n",
       " 2528,\n",
       " 47728,\n",
       " 2528,\n",
       " 27704,\n",
       " 2528,\n",
       " 49845,\n",
       " 2528,\n",
       " 56777,\n",
       " 2528,\n",
       " 48218,\n",
       " 2528,\n",
       " 16258,\n",
       " 2528,\n",
       " 28818,\n",
       " 2528,\n",
       " 44801,\n",
       " 2528,\n",
       " 27379,\n",
       " 2528,\n",
       " 448,\n",
       " 2528,\n",
       " 38440,\n",
       " 2528,\n",
       " 39573,\n",
       " 2528,\n",
       " ...]"
      ]
     },
     "execution_count": 87,
     "metadata": {},
     "output_type": "execute_result"
    }
   ],
   "source": [
    "[serialized[i] for i in offsets]"
   ]
  },
  {
   "cell_type": "code",
   "execution_count": 88,
   "metadata": {},
   "outputs": [
    {
     "data": {
      "text/plain": [
       "array([   0,    0,  203,   -1,  405,    1,  606,   -2,  803,    2,  999,\n",
       "          3, 1189,   -3, 1378,    4, 1558,   -4, 1737,    5, 1905,   -5,\n",
       "       2072,    6, 2225,   -6, 2376,   -7, 2515,    7, 2654,    8, 2777,\n",
       "         -8, 2900,   -9, 3008,    9, 3114,   10, 3208,  -10, 3300,   11,\n",
       "       3380,  -11, 3459,  -12, 3526,   12, 3592,   13, 3647,  -13, 3701,\n",
       "        -14, 3746,   14, 3790,  -15, 3826,   15, 3861,  -16, 3889,   16,\n",
       "       3917,  -17, 3939,   17, 3960,   18, 3977,  -18, 3993,  -19, 4005,\n",
       "         19, 4017,   20, 4026,  -20, 4035,  -21, 4041,   21, 4047,   22,\n",
       "       4052,  -22, 4057,  -23, 4060,   23, 4063,   24, 4065,  -24, 4067,\n",
       "         25, 4069,  -25, 4071,  -26, 4072,   26, 4073,  -27, 4074,   27,\n",
       "       4075,   28, 4076,  -28, 4077,   29, 4078,  -29, 4079,   30, 4080,\n",
       "        -31, 4081,  -30, 4082,   31, 4083,   32, 4084,  -32, 4085,   33,\n",
       "       4086,  -33, 4087,  -34, 4088,   34, 4089,   35, 4090,  -35, 4091,\n",
       "        -36, 4092,  -38, 4093,   36, 4094,   38, 4095,  -41, 4096],\n",
       "      dtype=int16)"
      ]
     },
     "execution_count": 88,
     "metadata": {},
     "output_type": "execute_result"
    }
   ],
   "source": [
    "model_specification"
   ]
  },
  {
   "cell_type": "code",
   "execution_count": 89,
   "metadata": {},
   "outputs": [],
   "source": [
    "# pad to a multiple of 512 entries for now so it's easier to read in\n",
    "pad_len = (512 - len(serialized) % 512) % 512\n",
    "serialized = np.concatenate([serialized, np.zeros((pad_len,), dtype=np.uint16)])"
   ]
  },
  {
   "cell_type": "code",
   "execution_count": 90,
   "metadata": {},
   "outputs": [],
   "source": [
    "serialized.tofile('mock-matrix.bin')"
   ]
  },
  {
   "cell_type": "code",
   "execution_count": 91,
   "metadata": {},
   "outputs": [
    {
     "data": {
      "text/plain": [
       "((335360,), 2048, 153)"
      ]
     },
     "execution_count": 91,
     "metadata": {},
     "output_type": "execute_result"
    }
   ],
   "source": [
    "serialized.shape, len(offsets), len(model_specification)"
   ]
  },
  {
   "cell_type": "code",
   "execution_count": 92,
   "metadata": {},
   "outputs": [
    {
     "name": "stdout",
     "output_type": "stream",
     "text": [
      "-rw-rw-r-- 1 robamler robamler 670720 Apr 16 19:43 mock-matrix.bin\n"
     ]
    }
   ],
   "source": [
    "!ls -l mock-matrix.bin"
   ]
  },
  {
   "cell_type": "code",
   "execution_count": 93,
   "metadata": {},
   "outputs": [
    {
     "data": {
      "text/plain": [
       "655.0"
      ]
     },
     "execution_count": 93,
     "metadata": {},
     "output_type": "execute_result"
    }
   ],
   "source": [
    "670720 / 2 / 512"
   ]
  },
  {
   "cell_type": "code",
   "execution_count": 94,
   "metadata": {},
   "outputs": [
    {
     "name": "stdout",
     "output_type": "stream",
     "text": [
      "quantile = 194\n"
     ]
    },
    {
     "data": {
      "text/plain": [
       "(array([], dtype=int64), 0, 0)"
      ]
     },
     "execution_count": 94,
     "metadata": {},
     "output_type": "execute_result"
    }
   ],
   "source": [
    "word1 = serialized[offsets[0]]\n",
    "word2 = serialized[offsets[0] + 1]\n",
    "quantile = (word2 % (2**24)) >> 8\n",
    "print(f'quantile = {quantile}')\n",
    "symbol_id = (cdf <= quantile).sum() - 1\n",
    "cdf[symbol_id-1:symbol_id+2], symbol_id, values[symbol_id]"
   ]
  },
  {
   "cell_type": "code",
   "execution_count": 95,
   "metadata": {},
   "outputs": [
    {
     "data": {
      "text/plain": [
       "-2"
      ]
     },
     "execution_count": 95,
     "metadata": {},
     "output_type": "execute_result"
    }
   ],
   "source": [
    "quantized_matrix[0, 0]"
   ]
  },
  {
   "cell_type": "code",
   "execution_count": 96,
   "metadata": {},
   "outputs": [
    {
     "data": {
      "text/plain": [
       "4.0"
      ]
     },
     "execution_count": 96,
     "metadata": {},
     "output_type": "execute_result"
    }
   ],
   "source": [
    "len(offsets) / 512"
   ]
  },
  {
   "cell_type": "code",
   "execution_count": 97,
   "metadata": {},
   "outputs": [
    {
     "data": {
      "text/plain": [
       "array([1, 1, 1, 1, 1, 1, 1, 1, 1, 1, 1, 1, 1, 1, 1, 1, 1, 1, 1, 1, 1, 1,\n",
       "       1, 1, 1, 1, 1, 1, 1, 1, 1, 1, 1, 1, 1, 1, 1, 1, 1, 1, 1, 1, 1, 1,\n",
       "       1, 1, 1, 1, 1, 1, 1, 1, 1, 1, 1, 1, 1, 1, 1, 1, 1, 1, 1, 1, 1, 1,\n",
       "       1, 1, 1, 1, 1, 1, 1, 1, 1, 1, 1, 1, 1, 1, 1, 1, 1, 1, 1, 1, 1, 1,\n",
       "       1, 1, 1, 1, 1, 1, 1, 1, 1, 1, 1, 1], dtype=uint16)"
      ]
     },
     "execution_count": 97,
     "metadata": {},
     "output_type": "execute_result"
    }
   ],
   "source": [
    "offsets[1::2][200:300]"
   ]
  },
  {
   "cell_type": "code",
   "execution_count": 98,
   "metadata": {},
   "outputs": [
    {
     "data": {
      "text/plain": [
       "array([65010, 65335,   127,   452,   774,  1098,  1421,  1748,  2076,\n",
       "        2402,  2729,  3055,  3379,  3704,  4032,  4359,  4686,  5012,\n",
       "        5337,  5660,  5983,  6307,  6629,  6956], dtype=uint16)"
      ]
     },
     "execution_count": 98,
     "metadata": {},
     "output_type": "execute_result"
    }
   ],
   "source": [
    "offsets[::2][1000:]"
   ]
  },
  {
   "cell_type": "code",
   "execution_count": 99,
   "metadata": {},
   "outputs": [
    {
     "data": {
      "text/plain": [
       "array([  2201,   2528,   2850, ..., 333987, 334309, 334636])"
      ]
     },
     "execution_count": 99,
     "metadata": {},
     "output_type": "execute_result"
    }
   ],
   "source": [
    "original_offsets = np.array([offsets[2*i] + (offsets[2*i+1] << 16) for i in range(1024)])\n",
    "original_offsets"
   ]
  },
  {
   "cell_type": "code",
   "execution_count": 125,
   "metadata": {},
   "outputs": [
    {
     "data": {
      "text/plain": [
       "array([49878, 31450, 43115, 33592, 18477, 37607,   617, 20837, 18140,\n",
       "         777, 29705, 32476, 54692, 61970,  8413, 56750, 41112, 35941,\n",
       "       59411, 29014, 51298, 34952, 29823, 27221,  6038, 16029, 56187,\n",
       "       28383, 34615, 12035, 36892, 45747, 61146,  4349,  8142, 14792,\n",
       "       30269, 15191,  1630, 44158, 46566, 16718, 63925, 63123,  9758,\n",
       "       61283, 36444, 33762,  7186, 22353, 13345, 54457, 52447, 32507,\n",
       "       12906, 25571, 11489, 24612, 18984, 19395, 59093, 14584, 50986,\n",
       "         821, 19552, 42200, 50218, 54110, 10002, 41743, 33211, 47796,\n",
       "       49983, 49960, 51074, 26130, 12662, 13385, 61763, 46585, 12404,\n",
       "        1704, 11640, 64241, 13902, 53453, 33513, 15027, 65340,  6777,\n",
       "       47872, 53306,  1701, 30464, 25630, 34004, 14576, 61048,   832,\n",
       "       54095], dtype=uint16)"
      ]
     },
     "execution_count": 125,
     "metadata": {},
     "output_type": "execute_result"
    }
   ],
   "source": [
    "np.array([serialized[i+1] for i in original_offsets][:100])"
   ]
  },
  {
   "cell_type": "code",
   "execution_count": 101,
   "metadata": {},
   "outputs": [],
   "source": [
    "coder = AnsCoder(12, 16, list(serialized[original_offsets[0]:][::-1]))"
   ]
  },
  {
   "cell_type": "code",
   "execution_count": 102,
   "metadata": {},
   "outputs": [
    {
     "data": {
      "text/plain": [
       "True"
      ]
     },
     "execution_count": 102,
     "metadata": {},
     "output_type": "execute_result"
    }
   ],
   "source": [
    "np.all(serialized[original_offsets[0]:original_offsets[1]] == compressed[0])"
   ]
  },
  {
   "cell_type": "code",
   "execution_count": 132,
   "metadata": {},
   "outputs": [
    {
     "data": {
      "text/plain": [
       "array([ 3, 16, 11, ..., 17, 12,  2])"
      ]
     },
     "execution_count": 132,
     "metadata": {},
     "output_type": "execute_result"
    }
   ],
   "source": [
    "gt_first_symbols = np.array([inv_vocab[quantized_matrix[i, 0]] for i in range(1024)])\n",
    "gt_first_symbols"
   ]
  },
  {
   "cell_type": "code",
   "execution_count": 134,
   "metadata": {},
   "outputs": [
    {
     "data": {
      "text/plain": [
       "True"
      ]
     },
     "execution_count": 134,
     "metadata": {},
     "output_type": "execute_result"
    }
   ],
   "source": [
    "js_first_symbols = np.array([3,16,11,4,11,3,3,1,9,3,5,29,7,2,1,23,0,19,10,1,11,11,5,14,10,27,17,29,9,30,0,3,29,1,42,13,8,17,8,19,7,1,13,8,8,34,26,4,18,9,5,6,20,30,3,4,20,0,14,18,9,12,9,4,19,6,5,4,9,3,2,15,4,4,10,7,1,5,1,7,0,8,22,16,8,1,3,15,32,15,16,0,8,9,5,6,12,27,4,4,2,15,16,11,26,6,15,2,25,15,13,8,0,21,9,17,9,22,39,3,31,20,14,25,5,15,3,30,23,23,7,18,6,26,12,3,13,5,21,35,27,2,20,11,16,8,8,43,6,6,3,12,14,33,11,14,19,41,9,8,18,12,6,9,31,0,23,30,5,0,27,1,14,1,11,11,6,22,3,1,14,40,22,5,23,18,7,7,43,2,0,9,23,40,16,44,6,2,16,12,25,4,3,11,25,28,13,14,26,15,9,12,0,23,3,22,5,10,18,13,7,26,5,9,5,5,26,8,10,4,23,5,7,26,1,11,9,9,15,21,22,26,8,10,21,16,0,9,3,2,5,29,5,21,14,3,0,7,5,2,4,2,10,13,6,16,19,28,8,33,9,14,25,2,34,8,18,11,11,9,4,17,7,12,13,18,2,2,9,13,4,10,15,16,19,20,2,0,17,3,13,7,6,18,7,8,7,16,23,0,4,9,6,3,5,10,3,11,10,11,19,5,14,19,7,29,1,2,10,2,8,18,28,3,1,7,5,20,16,14,11,2,1,11,39,16,38,34,1,9,12,18,8,7,13,19,20,9,18,7,26,2,9,1,2,30,11,11,4,29,1,6,6,26,6,22,43,9,27,7,3,7,15,30,5,16,18,11,8,33,9,6,14,0,5,14,25,9,8,16,13,21,17,38,0,22,34,4,20,14,20,5,32,14,0,8,34,12,27,5,14,4,13,35,12,25,6,5,6,12,9,3,15,19,16,10,16,6,21,16,15,22,13,2,14,30,0,12,11,4,0,3,13,17,30,29,24,3,9,12,19,2,15,17,3,26,3,10,0,12,26,24,15,10,5,14,9,27,1,20,1,4,28,1,17,2,21,1,7,5,16,3,32,4,6,5,0,27,1,29,6,21,18,0,17,2,19,14,9,9,20,8,8,1,22,20,9,1,26,4,14,9,0,38,7,9,13,0,6,0,8,14,0,15,22,0,10,0,19,11,30,21,5,9,0,3,0,26,55,13,26,13,5,5,3,21,4,0,4,3,27,4,13,9,28,7,23,10,14,6,7,23,1,4,15,21,20,8,16,25,22,4,13,2,20,18,21,0,22,5,10,0,7,11,19,3,6,14,17,6,6,1,23,6,18,21,6,11,17,20,9,47,6,20,2,3,17,4,22,9,31,9,1,11,10,4,21,7,0,5,11,9,5,6,3,9,2,18,21,7,13,11,15,13,34,15,6,0,24,19,41,33,32,10,16,5,12,3,12,1,9,4,9,7,14,4,4,22,8,41,14,0,5,8,19,14,4,10,0,29,21,22,23,18,25,1,17,6,11,15,16,10,7,22,13,3,4,2,14,13,16,5,21,18,16,10,0,12,0,5,29,11,9,11,9,21,13,27,23,21,9,7,1,18,10,10,4,19,4,19,18,42,11,18,12,14,32,1,1,1,19,13,6,3,0,12,14,23,39,4,0,6,25,24,10,24,1,10,17,17,7,8,5,10,0,23,4,14,12,26,14,13,4,1,6,23,5,20,0,2,6,9,7,6,1,7,0,5,23,17,12,25,1,7,4,6,0,10,21,18,6,9,16,17,9,0,3,17,9,5,9,6,4,6,21,6,14,6,0,11,4,9,2,7,1,6,24,17,8,24,27,21,21,9,9,3,0,6,0,31,21,21,7,11,7,15,21,19,10,7,3,15,4,7,7,4,7,13,29,3,17,4,17,14,10,19,29,7,5,5,3,1,3,20,1,18,22,7,8,18,0,3,4,17,0,11,7,30,11,13,11,12,27,9,26,2,16,28,12,12,16,24,21,6,6,3,10,5,2,6,12,8,0,13,4,2,17,23,31,5,20,14,23,6,29,1,23,4,25,30,9,4,10,8,24,0,24,1,21,6,10,18,2,11,22,12,4,1,19,12,10,1,5,3,17,5,10,2,2,8,3,24,29,24,2,18,0,3,0,14,1,2,34,11,11,18,16,4,4,10,5,19,35,3,9,25,7,7,20,0,10,22,34,10,10,5,22,5,6,11,11,25,14,11,0,9,11,2,20,4,17,9,8,6,0,0,4,2,25,5,7,17,12,2])\n",
    "np.all(gt_first_symbols == js_first_symbols)"
   ]
  },
  {
   "cell_type": "code",
   "execution_count": 143,
   "metadata": {},
   "outputs": [
    {
     "data": {
      "text/plain": [
       "array([65534, 65528,     6, ..., 65527, 65530,     1], dtype=int32)"
      ]
     },
     "execution_count": 143,
     "metadata": {},
     "output_type": "execute_result"
    }
   ],
   "source": [
    "quantized_matrix[:, 0] % 2**16"
   ]
  },
  {
   "cell_type": "code",
   "execution_count": 146,
   "metadata": {},
   "outputs": [
    {
     "data": {
      "text/plain": [
       "[203, 203, 196, 201, 55, 190, 180, 108, 151, 201]"
      ]
     },
     "execution_count": 146,
     "metadata": {},
     "output_type": "execute_result"
    }
   ],
   "source": [
    "quantile = [freqs[i] for i in gt_first_symbols][-10:]\n",
    "quantile"
   ]
  },
  {
   "cell_type": "code",
   "execution_count": 118,
   "metadata": {},
   "outputs": [
    {
     "data": {
      "text/plain": [
       "array([   0,  203,  405,  606,  803,  999, 1189, 1378, 1558, 1737, 1905,\n",
       "       2072, 2225, 2376, 2515, 2654, 2777, 2900, 3008, 3114, 3208, 3300,\n",
       "       3380, 3459, 3526, 3592, 3647, 3701, 3746, 3790, 3826, 3861, 3889,\n",
       "       3917, 3939, 3960, 3977, 3993, 4005, 4017, 4026, 4035, 4041, 4047,\n",
       "       4052, 4057, 4060, 4063, 4065, 4067, 4069, 4071, 4072, 4073, 4074,\n",
       "       4075, 4076, 4077, 4078, 4079, 4080, 4081, 4082, 4083, 4084, 4085,\n",
       "       4086, 4087, 4088, 4089, 4090, 4091, 4092, 4093, 4094, 4095, 4096])"
      ]
     },
     "execution_count": 118,
     "metadata": {},
     "output_type": "execute_result"
    }
   ],
   "source": [
    "cdf"
   ]
  },
  {
   "cell_type": "code",
   "execution_count": 165,
   "metadata": {},
   "outputs": [
    {
     "name": "stdout",
     "output_type": "stream",
     "text": [
      "m_symbol = 197\n",
      "quantile = [203, 203, 196, 201, 55, 190, 180, 108, 151, 201]\n"
     ]
    },
    {
     "data": {
      "text/plain": [
       "65649188"
      ]
     },
     "execution_count": 165,
     "metadata": {},
     "output_type": "execute_result"
    }
   ],
   "source": [
    "coder = AnsCoder(12, 16, list(compressed[0][::-1]))\n",
    "coder.pop(freqs)\n",
    "coder.head"
   ]
  },
  {
   "cell_type": "code",
   "execution_count": 152,
   "metadata": {},
   "outputs": [
    {
     "data": {
      "text/plain": [
       "array([ 3, 16, 11, ..., 17, 12,  2])"
      ]
     },
     "execution_count": 152,
     "metadata": {},
     "output_type": "execute_result"
    }
   ],
   "source": [
    "gt_first_symbols"
   ]
  },
  {
   "cell_type": "code",
   "execution_count": 153,
   "metadata": {},
   "outputs": [
    {
     "data": {
      "text/plain": [
       "array([  7,   4, -11, ...,  -3,  -6,  -4], dtype=int8)"
      ]
     },
     "execution_count": 153,
     "metadata": {},
     "output_type": "execute_result"
    }
   ],
   "source": [
    "quantized_matrix[:, 1]"
   ]
  },
  {
   "cell_type": "code",
   "execution_count": 163,
   "metadata": {},
   "outputs": [
    {
     "data": {
      "text/plain": [
       "726"
      ]
     },
     "execution_count": 163,
     "metadata": {},
     "output_type": "execute_result"
    }
   ],
   "source": [
    "1364968150 % (2**12)"
   ]
  },
  {
   "cell_type": "code",
   "execution_count": 161,
   "metadata": {},
   "outputs": [
    {
     "data": {
      "text/plain": [
       "65649794"
      ]
     },
     "execution_count": 161,
     "metadata": {},
     "output_type": "execute_result"
    }
   ],
   "source": [
    "(1364968150 >> 12) * 197 + 726"
   ]
  },
  {
   "cell_type": "code",
   "execution_count": null,
   "metadata": {},
   "outputs": [],
   "source": []
  }
 ],
 "metadata": {
  "kernelspec": {
   "display_name": "Python 3",
   "language": "python",
   "name": "python3"
  },
  "language_info": {
   "codemirror_mode": {
    "name": "ipython",
    "version": 3
   },
   "file_extension": ".py",
   "mimetype": "text/x-python",
   "name": "python",
   "nbconvert_exporter": "python",
   "pygments_lexer": "ipython3",
   "version": "3.12.0"
  }
 },
 "nbformat": 4,
 "nbformat_minor": 2
}
