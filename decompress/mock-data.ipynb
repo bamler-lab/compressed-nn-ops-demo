{
 "cells": [
  {
   "cell_type": "markdown",
   "metadata": {},
   "source": [
    "# Mock Data for Compressed Matrices"
   ]
  },
  {
   "cell_type": "code",
   "execution_count": 1,
   "metadata": {},
   "outputs": [],
   "source": [
    "import numpy as np\n",
    "import constriction\n",
    "from tqdm import tqdm\n",
    "import pickle"
   ]
  },
  {
   "cell_type": "markdown",
   "metadata": {},
   "source": [
    "## Preparation"
   ]
  },
  {
   "cell_type": "markdown",
   "metadata": {},
   "source": [
    "### Create Random Quantized Matrices"
   ]
  },
  {
   "cell_type": "code",
   "execution_count": 22,
   "metadata": {},
   "outputs": [],
   "source": [
    "np.random.seed(202404151)\n",
    "matrices = np.random.randn(100, 1024, 1024)"
   ]
  },
  {
   "cell_type": "code",
   "execution_count": 23,
   "metadata": {},
   "outputs": [
    {
     "name": "stdout",
     "output_type": "stream",
     "text": [
      "mins: [-41 -38 -40 -38 -44 -38 -37 -41 -41 -37 -39 -40 -39 -37 -39 -40 -37 -41\n",
      " -40 -40 -39 -41 -38 -42 -39 -39 -42 -39 -41 -41 -38 -39 -40 -38 -38 -38\n",
      " -42 -41 -37 -44 -38 -38 -37 -39 -39 -36 -39 -42 -40 -40 -41 -38 -36 -41\n",
      " -40 -41 -42 -38 -38 -38 -42 -37 -39 -39 -38 -36 -39 -37 -38 -40 -43 -36\n",
      " -37 -37 -41 -39 -41 -37 -40 -42 -38 -37 -38 -37 -38 -42 -41 -42 -38 -42\n",
      " -40 -46 -39 -37 -42 -41 -37 -40 -38 -42]\n",
      "maxs: [38 39 36 36 39 37 36 38 36 39 38 37 39 40 37 40 37 38 39 41 38 40 37 38\n",
      " 36 36 39 39 36 39 37 37 37 38 39 39 41 41 37 36 37 38 35 37 37 40 42 36\n",
      " 41 37 37 41 40 39 38 40 42 43 38 41 37 36 41 37 37 38 38 39 40 36 38 39\n",
      " 39 40 39 38 39 37 38 40 39 43 43 44 36 42 44 39 43 39 37 37 38 43 40 38\n",
      " 40 44 39 39]\n"
     ]
    }
   ],
   "source": [
    "quantized_matrices = np.round(matrices * 8).astype(np.int8)\n",
    "print(f'mins: {quantized_matrices.min(axis=(1, 2))}')\n",
    "print(f'maxs: {quantized_matrices.max(axis=(1, 2))}')"
   ]
  },
  {
   "cell_type": "markdown",
   "metadata": {},
   "source": [
    "### Create Entropy Models"
   ]
  },
  {
   "cell_type": "code",
   "execution_count": 4,
   "metadata": {},
   "outputs": [
    {
     "name": "stderr",
     "output_type": "stream",
     "text": [
      "100%|██████████| 100/100 [00:15<00:00,  6.47it/s]"
     ]
    },
    {
     "name": "stdout",
     "output_type": "stream",
     "text": [
      "Maximum absolute overhead: 0.0471\n",
      "Maximum relative overhead: 0.93 %\n"
     ]
    },
    {
     "name": "stderr",
     "output_type": "stream",
     "text": [
      "\n"
     ]
    },
    {
     "data": {
      "text/plain": [
       "(array([5.04873129, 5.04657062, 5.04677307, 5.04884595, 5.0473163 ,\n",
       "        5.0486622 , 5.04661374, 5.04849787, 5.04695842, 5.04865761,\n",
       "        5.04702978, 5.04732894, 5.04798469, 5.04782882, 5.04794853,\n",
       "        5.04891135, 5.04778863, 5.0474892 , 5.04845118, 5.04870344,\n",
       "        5.04692647, 5.0466256 , 5.04761184, 5.04772784, 5.04902663,\n",
       "        5.04909297, 5.0483021 , 5.0477679 , 5.04680325, 5.0470743 ,\n",
       "        5.04774866, 5.04810709, 5.04799223, 5.04751116, 5.04805406,\n",
       "        5.04894296, 5.04914948, 5.04813692, 5.04773768, 5.04766498,\n",
       "        5.04820142, 5.04674641, 5.04612653, 5.04954575, 5.04798425,\n",
       "        5.04911074, 5.04806961, 5.04883531, 5.04730741, 5.04820349,\n",
       "        5.0475805 , 5.04728574, 5.0476444 , 5.04874619, 5.04859174,\n",
       "        5.04892564, 5.04605025, 5.04941888, 5.04747965, 5.04812066,\n",
       "        5.04752634, 5.04696448, 5.04841835, 5.0466188 , 5.04660691,\n",
       "        5.04749418, 5.04658043, 5.04970472, 5.04751697, 5.0466669 ,\n",
       "        5.0487524 , 5.04709681, 5.0476797 , 5.04769936, 5.04902494,\n",
       "        5.04895012, 5.04639921, 5.04668295, 5.04814853, 5.05002499,\n",
       "        5.04836993, 5.04791812, 5.04791608, 5.04752935, 5.04711372,\n",
       "        5.0493911 , 5.0481115 , 5.04940273, 5.04633744, 5.04810413,\n",
       "        5.04664947, 5.04846792, 5.04931599, 5.04653048, 5.04739448,\n",
       "        5.04770291, 5.04775435, 5.04835903, 5.04771543, 5.04719952]),\n",
       " array([5.08750168, 5.08959662, 5.08385052, 5.08566755, 5.09129431,\n",
       "        5.08733714, 5.08326359, 5.08649926, 5.08471898, 5.08960345,\n",
       "        5.08905128, 5.08647551, 5.08718853, 5.08483556, 5.08624012,\n",
       "        5.0923847 , 5.08303542, 5.09104248, 5.09007439, 5.09315758,\n",
       "        5.0888587 , 5.08802607, 5.08047001, 5.08625601, 5.08671615,\n",
       "        5.08749734, 5.08889974, 5.09129045, 5.08115863, 5.08742054,\n",
       "        5.08744216, 5.08290823, 5.08786022, 5.08444307, 5.08588086,\n",
       "        5.0888699 , 5.08785647, 5.08923196, 5.08477889, 5.08810134,\n",
       "        5.08745848, 5.0884914 , 5.07773614, 5.08755609, 5.08656536,\n",
       "        5.09034321, 5.08933964, 5.08724775, 5.08963167, 5.08699161,\n",
       "        5.08589455, 5.09002287, 5.0845995 , 5.08901659, 5.08960003,\n",
       "        5.08730749, 5.09016844, 5.08705772, 5.0881861 , 5.09211099,\n",
       "        5.08584096, 5.08019499, 5.08920872, 5.08489129, 5.08355797,\n",
       "        5.08597065, 5.08314265, 5.08081851, 5.08352519, 5.08436051,\n",
       "        5.08963755, 5.08161253, 5.08795184, 5.0894477 , 5.08602634,\n",
       "        5.08996221, 5.0892723 , 5.08327869, 5.08985089, 5.09137262,\n",
       "        5.08675653, 5.08829172, 5.08258285, 5.09197218, 5.08176347,\n",
       "        5.08974509, 5.09044136, 5.09122814, 5.0839789 , 5.09055789,\n",
       "        5.08757338, 5.08641071, 5.0910912 , 5.08742698, 5.09451667,\n",
       "        5.08906716, 5.08875837, 5.08622083, 5.08630715, 5.09299419]))"
      ]
     },
     "execution_count": 4,
     "metadata": {},
     "output_type": "execute_result"
    }
   ],
   "source": [
    "values = []\n",
    "counts = []\n",
    "counts_12bit = []\n",
    "entropies = []\n",
    "cross_entropies_12bit = []\n",
    "for quantized_matrix in tqdm(quantized_matrices):\n",
    "    v, c = np.unique(quantized_matrix, return_counts=True)\n",
    "    order = np.argsort(c)[::-1]\n",
    "    v = v[order]\n",
    "    c = c[order]\n",
    "    values.append(v)\n",
    "    counts.append(c)\n",
    "    entropies.append(np.log2(quantized_matrix.size) - c @ np.log2(c) / quantized_matrix.size)\n",
    "    c12bit = np.maximum(np.round(c / 256).astype(np.int32), 1)\n",
    "    excess = sum(c12bit) - (1 << 12)\n",
    "    assert excess >= 0 and excess <= len(c)\n",
    "    if excess != 0:\n",
    "        assert c12bit[excess - 1] > 1\n",
    "    c12bit[:excess] -= 1\n",
    "    counts_12bit.append(c12bit)\n",
    "    cross_entropies_12bit.append(12 - c12bit @ np.log2(c12bit) / (1 << 12))\n",
    "entropies = np.array(entropies)\n",
    "cross_entropies_12bit = np.array(cross_entropies_12bit)\n",
    "overheads = cross_entropies_12bit - entropies\n",
    "print(f'Maximum absolute overhead: {overheads.max():.4f}')\n",
    "print(f'Maximum relative overhead: {(overheads * 100 / entropies).max():.2f} %')\n",
    "entropies, cross_entropies_12bit"
   ]
  },
  {
   "cell_type": "code",
   "execution_count": 5,
   "metadata": {},
   "outputs": [],
   "source": [
    "inv_vocabs = [{v: i for i, v in enumerate(vs)} for vs in values]"
   ]
  },
  {
   "cell_type": "markdown",
   "metadata": {},
   "source": [
    "### Entropy Coder"
   ]
  },
  {
   "cell_type": "code",
   "execution_count": 6,
   "metadata": {},
   "outputs": [],
   "source": [
    "class AnsCoder:\n",
    "    def __init__(self, precision, word_size, compressed=[]):\n",
    "        self.precision = precision\n",
    "        self.word_size = word_size\n",
    "        self.word_mask = (1 << word_size) - 1\n",
    "        self.quantile_mask = (1 << precision) - 1\n",
    "        self.bulk = compressed.copy()\n",
    "        self.head = 0\n",
    "        while len(self.bulk) != 0 and (self.head >> word_size) == 0:\n",
    "            self.head = (self.head << word_size) | self.bulk.pop()\n",
    "\n",
    "    def push(self, symbol, m):\n",
    "        if (self.head >> (2 * self.word_size - self.precision)) >= m[symbol]:\n",
    "            self.bulk.append(self.head & self.word_mask)\n",
    "            self.head >>= self.word_size\n",
    "\n",
    "        z = self.head % m[symbol] + sum(m[0:symbol])\n",
    "        self.head //= m[symbol]\n",
    "        self.head = (self.head << self.precision) | z\n",
    "\n",
    "    def pop(self, m):\n",
    "        z = self.head & self.quantile_mask\n",
    "        self.head >>= self.precision\n",
    "        for symbol, m_symbol in enumerate(m):\n",
    "            if z >= m_symbol:\n",
    "                z -= m_symbol\n",
    "            else:\n",
    "                break\n",
    "        self.head = self.head * m_symbol + z\n",
    "        if (self.head >> self.word_size) == 0 and len(self.bulk) != 0:\n",
    "            self.head = (self.head << self.word_size) | self.bulk.pop()\n",
    "        return symbol\n",
    "\n",
    "    def get_compressed(self):\n",
    "        compressed = self.bulk.copy()\n",
    "        head = self.head\n",
    "        while head != 0:\n",
    "            compressed.append(head & self.word_mask)\n",
    "            head >>= self.word_size\n",
    "        return compressed"
   ]
  },
  {
   "cell_type": "markdown",
   "metadata": {},
   "source": [
    "## Compression 1: independently compressed matrix entries, with non-interleaved matrices"
   ]
  },
  {
   "cell_type": "markdown",
   "metadata": {},
   "source": [
    "### Compress matrices"
   ]
  },
  {
   "cell_type": "code",
   "execution_count": 7,
   "metadata": {},
   "outputs": [],
   "source": [
    "# with open(\"100-compressed-matrices.pickle\", \"rb\") as f:\n",
    "#     d = pickle.load(f)\n",
    "#     compressed_stream = d[\"compressed_stream\"]\n",
    "#     coder_offsets = d[\"coder_offsets\"]\n",
    "#     del d"
   ]
  },
  {
   "cell_type": "code",
   "execution_count": 8,
   "metadata": {},
   "outputs": [
    {
     "name": "stderr",
     "output_type": "stream",
     "text": [
      "1it [00:10, 10.33s/it]"
     ]
    },
    {
     "name": "stdout",
     "output_type": "stream",
     "text": [
      "Encoded matrix 99; words emitted so far: 0\n"
     ]
    },
    {
     "name": "stderr",
     "output_type": "stream",
     "text": [
      "2it [00:16,  7.64s/it]"
     ]
    },
    {
     "name": "stdout",
     "output_type": "stream",
     "text": [
      "Encoded matrix 98; words emitted so far: 0\n"
     ]
    },
    {
     "name": "stderr",
     "output_type": "stream",
     "text": [
      "3it [00:21,  6.83s/it]"
     ]
    },
    {
     "name": "stdout",
     "output_type": "stream",
     "text": [
      "Encoded matrix 97; words emitted so far: 6442\n"
     ]
    },
    {
     "name": "stderr",
     "output_type": "stream",
     "text": [
      "4it [00:28,  6.55s/it]"
     ]
    },
    {
     "name": "stdout",
     "output_type": "stream",
     "text": [
      "Encoded matrix 96; words emitted so far: 256628\n"
     ]
    },
    {
     "name": "stderr",
     "output_type": "stream",
     "text": [
      "5it [00:33,  6.27s/it]"
     ]
    },
    {
     "name": "stdout",
     "output_type": "stream",
     "text": [
      "Encoded matrix 95; words emitted so far: 1048779\n"
     ]
    },
    {
     "name": "stderr",
     "output_type": "stream",
     "text": [
      "6it [00:39,  6.13s/it]"
     ]
    },
    {
     "name": "stdout",
     "output_type": "stream",
     "text": [
      "Encoded matrix 94; words emitted so far: 1061698\n"
     ]
    },
    {
     "name": "stderr",
     "output_type": "stream",
     "text": [
      "7it [00:45,  6.09s/it]"
     ]
    },
    {
     "name": "stdout",
     "output_type": "stream",
     "text": [
      "Encoded matrix 93; words emitted so far: 1274851\n"
     ]
    },
    {
     "name": "stderr",
     "output_type": "stream",
     "text": [
      "8it [00:51,  6.01s/it]"
     ]
    },
    {
     "name": "stdout",
     "output_type": "stream",
     "text": [
      "Encoded matrix 92; words emitted so far: 2035984\n"
     ]
    },
    {
     "name": "stderr",
     "output_type": "stream",
     "text": [
      "9it [00:57,  6.01s/it]"
     ]
    },
    {
     "name": "stdout",
     "output_type": "stream",
     "text": [
      "Encoded matrix 91; words emitted so far: 2114211\n"
     ]
    },
    {
     "name": "stderr",
     "output_type": "stream",
     "text": [
      "10it [01:03,  6.04s/it]"
     ]
    },
    {
     "name": "stdout",
     "output_type": "stream",
     "text": [
      "Encoded matrix 90; words emitted so far: 2294396\n"
     ]
    },
    {
     "name": "stderr",
     "output_type": "stream",
     "text": [
      "11it [01:09,  6.00s/it]"
     ]
    },
    {
     "name": "stdout",
     "output_type": "stream",
     "text": [
      "Encoded matrix 89; words emitted so far: 2910784\n"
     ]
    },
    {
     "name": "stderr",
     "output_type": "stream",
     "text": [
      "12it [01:15,  6.01s/it]"
     ]
    },
    {
     "name": "stdout",
     "output_type": "stream",
     "text": [
      "Encoded matrix 88; words emitted so far: 3164586\n"
     ]
    },
    {
     "name": "stderr",
     "output_type": "stream",
     "text": [
      "13it [01:21,  6.01s/it]"
     ]
    },
    {
     "name": "stdout",
     "output_type": "stream",
     "text": [
      "Encoded matrix 87; words emitted so far: 3316701\n"
     ]
    },
    {
     "name": "stderr",
     "output_type": "stream",
     "text": [
      "14it [01:27,  5.99s/it]"
     ]
    },
    {
     "name": "stdout",
     "output_type": "stream",
     "text": [
      "Encoded matrix 86; words emitted so far: 3820261\n"
     ]
    },
    {
     "name": "stderr",
     "output_type": "stream",
     "text": [
      "15it [01:33,  5.97s/it]"
     ]
    },
    {
     "name": "stdout",
     "output_type": "stream",
     "text": [
      "Encoded matrix 85; words emitted so far: 4203805\n"
     ]
    },
    {
     "name": "stderr",
     "output_type": "stream",
     "text": [
      "16it [01:39,  6.01s/it]"
     ]
    },
    {
     "name": "stdout",
     "output_type": "stream",
     "text": [
      "Encoded matrix 84; words emitted so far: 4343773\n"
     ]
    },
    {
     "name": "stderr",
     "output_type": "stream",
     "text": [
      "17it [01:45,  6.04s/it]"
     ]
    },
    {
     "name": "stdout",
     "output_type": "stream",
     "text": [
      "Encoded matrix 83; words emitted so far: 4762724\n"
     ]
    },
    {
     "name": "stderr",
     "output_type": "stream",
     "text": [
      "18it [01:51,  6.06s/it]"
     ]
    },
    {
     "name": "stdout",
     "output_type": "stream",
     "text": [
      "Encoded matrix 82; words emitted so far: 5207027\n"
     ]
    },
    {
     "name": "stderr",
     "output_type": "stream",
     "text": [
      "19it [01:58,  6.11s/it]"
     ]
    },
    {
     "name": "stdout",
     "output_type": "stream",
     "text": [
      "Encoded matrix 81; words emitted so far: 5373774\n"
     ]
    },
    {
     "name": "stderr",
     "output_type": "stream",
     "text": [
      "20it [02:04,  6.12s/it]"
     ]
    },
    {
     "name": "stdout",
     "output_type": "stream",
     "text": [
      "Encoded matrix 80; words emitted so far: 5727253\n"
     ]
    },
    {
     "name": "stderr",
     "output_type": "stream",
     "text": [
      "21it [02:10,  6.11s/it]"
     ]
    },
    {
     "name": "stdout",
     "output_type": "stream",
     "text": [
      "Encoded matrix 79; words emitted so far: 6184446\n"
     ]
    },
    {
     "name": "stderr",
     "output_type": "stream",
     "text": [
      "22it [02:16,  6.19s/it]"
     ]
    },
    {
     "name": "stdout",
     "output_type": "stream",
     "text": [
      "Encoded matrix 78; words emitted so far: 6404355\n"
     ]
    },
    {
     "name": "stderr",
     "output_type": "stream",
     "text": [
      "23it [02:22,  6.16s/it]"
     ]
    },
    {
     "name": "stdout",
     "output_type": "stream",
     "text": [
      "Encoded matrix 77; words emitted so far: 6708662\n"
     ]
    },
    {
     "name": "stderr",
     "output_type": "stream",
     "text": [
      "24it [02:28,  6.12s/it]"
     ]
    },
    {
     "name": "stdout",
     "output_type": "stream",
     "text": [
      "Encoded matrix 76; words emitted so far: 7152625\n"
     ]
    },
    {
     "name": "stderr",
     "output_type": "stream",
     "text": [
      "25it [02:34,  6.08s/it]"
     ]
    },
    {
     "name": "stdout",
     "output_type": "stream",
     "text": [
      "Encoded matrix 75; words emitted so far: 7428623\n"
     ]
    },
    {
     "name": "stderr",
     "output_type": "stream",
     "text": [
      "26it [02:40,  6.09s/it]"
     ]
    },
    {
     "name": "stdout",
     "output_type": "stream",
     "text": [
      "Encoded matrix 74; words emitted so far: 7701463\n"
     ]
    },
    {
     "name": "stderr",
     "output_type": "stream",
     "text": [
      "27it [02:46,  6.10s/it]"
     ]
    },
    {
     "name": "stdout",
     "output_type": "stream",
     "text": [
      "Encoded matrix 73; words emitted so far: 8120840\n"
     ]
    },
    {
     "name": "stderr",
     "output_type": "stream",
     "text": [
      "28it [02:53,  6.12s/it]"
     ]
    },
    {
     "name": "stdout",
     "output_type": "stream",
     "text": [
      "Encoded matrix 72; words emitted so far: 8441861\n"
     ]
    },
    {
     "name": "stderr",
     "output_type": "stream",
     "text": [
      "29it [02:59,  6.09s/it]"
     ]
    },
    {
     "name": "stdout",
     "output_type": "stream",
     "text": [
      "Encoded matrix 71; words emitted so far: 8702378\n"
     ]
    },
    {
     "name": "stderr",
     "output_type": "stream",
     "text": [
      "30it [03:05,  6.05s/it]"
     ]
    },
    {
     "name": "stdout",
     "output_type": "stream",
     "text": [
      "Encoded matrix 70; words emitted so far: 9093002\n"
     ]
    },
    {
     "name": "stderr",
     "output_type": "stream",
     "text": [
      "31it [03:11,  6.01s/it]"
     ]
    },
    {
     "name": "stdout",
     "output_type": "stream",
     "text": [
      "Encoded matrix 69; words emitted so far: 9444019\n"
     ]
    },
    {
     "name": "stderr",
     "output_type": "stream",
     "text": [
      "32it [03:16,  5.99s/it]"
     ]
    },
    {
     "name": "stdout",
     "output_type": "stream",
     "text": [
      "Encoded matrix 68; words emitted so far: 9709118\n"
     ]
    },
    {
     "name": "stderr",
     "output_type": "stream",
     "text": [
      "33it [03:22,  5.97s/it]"
     ]
    },
    {
     "name": "stdout",
     "output_type": "stream",
     "text": [
      "Encoded matrix 67; words emitted so far: 10069516\n"
     ]
    },
    {
     "name": "stderr",
     "output_type": "stream",
     "text": [
      "34it [03:28,  5.94s/it]"
     ]
    },
    {
     "name": "stdout",
     "output_type": "stream",
     "text": [
      "Encoded matrix 66; words emitted so far: 10437339\n"
     ]
    },
    {
     "name": "stderr",
     "output_type": "stream",
     "text": [
      "35it [03:34,  5.92s/it]"
     ]
    },
    {
     "name": "stdout",
     "output_type": "stream",
     "text": [
      "Encoded matrix 65; words emitted so far: 10716957\n"
     ]
    },
    {
     "name": "stderr",
     "output_type": "stream",
     "text": [
      "36it [03:40,  5.93s/it]"
     ]
    },
    {
     "name": "stdout",
     "output_type": "stream",
     "text": [
      "Encoded matrix 64; words emitted so far: 11052762\n"
     ]
    },
    {
     "name": "stderr",
     "output_type": "stream",
     "text": [
      "37it [03:46,  5.93s/it]"
     ]
    },
    {
     "name": "stdout",
     "output_type": "stream",
     "text": [
      "Encoded matrix 63; words emitted so far: 11425707\n"
     ]
    },
    {
     "name": "stderr",
     "output_type": "stream",
     "text": [
      "38it [03:52,  5.92s/it]"
     ]
    },
    {
     "name": "stdout",
     "output_type": "stream",
     "text": [
      "Encoded matrix 62; words emitted so far: 11722858\n"
     ]
    },
    {
     "name": "stderr",
     "output_type": "stream",
     "text": [
      "39it [03:58,  5.92s/it]"
     ]
    },
    {
     "name": "stdout",
     "output_type": "stream",
     "text": [
      "Encoded matrix 61; words emitted so far: 12041996\n"
     ]
    },
    {
     "name": "stderr",
     "output_type": "stream",
     "text": [
      "40it [04:04,  5.91s/it]"
     ]
    },
    {
     "name": "stdout",
     "output_type": "stream",
     "text": [
      "Encoded matrix 60; words emitted so far: 12410758\n"
     ]
    },
    {
     "name": "stderr",
     "output_type": "stream",
     "text": [
      "41it [04:10,  5.91s/it]"
     ]
    },
    {
     "name": "stdout",
     "output_type": "stream",
     "text": [
      "Encoded matrix 59; words emitted so far: 12726113\n"
     ]
    },
    {
     "name": "stderr",
     "output_type": "stream",
     "text": [
      "42it [04:16,  5.92s/it]"
     ]
    },
    {
     "name": "stdout",
     "output_type": "stream",
     "text": [
      "Encoded matrix 58; words emitted so far: 13035503\n"
     ]
    },
    {
     "name": "stderr",
     "output_type": "stream",
     "text": [
      "43it [04:22,  5.92s/it]"
     ]
    },
    {
     "name": "stdout",
     "output_type": "stream",
     "text": [
      "Encoded matrix 57; words emitted so far: 13395640\n"
     ]
    },
    {
     "name": "stderr",
     "output_type": "stream",
     "text": [
      "44it [04:27,  5.92s/it]"
     ]
    },
    {
     "name": "stdout",
     "output_type": "stream",
     "text": [
      "Encoded matrix 56; words emitted so far: 13725240\n"
     ]
    },
    {
     "name": "stderr",
     "output_type": "stream",
     "text": [
      "45it [04:34,  5.98s/it]"
     ]
    },
    {
     "name": "stdout",
     "output_type": "stream",
     "text": [
      "Encoded matrix 55; words emitted so far: 14032249\n"
     ]
    },
    {
     "name": "stderr",
     "output_type": "stream",
     "text": [
      "46it [04:40,  6.07s/it]"
     ]
    },
    {
     "name": "stdout",
     "output_type": "stream",
     "text": [
      "Encoded matrix 54; words emitted so far: 14382219\n"
     ]
    },
    {
     "name": "stderr",
     "output_type": "stream",
     "text": [
      "47it [04:46,  6.03s/it]"
     ]
    },
    {
     "name": "stdout",
     "output_type": "stream",
     "text": [
      "Encoded matrix 53; words emitted so far: 14721414\n"
     ]
    },
    {
     "name": "stderr",
     "output_type": "stream",
     "text": [
      "48it [04:52,  6.03s/it]"
     ]
    },
    {
     "name": "stdout",
     "output_type": "stream",
     "text": [
      "Encoded matrix 52; words emitted so far: 15030574\n"
     ]
    },
    {
     "name": "stderr",
     "output_type": "stream",
     "text": [
      "49it [04:58,  6.13s/it]"
     ]
    },
    {
     "name": "stdout",
     "output_type": "stream",
     "text": [
      "Encoded matrix 51; words emitted so far: 15370722\n"
     ]
    },
    {
     "name": "stderr",
     "output_type": "stream",
     "text": [
      "50it [05:04,  6.13s/it]"
     ]
    },
    {
     "name": "stdout",
     "output_type": "stream",
     "text": [
      "Encoded matrix 50; words emitted so far: 15714206\n"
     ]
    },
    {
     "name": "stderr",
     "output_type": "stream",
     "text": [
      "51it [05:10,  6.09s/it]"
     ]
    },
    {
     "name": "stdout",
     "output_type": "stream",
     "text": [
      "Encoded matrix 49; words emitted so far: 16029058\n"
     ]
    },
    {
     "name": "stderr",
     "output_type": "stream",
     "text": [
      "52it [05:17,  6.13s/it]"
     ]
    },
    {
     "name": "stdout",
     "output_type": "stream",
     "text": [
      "Encoded matrix 48; words emitted so far: 16360833\n"
     ]
    },
    {
     "name": "stderr",
     "output_type": "stream",
     "text": [
      "53it [05:23,  6.10s/it]"
     ]
    },
    {
     "name": "stdout",
     "output_type": "stream",
     "text": [
      "Encoded matrix 47; words emitted so far: 16706085\n"
     ]
    },
    {
     "name": "stderr",
     "output_type": "stream",
     "text": [
      "54it [05:29,  6.08s/it]"
     ]
    },
    {
     "name": "stdout",
     "output_type": "stream",
     "text": [
      "Encoded matrix 46; words emitted so far: 17026548\n"
     ]
    },
    {
     "name": "stderr",
     "output_type": "stream",
     "text": [
      "55it [05:35,  6.08s/it]"
     ]
    },
    {
     "name": "stdout",
     "output_type": "stream",
     "text": [
      "Encoded matrix 45; words emitted so far: 17353267\n"
     ]
    },
    {
     "name": "stderr",
     "output_type": "stream",
     "text": [
      "56it [05:41,  6.10s/it]"
     ]
    },
    {
     "name": "stdout",
     "output_type": "stream",
     "text": [
      "Encoded matrix 44; words emitted so far: 17697071\n"
     ]
    },
    {
     "name": "stderr",
     "output_type": "stream",
     "text": [
      "57it [05:47,  6.15s/it]"
     ]
    },
    {
     "name": "stdout",
     "output_type": "stream",
     "text": [
      "Encoded matrix 43; words emitted so far: 18023448\n"
     ]
    },
    {
     "name": "stderr",
     "output_type": "stream",
     "text": [
      "58it [05:53,  6.15s/it]"
     ]
    },
    {
     "name": "stdout",
     "output_type": "stream",
     "text": [
      "Encoded matrix 42; words emitted so far: 18346812\n"
     ]
    },
    {
     "name": "stderr",
     "output_type": "stream",
     "text": [
      "59it [05:59,  6.13s/it]"
     ]
    },
    {
     "name": "stdout",
     "output_type": "stream",
     "text": [
      "Encoded matrix 41; words emitted so far: 18687526\n"
     ]
    },
    {
     "name": "stderr",
     "output_type": "stream",
     "text": [
      "60it [06:05,  6.11s/it]"
     ]
    },
    {
     "name": "stdout",
     "output_type": "stream",
     "text": [
      "Encoded matrix 40; words emitted so far: 19018871\n"
     ]
    },
    {
     "name": "stderr",
     "output_type": "stream",
     "text": [
      "61it [06:11,  6.09s/it]"
     ]
    },
    {
     "name": "stdout",
     "output_type": "stream",
     "text": [
      "Encoded matrix 39; words emitted so far: 19341560\n"
     ]
    },
    {
     "name": "stderr",
     "output_type": "stream",
     "text": [
      "62it [06:17,  6.08s/it]"
     ]
    },
    {
     "name": "stdout",
     "output_type": "stream",
     "text": [
      "Encoded matrix 38; words emitted so far: 19679065\n"
     ]
    },
    {
     "name": "stderr",
     "output_type": "stream",
     "text": [
      "63it [06:23,  6.06s/it]"
     ]
    },
    {
     "name": "stdout",
     "output_type": "stream",
     "text": [
      "Encoded matrix 37; words emitted so far: 20013155\n"
     ]
    },
    {
     "name": "stderr",
     "output_type": "stream",
     "text": [
      "64it [06:30,  6.06s/it]"
     ]
    },
    {
     "name": "stdout",
     "output_type": "stream",
     "text": [
      "Encoded matrix 36; words emitted so far: 20336870\n"
     ]
    },
    {
     "name": "stderr",
     "output_type": "stream",
     "text": [
      "65it [06:36,  6.05s/it]"
     ]
    },
    {
     "name": "stdout",
     "output_type": "stream",
     "text": [
      "Encoded matrix 35; words emitted so far: 20670225\n"
     ]
    },
    {
     "name": "stderr",
     "output_type": "stream",
     "text": [
      "66it [06:42,  6.04s/it]"
     ]
    },
    {
     "name": "stdout",
     "output_type": "stream",
     "text": [
      "Encoded matrix 34; words emitted so far: 21006191\n"
     ]
    },
    {
     "name": "stderr",
     "output_type": "stream",
     "text": [
      "67it [06:48,  6.05s/it]"
     ]
    },
    {
     "name": "stdout",
     "output_type": "stream",
     "text": [
      "Encoded matrix 33; words emitted so far: 21332327\n"
     ]
    },
    {
     "name": "stderr",
     "output_type": "stream",
     "text": [
      "68it [06:54,  6.06s/it]"
     ]
    },
    {
     "name": "stdout",
     "output_type": "stream",
     "text": [
      "Encoded matrix 32; words emitted so far: 21663193\n"
     ]
    },
    {
     "name": "stderr",
     "output_type": "stream",
     "text": [
      "69it [07:00,  6.04s/it]"
     ]
    },
    {
     "name": "stdout",
     "output_type": "stream",
     "text": [
      "Encoded matrix 31; words emitted so far: 21999554\n"
     ]
    },
    {
     "name": "stderr",
     "output_type": "stream",
     "text": [
      "70it [07:06,  6.03s/it]"
     ]
    },
    {
     "name": "stdout",
     "output_type": "stream",
     "text": [
      "Encoded matrix 30; words emitted so far: 22327112\n"
     ]
    },
    {
     "name": "stderr",
     "output_type": "stream",
     "text": [
      "71it [07:12,  6.01s/it]"
     ]
    },
    {
     "name": "stdout",
     "output_type": "stream",
     "text": [
      "Encoded matrix 29; words emitted so far: 22655947\n"
     ]
    },
    {
     "name": "stderr",
     "output_type": "stream",
     "text": [
      "72it [07:18,  6.01s/it]"
     ]
    },
    {
     "name": "stdout",
     "output_type": "stream",
     "text": [
      "Encoded matrix 28; words emitted so far: 22991942\n"
     ]
    },
    {
     "name": "stderr",
     "output_type": "stream",
     "text": [
      "73it [07:24,  6.00s/it]"
     ]
    },
    {
     "name": "stdout",
     "output_type": "stream",
     "text": [
      "Encoded matrix 27; words emitted so far: 23321391\n"
     ]
    },
    {
     "name": "stderr",
     "output_type": "stream",
     "text": [
      "74it [07:30,  6.01s/it]"
     ]
    },
    {
     "name": "stdout",
     "output_type": "stream",
     "text": [
      "Encoded matrix 26; words emitted so far: 23649216\n"
     ]
    },
    {
     "name": "stderr",
     "output_type": "stream",
     "text": [
      "75it [07:36,  6.04s/it]"
     ]
    },
    {
     "name": "stdout",
     "output_type": "stream",
     "text": [
      "Encoded matrix 25; words emitted so far: 23984877\n"
     ]
    },
    {
     "name": "stderr",
     "output_type": "stream",
     "text": [
      "76it [07:42,  6.07s/it]"
     ]
    },
    {
     "name": "stdout",
     "output_type": "stream",
     "text": [
      "Encoded matrix 24; words emitted so far: 24315656\n"
     ]
    },
    {
     "name": "stderr",
     "output_type": "stream",
     "text": [
      "77it [07:48,  6.03s/it]"
     ]
    },
    {
     "name": "stdout",
     "output_type": "stream",
     "text": [
      "Encoded matrix 23; words emitted so far: 24644003\n"
     ]
    },
    {
     "name": "stderr",
     "output_type": "stream",
     "text": [
      "78it [07:54,  6.02s/it]"
     ]
    },
    {
     "name": "stdout",
     "output_type": "stream",
     "text": [
      "Encoded matrix 22; words emitted so far: 24977312\n"
     ]
    },
    {
     "name": "stderr",
     "output_type": "stream",
     "text": [
      "79it [08:00,  6.02s/it]"
     ]
    },
    {
     "name": "stdout",
     "output_type": "stream",
     "text": [
      "Encoded matrix 21; words emitted so far: 25309427\n"
     ]
    },
    {
     "name": "stderr",
     "output_type": "stream",
     "text": [
      "80it [08:06,  6.03s/it]"
     ]
    },
    {
     "name": "stdout",
     "output_type": "stream",
     "text": [
      "Encoded matrix 20; words emitted so far: 25637462\n"
     ]
    },
    {
     "name": "stderr",
     "output_type": "stream",
     "text": [
      "81it [08:12,  6.04s/it]"
     ]
    },
    {
     "name": "stdout",
     "output_type": "stream",
     "text": [
      "Encoded matrix 19; words emitted so far: 25969723\n"
     ]
    },
    {
     "name": "stderr",
     "output_type": "stream",
     "text": [
      "82it [08:18,  6.07s/it]"
     ]
    },
    {
     "name": "stdout",
     "output_type": "stream",
     "text": [
      "Encoded matrix 18; words emitted so far: 26302483\n"
     ]
    },
    {
     "name": "stderr",
     "output_type": "stream",
     "text": [
      "83it [08:24,  6.08s/it]"
     ]
    },
    {
     "name": "stdout",
     "output_type": "stream",
     "text": [
      "Encoded matrix 17; words emitted so far: 26632281\n"
     ]
    },
    {
     "name": "stderr",
     "output_type": "stream",
     "text": [
      "84it [08:30,  6.08s/it]"
     ]
    },
    {
     "name": "stdout",
     "output_type": "stream",
     "text": [
      "Encoded matrix 16; words emitted so far: 26963760\n"
     ]
    },
    {
     "name": "stderr",
     "output_type": "stream",
     "text": [
      "85it [08:37,  6.15s/it]"
     ]
    },
    {
     "name": "stdout",
     "output_type": "stream",
     "text": [
      "Encoded matrix 15; words emitted so far: 27296000\n"
     ]
    },
    {
     "name": "stderr",
     "output_type": "stream",
     "text": [
      "86it [08:43,  6.12s/it]"
     ]
    },
    {
     "name": "stdout",
     "output_type": "stream",
     "text": [
      "Encoded matrix 14; words emitted so far: 27625990\n"
     ]
    },
    {
     "name": "stderr",
     "output_type": "stream",
     "text": [
      "87it [08:49,  6.10s/it]"
     ]
    },
    {
     "name": "stdout",
     "output_type": "stream",
     "text": [
      "Encoded matrix 13; words emitted so far: 27956974\n"
     ]
    },
    {
     "name": "stderr",
     "output_type": "stream",
     "text": [
      "88it [08:55,  6.09s/it]"
     ]
    },
    {
     "name": "stdout",
     "output_type": "stream",
     "text": [
      "Encoded matrix 12; words emitted so far: 28289043\n"
     ]
    },
    {
     "name": "stderr",
     "output_type": "stream",
     "text": [
      "89it [09:01,  6.06s/it]"
     ]
    },
    {
     "name": "stdout",
     "output_type": "stream",
     "text": [
      "Encoded matrix 11; words emitted so far: 28620249\n"
     ]
    },
    {
     "name": "stderr",
     "output_type": "stream",
     "text": [
      "90it [09:07,  6.04s/it]"
     ]
    },
    {
     "name": "stdout",
     "output_type": "stream",
     "text": [
      "Encoded matrix 10; words emitted so far: 28950098\n"
     ]
    },
    {
     "name": "stderr",
     "output_type": "stream",
     "text": [
      "91it [09:13,  6.03s/it]"
     ]
    },
    {
     "name": "stdout",
     "output_type": "stream",
     "text": [
      "Encoded matrix 9; words emitted so far: 29282315\n"
     ]
    },
    {
     "name": "stderr",
     "output_type": "stream",
     "text": [
      "92it [09:19,  6.02s/it]"
     ]
    },
    {
     "name": "stdout",
     "output_type": "stream",
     "text": [
      "Encoded matrix 8; words emitted so far: 29613851\n"
     ]
    },
    {
     "name": "stderr",
     "output_type": "stream",
     "text": [
      "93it [09:25,  6.01s/it]"
     ]
    },
    {
     "name": "stdout",
     "output_type": "stream",
     "text": [
      "Encoded matrix 7; words emitted so far: 29943588\n"
     ]
    },
    {
     "name": "stderr",
     "output_type": "stream",
     "text": [
      "94it [09:31,  6.00s/it]"
     ]
    },
    {
     "name": "stdout",
     "output_type": "stream",
     "text": [
      "Encoded matrix 6; words emitted so far: 30275837\n"
     ]
    },
    {
     "name": "stderr",
     "output_type": "stream",
     "text": [
      "95it [09:37,  6.00s/it]"
     ]
    },
    {
     "name": "stdout",
     "output_type": "stream",
     "text": [
      "Encoded matrix 5; words emitted so far: 30607618\n"
     ]
    },
    {
     "name": "stderr",
     "output_type": "stream",
     "text": [
      "96it [09:43,  6.00s/it]"
     ]
    },
    {
     "name": "stdout",
     "output_type": "stream",
     "text": [
      "Encoded matrix 4; words emitted so far: 30937586\n"
     ]
    },
    {
     "name": "stderr",
     "output_type": "stream",
     "text": [
      "97it [09:49,  6.03s/it]"
     ]
    },
    {
     "name": "stdout",
     "output_type": "stream",
     "text": [
      "Encoded matrix 3; words emitted so far: 31268963\n"
     ]
    },
    {
     "name": "stderr",
     "output_type": "stream",
     "text": [
      "98it [09:55,  6.02s/it]"
     ]
    },
    {
     "name": "stdout",
     "output_type": "stream",
     "text": [
      "Encoded matrix 2; words emitted so far: 31600869\n"
     ]
    },
    {
     "name": "stderr",
     "output_type": "stream",
     "text": [
      "99it [10:01,  6.02s/it]"
     ]
    },
    {
     "name": "stdout",
     "output_type": "stream",
     "text": [
      "Encoded matrix 1; words emitted so far: 31931007\n"
     ]
    },
    {
     "name": "stderr",
     "output_type": "stream",
     "text": [
      "100it [10:07,  6.07s/it]"
     ]
    },
    {
     "name": "stdout",
     "output_type": "stream",
     "text": [
      "Encoded matrix 0; words emitted so far: 32261990\n"
     ]
    },
    {
     "name": "stderr",
     "output_type": "stream",
     "text": [
      "\n"
     ]
    }
   ],
   "source": [
    "compressed_stream = []\n",
    "coder_offsets = np.zeros((len(matrices), matrices[0].size), dtype=np.uint32)\n",
    "coders = [AnsCoder(12, 16, [1, 1]) for _ in range(matrices[0].size)]\n",
    "for i in tqdm(reversed(range(len(matrices)))):\n",
    "    model = counts_12bit[i]\n",
    "    inv_vocab = inv_vocabs[i]\n",
    "    for j, entry, coder in zip(range(quantized_matrices[i].size - 1, -1, -1), reversed(quantized_matrices[i].ravel()), coders):\n",
    "        symbol_id = inv_vocab[entry]\n",
    "        coder.push(symbol_id, model)\n",
    "        if len(coder.bulk) == 1:\n",
    "            compressed_stream.append(coder.bulk[0])\n",
    "            coder.bulk = []\n",
    "        coder_offsets[i, j] = len(compressed_stream)\n",
    "    print(f'Encoded matrix {i}; words emitted so far: {coder_offsets[i, -1]}')"
   ]
  },
  {
   "cell_type": "code",
   "execution_count": 9,
   "metadata": {},
   "outputs": [],
   "source": [
    "for coder in coders:\n",
    "    assert len(coder.bulk) == 0\n",
    "    compressed = coder.get_compressed()\n",
    "    assert len(compressed) == 2\n",
    "    compressed_stream += compressed\n",
    "compressed_stream = np.array(compressed_stream, dtype=np.uint16)"
   ]
  },
  {
   "cell_type": "code",
   "execution_count": 12,
   "metadata": {},
   "outputs": [
    {
     "data": {
      "text/plain": [
       "(34691303, 5.293472747802735, 0.20617554845228003)"
      ]
     },
     "execution_count": 12,
     "metadata": {},
     "output_type": "execute_result"
    }
   ],
   "source": [
    "bitrate = len(compressed_stream) * 16 / quantized_matrices.size\n",
    "len(compressed_stream), bitrate, bitrate - cross_entropies_12bit.mean()"
   ]
  },
  {
   "cell_type": "code",
   "execution_count": 13,
   "metadata": {},
   "outputs": [],
   "source": [
    "# with open(\"100-compressed-matrices.pickle\", \"wb\") as f:\n",
    "#     pickle.dump({\"compressed_stream\": compressed_stream, \"coder_offsets\": coder_offsets}, f)"
   ]
  },
  {
   "cell_type": "code",
   "execution_count": 6,
   "metadata": {},
   "outputs": [],
   "source": [
    "with open(\"100-compressed-matrices.pickle\", \"rb\") as f:\n",
    "    d = pickle.load(f)\n",
    "    compressed_stream = d[\"compressed_stream\"]\n",
    "    coder_offsets = d[\"coder_offsets\"]\n",
    "    del d"
   ]
  },
  {
   "cell_type": "markdown",
   "metadata": {},
   "source": [
    "### Serialize to a File"
   ]
  },
  {
   "cell_type": "code",
   "execution_count": 34,
   "metadata": {},
   "outputs": [],
   "source": [
    "def serialize_matrix(i):\n",
    "    cdf = np.array([counts_12bit[i][:j].sum() for j in range(len(counts_12bit[i]) + 1)], dtype=np.uint16)\n",
    "    data_offset = np.array([len(cdf) + 1], dtype=np.uint16)\n",
    "    start = coder_offsets[i, 0]\n",
    "    end = start if i == 0 else coder_offsets[i - 1, 0]\n",
    "    data = compressed_stream[start:end][::-1]\n",
    "    return np.concatenate([data_offset, cdf, data])"
   ]
  },
  {
   "cell_type": "code",
   "execution_count": 35,
   "metadata": {},
   "outputs": [
    {
     "data": {
      "text/plain": [
       "(array([    78, 332241, 331060, 330216, 331987, 331455, 330044, 331860,\n",
       "        332325, 329815, 331617, 332295, 329927, 331284, 332145, 331064,\n",
       "        330066, 332319, 331558, 329879, 332840, 332339, 328111, 332194,\n",
       "        333385, 328425, 330857, 335742, 327901, 329529, 336072, 328910,\n",
       "        327637, 336437, 330944, 326216, 336044, 333434, 323793, 334167,\n",
       "        337582, 322769, 331419, 340793, 323443, 326455, 343883, 326798,\n",
       "        320542, 345330, 331853, 314933, 343560, 340227, 309240, 339272,\n",
       "        350052, 307086, 329680, 360216, 309468, 315432, 368840, 319216,\n",
       "        297229, 373021, 335884, 279694, 367900, 360475, 265178, 351095,\n",
       "        390701, 260596, 321099, 419455, 272920, 276076, 444041, 304387,\n",
       "        219989, 457270, 353557, 166826, 444379, 419030, 140050, 383622,\n",
       "        503638, 152196, 253879, 616465, 180265,  78305, 761215, 213233,\n",
       "         12997, 792229, 250265,   6522], dtype=uint32),\n",
       " 792229)"
      ]
     },
     "execution_count": 35,
     "metadata": {},
     "output_type": "execute_result"
    }
   ],
   "source": [
    "serialized_sizes = np.array([serialize_matrix(i).size for i in range(len(quantized_matrices))], dtype=np.uint32)\n",
    "serialized_sizes, serialized_sizes.max()"
   ]
  },
  {
   "cell_type": "code",
   "execution_count": 81,
   "metadata": {},
   "outputs": [],
   "source": [
    "# with open(\"100-compressed-matrices.bin\", \"wb\") as f:\n",
    "#     initial_coder_heads = compressed_stream[coder_offsets[0, 0]:][::-1]\n",
    "#     initial_coder_heads.tofile(f)\n",
    "#     serialized_sizes_lo = (serialized_sizes & ((1 << 16) - 1)).astype(np.uint16)\n",
    "#     serialized_sizes_hi = (serialized_sizes >> 16).astype(np.uint16)\n",
    "#     serialized_sizes_le = np.vstack([serialized_sizes_lo, serialized_sizes_hi]).T.ravel()\n",
    "#     serialized_sizes_le.tofile(f)\n",
    "#     for i in range(len(quantized_matrices)):\n",
    "#         m = serialize_matrix(i)\n",
    "#         m.tofile(f)\n",
    "#     # NOTE: this doesn't serialize the final compressed data that would be necessary\n",
    "#     # to reconstruct the original coder states (which is currently always `[1, 0]`)."
   ]
  },
  {
   "cell_type": "code",
   "execution_count": 7,
   "metadata": {},
   "outputs": [
    {
     "name": "stdout",
     "output_type": "stream",
     "text": [
      "-rw-rw-r-- 1 robamler robamler 67M Mai 12 16:47 100-compressed-matrices.bin\n"
     ]
    }
   ],
   "source": [
    "!ls -lh 100-compressed-matrices.bin"
   ]
  },
  {
   "cell_type": "markdown",
   "metadata": {},
   "source": [
    "## Debugging"
   ]
  },
  {
   "cell_type": "code",
   "execution_count": 24,
   "metadata": {},
   "outputs": [],
   "source": [
    "# Checksum adapted from rust's FxHash, but restricted to 26 bit hashes so that the\n",
    "# multiplication doesn't exceed the range of exactly representable integers in JavaScript.\n",
    "def get_checksum(i):\n",
    "    checksum = 0\n",
    "    for value in quantized_matrices[i].ravel():\n",
    "        value = inv_vocabs[i][value]\n",
    "        checksum = ((checksum & 0x001f_ffff) << 5) | (checksum >> 21) # rotate\n",
    "        checksum = (checksum ^ value) * 0x0322_0a95\n",
    "        checksum = checksum & 0x03ff_ffff # truncate to 26 bit\n",
    "    return checksum"
   ]
  },
  {
   "cell_type": "code",
   "execution_count": 57,
   "metadata": {},
   "outputs": [
    {
     "data": {
      "text/plain": [
       "[13]"
      ]
     },
     "execution_count": 57,
     "metadata": {},
     "output_type": "execute_result"
    }
   ],
   "source": [
    "[inv_vocabs[1][i] for i in quantized_matrices[1].ravel()[[32_768]]]"
   ]
  },
  {
   "cell_type": "code",
   "execution_count": null,
   "metadata": {},
   "outputs": [
    {
     "name": "stdout",
     "output_type": "stream",
     "text": [
      "checksum of matrix 0: 55445785\n",
      "checksum of matrix 1: 15163511\n",
      "checksum of matrix 2: 6664559\n",
      "checksum of matrix 3: 15747500\n",
      "checksum of matrix 4: 5573655\n",
      "checksum of matrix 5: 27711411\n",
      "checksum of matrix 6: 20047205\n",
      "checksum of matrix 7: 10641525\n",
      "checksum of matrix 8: 64606195\n",
      "checksum of matrix 9: 65232545\n",
      "checksum of matrix 10: 51903642\n",
      "checksum of matrix 11: 57475160\n",
      "checksum of matrix 12: 54761909\n",
      "checksum of matrix 13: 30428408\n",
      "checksum of matrix 14: 22313942\n",
      "checksum of matrix 15: 33179881\n",
      "checksum of matrix 16: 37189258\n",
      "checksum of matrix 17: 16278593\n",
      "checksum of matrix 18: 56573661\n",
      "checksum of matrix 19: 41121083\n",
      "checksum of matrix 20: 55929650\n",
      "checksum of matrix 21: 43756132\n",
      "checksum of matrix 22: 28003007\n",
      "checksum of matrix 23: 56424187\n",
      "checksum of matrix 24: 28589585\n",
      "checksum of matrix 25: 37515944\n",
      "checksum of matrix 26: 58783295\n",
      "checksum of matrix 27: 57634150\n",
      "checksum of matrix 28: 6008159\n",
      "checksum of matrix 29: 16510335\n",
      "checksum of matrix 30: 64138918\n",
      "checksum of matrix 31: 32039546\n",
      "checksum of matrix 32: 35538825\n",
      "checksum of matrix 33: 31935232\n",
      "checksum of matrix 34: 23331306\n",
      "checksum of matrix 35: 44658975\n",
      "checksum of matrix 36: 3303800\n",
      "checksum of matrix 37: 7617802\n",
      "checksum of matrix 38: 5402258\n",
      "checksum of matrix 39: 10311345\n",
      "checksum of matrix 40: 8430321\n",
      "checksum of matrix 41: 18767358\n",
      "checksum of matrix 42: 55236676\n",
      "checksum of matrix 43: 2512714\n",
      "checksum of matrix 44: 23100411\n",
      "checksum of matrix 45: 46580976\n",
      "checksum of matrix 46: 28005514\n",
      "checksum of matrix 47: 37972194\n",
      "checksum of matrix 48: 28749496\n",
      "checksum of matrix 49: 47641221\n",
      "checksum of matrix 50: 31812680\n",
      "checksum of matrix 51: 30273715\n",
      "checksum of matrix 52: 54576015\n",
      "checksum of matrix 53: 33588909\n",
      "checksum of matrix 54: 31122384\n",
      "checksum of matrix 55: 46686912\n",
      "checksum of matrix 56: 22295632\n",
      "checksum of matrix 57: 19313452\n",
      "checksum of matrix 58: 36275126\n",
      "checksum of matrix 59: 5170686\n",
      "checksum of matrix 60: 6357576\n",
      "checksum of matrix 61: 32937833\n",
      "checksum of matrix 62: 14534350\n",
      "checksum of matrix 63: 4557379\n",
      "checksum of matrix 64: 6425310\n",
      "checksum of matrix 65: 13506593\n",
      "checksum of matrix 66: 40989511\n",
      "checksum of matrix 67: 17829687\n",
      "checksum of matrix 68: 14680111\n",
      "checksum of matrix 69: 35493195\n",
      "checksum of matrix 70: 30160518\n",
      "checksum of matrix 71: 34757273\n",
      "checksum of matrix 72: 8174395\n",
      "checksum of matrix 73: 51143801\n",
      "checksum of matrix 74: 36525966\n",
      "checksum of matrix 75: 32136062\n",
      "checksum of matrix 76: 30140524\n",
      "checksum of matrix 77: 18347013\n",
      "checksum of matrix 78: 43096871\n",
      "checksum of matrix 79: 26456773\n",
      "checksum of matrix 80: 43577497\n",
      "checksum of matrix 81: 22962315\n",
      "checksum of matrix 82: 20910670\n",
      "checksum of matrix 83: 40002\n",
      "checksum of matrix 84: 31059607\n",
      "checksum of matrix 85: 37826661\n",
      "checksum of matrix 86: 51805266\n",
      "checksum of matrix 87: 35431852\n",
      "checksum of matrix 88: 48533578\n",
      "checksum of matrix 89: 10461157\n",
      "checksum of matrix 90: 11861440\n",
      "checksum of matrix 91: 26014278\n",
      "checksum of matrix 92: 47214224\n",
      "checksum of matrix 93: 49770777\n",
      "checksum of matrix 94: 35756956\n",
      "checksum of matrix 95: 12399954\n",
      "checksum of matrix 96: 45107670\n",
      "checksum of matrix 97: 55614602\n",
      "checksum of matrix 98: 28614846\n",
      "checksum of matrix 99: 35538406\n"
     ]
    }
   ],
   "source": [
    "for i in range(100):\n",
    "    print(f'checksum of matrix {i}: {get_checksum(i)}')"
   ]
  }
 ],
 "metadata": {
  "kernelspec": {
   "display_name": "Python 3",
   "language": "python",
   "name": "python3"
  },
  "language_info": {
   "codemirror_mode": {
    "name": "ipython",
    "version": 3
   },
   "file_extension": ".py",
   "mimetype": "text/x-python",
   "name": "python",
   "nbconvert_exporter": "python",
   "pygments_lexer": "ipython3",
   "version": "3.12.0"
  }
 },
 "nbformat": 4,
 "nbformat_minor": 2
}
