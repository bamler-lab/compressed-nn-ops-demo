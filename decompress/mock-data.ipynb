{
 "cells": [
  {
   "cell_type": "markdown",
   "metadata": {},
   "source": [
    "# Mock Data for Compressed Matrices"
   ]
  },
  {
   "cell_type": "code",
   "execution_count": 1,
   "metadata": {},
   "outputs": [],
   "source": [
    "import numpy as np\n",
    "import constriction\n",
    "from tqdm import tqdm\n",
    "import pickle"
   ]
  },
  {
   "cell_type": "markdown",
   "metadata": {},
   "source": [
    "## Preparation"
   ]
  },
  {
   "cell_type": "markdown",
   "metadata": {},
   "source": [
    "### Create Random Quantized Matrices"
   ]
  },
  {
   "cell_type": "code",
   "execution_count": 2,
   "metadata": {},
   "outputs": [],
   "source": [
    "np.random.seed(202404151)\n",
    "matrices = np.random.randn(100, 1024, 1024)"
   ]
  },
  {
   "cell_type": "code",
   "execution_count": 3,
   "metadata": {},
   "outputs": [
    {
     "name": "stdout",
     "output_type": "stream",
     "text": [
      "mins: [-41 -38 -40 -38 -44 -38 -37 -41 -41 -37 -39 -40 -39 -37 -39 -40 -37 -41\n",
      " -40 -40 -39 -41 -38 -42 -39 -39 -42 -39 -41 -41 -38 -39 -40 -38 -38 -38\n",
      " -42 -41 -37 -44 -38 -38 -37 -39 -39 -36 -39 -42 -40 -40 -41 -38 -36 -41\n",
      " -40 -41 -42 -38 -38 -38 -42 -37 -39 -39 -38 -36 -39 -37 -38 -40 -43 -36\n",
      " -37 -37 -41 -39 -41 -37 -40 -42 -38 -37 -38 -37 -38 -42 -41 -42 -38 -42\n",
      " -40 -46 -39 -37 -42 -41 -37 -40 -38 -42]\n",
      "maxs: [38 39 36 36 39 37 36 38 36 39 38 37 39 40 37 40 37 38 39 41 38 40 37 38\n",
      " 36 36 39 39 36 39 37 37 37 38 39 39 41 41 37 36 37 38 35 37 37 40 42 36\n",
      " 41 37 37 41 40 39 38 40 42 43 38 41 37 36 41 37 37 38 38 39 40 36 38 39\n",
      " 39 40 39 38 39 37 38 40 39 43 43 44 36 42 44 39 43 39 37 37 38 43 40 38\n",
      " 40 44 39 39]\n"
     ]
    }
   ],
   "source": [
    "quantized_matrices = np.round(matrices * 8).astype(np.int8)\n",
    "print(f'mins: {quantized_matrices.min(axis=(1, 2))}')\n",
    "print(f'maxs: {quantized_matrices.max(axis=(1, 2))}')"
   ]
  },
  {
   "cell_type": "markdown",
   "metadata": {},
   "source": [
    "### Create Entropy Models"
   ]
  },
  {
   "cell_type": "code",
   "execution_count": 4,
   "metadata": {},
   "outputs": [
    {
     "name": "stderr",
     "output_type": "stream",
     "text": [
      "100%|██████████| 100/100 [00:03<00:00, 32.80it/s]"
     ]
    },
    {
     "name": "stdout",
     "output_type": "stream",
     "text": [
      "Maximum absolute overhead: 0.0028\n",
      "Maximum relative overhead: 0.05 %\n"
     ]
    },
    {
     "name": "stderr",
     "output_type": "stream",
     "text": [
      "\n"
     ]
    },
    {
     "data": {
      "text/plain": [
       "(array([5.04873129, 5.04657062, 5.04677307, 5.04884595, 5.0473163 ,\n",
       "        5.0486622 , 5.04661374, 5.04849787, 5.04695842, 5.04865761,\n",
       "        5.04702978, 5.04732894, 5.04798469, 5.04782882, 5.04794853,\n",
       "        5.04891135, 5.04778863, 5.0474892 , 5.04845118, 5.04870344,\n",
       "        5.04692647, 5.0466256 , 5.04761184, 5.04772784, 5.04902663,\n",
       "        5.04909297, 5.0483021 , 5.0477679 , 5.04680325, 5.0470743 ,\n",
       "        5.04774866, 5.04810709, 5.04799223, 5.04751116, 5.04805406,\n",
       "        5.04894296, 5.04914948, 5.04813692, 5.04773768, 5.04766498,\n",
       "        5.04820142, 5.04674641, 5.04612653, 5.04954575, 5.04798425,\n",
       "        5.04911074, 5.04806961, 5.04883531, 5.04730741, 5.04820349,\n",
       "        5.0475805 , 5.04728574, 5.0476444 , 5.04874619, 5.04859174,\n",
       "        5.04892564, 5.04605025, 5.04941888, 5.04747965, 5.04812066,\n",
       "        5.04752634, 5.04696448, 5.04841835, 5.0466188 , 5.04660691,\n",
       "        5.04749418, 5.04658043, 5.04970472, 5.04751697, 5.0466669 ,\n",
       "        5.0487524 , 5.04709681, 5.0476797 , 5.04769936, 5.04902494,\n",
       "        5.04895012, 5.04639921, 5.04668295, 5.04814853, 5.05002499,\n",
       "        5.04836993, 5.04791812, 5.04791608, 5.04752935, 5.04711372,\n",
       "        5.0493911 , 5.0481115 , 5.04940273, 5.04633744, 5.04810413,\n",
       "        5.04664947, 5.04846792, 5.04931599, 5.04653048, 5.04739448,\n",
       "        5.04770291, 5.04775435, 5.04835903, 5.04771543, 5.04719952]),\n",
       " array([5.05069208, 5.04864777, 5.04861574, 5.05031177, 5.04975498,\n",
       "        5.0502737 , 5.04780313, 5.05011684, 5.04859656, 5.05031756,\n",
       "        5.04893196, 5.04912919, 5.04949157, 5.04945783, 5.04919942,\n",
       "        5.05077485, 5.04916534, 5.04945773, 5.05061651, 5.05081124,\n",
       "        5.04914161, 5.04854142, 5.04909765, 5.04970626, 5.05076037,\n",
       "        5.05044683, 5.05018642, 5.05021281, 5.04820752, 5.04899534,\n",
       "        5.04977922, 5.04945153, 5.04950769, 5.0495007 , 5.04957728,\n",
       "        5.05074859, 5.05103163, 5.05012948, 5.04909803, 5.0492051 ,\n",
       "        5.0498022 , 5.04858964, 5.04736216, 5.0516125 , 5.05016583,\n",
       "        5.05089371, 5.0501217 , 5.05056347, 5.04957945, 5.04982788,\n",
       "        5.04924791, 5.04911677, 5.04918759, 5.05097817, 5.05063383,\n",
       "        5.05050443, 5.04881353, 5.05086677, 5.04937446, 5.05008177,\n",
       "        5.04942512, 5.04843633, 5.05020902, 5.04829952, 5.04811451,\n",
       "        5.04924479, 5.04831123, 5.05091149, 5.04939681, 5.04864431,\n",
       "        5.05039799, 5.04845874, 5.0490946 , 5.04944836, 5.05073912,\n",
       "        5.05083873, 5.04853134, 5.04809333, 5.05008611, 5.0519683 ,\n",
       "        5.05010522, 5.04980186, 5.04986034, 5.04955479, 5.04832326,\n",
       "        5.05117815, 5.0504365 , 5.05130828, 5.0480302 , 5.05017935,\n",
       "        5.0485746 , 5.05001667, 5.05135659, 5.0485648 , 5.04978878,\n",
       "        5.04948708, 5.0495793 , 5.05017992, 5.04949007, 5.04888423]))"
      ]
     },
     "execution_count": 4,
     "metadata": {},
     "output_type": "execute_result"
    }
   ],
   "source": [
    "values = []\n",
    "counts = []\n",
    "counts_16bit = []\n",
    "entropies = []\n",
    "cross_entropies_16bit = []\n",
    "for quantized_matrix in tqdm(quantized_matrices):\n",
    "    v, c = np.unique(quantized_matrix, return_counts=True)\n",
    "    order = np.argsort(c)[::-1]\n",
    "    v = v[order]\n",
    "    c = c[order]\n",
    "    values.append(v)\n",
    "    counts.append(c)\n",
    "    entropies.append(np.log2(quantized_matrix.size) - c @ np.log2(c) / quantized_matrix.size)\n",
    "    c16bit = np.maximum(np.round(c / 16).astype(np.int32), 1)\n",
    "\n",
    "    # We let Probabilities add up to `(1<<16) - 1` rather than `1<<16` so that we can represent\n",
    "    # the entire cdf in 16 bit values, which simplifies decoding. Note that this would (probably)\n",
    "    # make bits-back coding invalid since the AnsCoder is no longer surjective, but we don't do\n",
    "    # bits-back coding anyway.\n",
    "    excess = sum(c16bit) - ((1 << 16) - 1)\n",
    "    assert excess >= 0 and excess <= len(c)\n",
    "    if excess != 0:\n",
    "        assert c16bit[excess - 1] > 1\n",
    "    c16bit[:excess] -= 1\n",
    "    counts_16bit.append(c16bit)\n",
    "    cross_entropies_16bit.append(16 - c16bit @ np.log2(c16bit) / (1 << 16))\n",
    "entropies = np.array(entropies)\n",
    "cross_entropies_16bit = np.array(cross_entropies_16bit)\n",
    "overheads = cross_entropies_16bit - entropies\n",
    "print(f'Maximum absolute overhead: {overheads.max():.4f}')\n",
    "print(f'Maximum relative overhead: {(overheads * 100 / entropies).max():.2f} %')\n",
    "entropies, cross_entropies_16bit"
   ]
  },
  {
   "cell_type": "code",
   "execution_count": 5,
   "metadata": {},
   "outputs": [],
   "source": [
    "inv_vocabs = [{v: i for i, v in enumerate(vs)} for vs in values]"
   ]
  },
  {
   "cell_type": "markdown",
   "metadata": {},
   "source": [
    "### Entropy Coder"
   ]
  },
  {
   "cell_type": "code",
   "execution_count": 6,
   "metadata": {},
   "outputs": [],
   "source": [
    "class AnsCoder:\n",
    "    def __init__(self, precision, word_size, compressed=[]):\n",
    "        self.precision = precision\n",
    "        self.word_size = word_size\n",
    "        self.word_mask = (1 << word_size) - 1\n",
    "        self.quantile_mask = (1 << precision) - 1\n",
    "        self.bulk = compressed.copy()\n",
    "        self.head = 0\n",
    "        while len(self.bulk) != 0 and (self.head >> word_size) == 0:\n",
    "            self.head = (self.head << word_size) | self.bulk.pop()\n",
    "\n",
    "    def push(self, symbol, m):\n",
    "        if (self.head >> (2 * self.word_size - self.precision)) >= m[symbol]:\n",
    "            self.bulk.append(self.head & self.word_mask)\n",
    "            self.head >>= self.word_size\n",
    "\n",
    "        z = self.head % m[symbol] + sum(m[0:symbol])\n",
    "        self.head //= m[symbol]\n",
    "        self.head = (self.head << self.precision) | z\n",
    "\n",
    "    def pop(self, m):\n",
    "        z = self.head & self.quantile_mask\n",
    "        self.head >>= self.precision\n",
    "        for symbol, m_symbol in enumerate(m):\n",
    "            if z >= m_symbol:\n",
    "                z -= m_symbol\n",
    "            else:\n",
    "                break\n",
    "        self.head = self.head * m_symbol + z\n",
    "        if (self.head >> self.word_size) == 0 and len(self.bulk) != 0:\n",
    "            self.head = (self.head << self.word_size) | self.bulk.pop()\n",
    "        return symbol\n",
    "\n",
    "    def get_compressed(self):\n",
    "        compressed = self.bulk.copy()\n",
    "        head = self.head\n",
    "        while head != 0:\n",
    "            compressed.append(head & self.word_mask)\n",
    "            head >>= self.word_size\n",
    "        return compressed"
   ]
  },
  {
   "cell_type": "markdown",
   "metadata": {},
   "source": [
    "## Compression 1: independently compressed matrix entries, with non-interleaved matrices"
   ]
  },
  {
   "cell_type": "markdown",
   "metadata": {},
   "source": [
    "### Compress matrices"
   ]
  },
  {
   "cell_type": "code",
   "execution_count": 7,
   "metadata": {},
   "outputs": [],
   "source": [
    "# with open(\"100-compressed-matrices.pickle\", \"rb\") as f:\n",
    "#     d = pickle.load(f)\n",
    "#     compressed_stream = d[\"compressed_stream\"]\n",
    "#     coder_offsets = d[\"coder_offsets\"]\n",
    "#     del d"
   ]
  },
  {
   "cell_type": "code",
   "execution_count": null,
   "metadata": {},
   "outputs": [
    {
     "name": "stderr",
     "output_type": "stream",
     "text": [
      "1it [00:10, 10.32s/it]"
     ]
    },
    {
     "name": "stdout",
     "output_type": "stream",
     "text": [
      "Encoded matrix 99; words emitted so far: 0\n"
     ]
    },
    {
     "name": "stderr",
     "output_type": "stream",
     "text": [
      "2it [00:16,  7.65s/it]"
     ]
    },
    {
     "name": "stdout",
     "output_type": "stream",
     "text": [
      "Encoded matrix 98; words emitted so far: 127\n"
     ]
    },
    {
     "name": "stderr",
     "output_type": "stream",
     "text": [
      "3it [00:22,  6.87s/it]"
     ]
    },
    {
     "name": "stdout",
     "output_type": "stream",
     "text": [
      "Encoded matrix 97; words emitted so far: 6467\n"
     ]
    },
    {
     "name": "stderr",
     "output_type": "stream",
     "text": [
      "4it [00:28,  6.56s/it]"
     ]
    },
    {
     "name": "stdout",
     "output_type": "stream",
     "text": [
      "Encoded matrix 96; words emitted so far: 253130\n"
     ]
    },
    {
     "name": "stderr",
     "output_type": "stream",
     "text": [
      "5it [00:33,  6.28s/it]"
     ]
    },
    {
     "name": "stdout",
     "output_type": "stream",
     "text": [
      "Encoded matrix 95; words emitted so far: 1049018\n"
     ]
    },
    {
     "name": "stderr",
     "output_type": "stream",
     "text": [
      "6it [00:39,  6.16s/it]"
     ]
    },
    {
     "name": "stdout",
     "output_type": "stream",
     "text": [
      "Encoded matrix 94; words emitted so far: 1063608\n"
     ]
    },
    {
     "name": "stderr",
     "output_type": "stream",
     "text": [
      "7it [00:45,  6.16s/it]"
     ]
    },
    {
     "name": "stdout",
     "output_type": "stream",
     "text": [
      "Encoded matrix 93; words emitted so far: 1278127\n"
     ]
    },
    {
     "name": "stderr",
     "output_type": "stream",
     "text": [
      "8it [00:52,  6.12s/it]"
     ]
    },
    {
     "name": "stdout",
     "output_type": "stream",
     "text": [
      "Encoded matrix 92; words emitted so far: 2023904\n"
     ]
    },
    {
     "name": "stderr",
     "output_type": "stream",
     "text": [
      "9it [00:58,  6.09s/it]"
     ]
    },
    {
     "name": "stdout",
     "output_type": "stream",
     "text": [
      "Encoded matrix 91; words emitted so far: 2116859\n"
     ]
    },
    {
     "name": "stderr",
     "output_type": "stream",
     "text": [
      "10it [01:04,  6.07s/it]"
     ]
    },
    {
     "name": "stdout",
     "output_type": "stream",
     "text": [
      "Encoded matrix 90; words emitted so far: 2298457\n"
     ]
    },
    {
     "name": "stderr",
     "output_type": "stream",
     "text": [
      "11it [01:10,  6.03s/it]"
     ]
    },
    {
     "name": "stdout",
     "output_type": "stream",
     "text": [
      "Encoded matrix 89; words emitted so far: 2896717\n"
     ]
    },
    {
     "name": "stderr",
     "output_type": "stream",
     "text": [
      "12it [01:15,  6.01s/it]"
     ]
    },
    {
     "name": "stdout",
     "output_type": "stream",
     "text": [
      "Encoded matrix 88; words emitted so far: 3167526\n"
     ]
    },
    {
     "name": "stderr",
     "output_type": "stream",
     "text": [
      "13it [01:22,  6.10s/it]"
     ]
    },
    {
     "name": "stdout",
     "output_type": "stream",
     "text": [
      "Encoded matrix 87; words emitted so far: 3322073\n"
     ]
    },
    {
     "name": "stderr",
     "output_type": "stream",
     "text": [
      "14it [01:28,  6.14s/it]"
     ]
    },
    {
     "name": "stdout",
     "output_type": "stream",
     "text": [
      "Encoded matrix 86; words emitted so far: 3811291\n"
     ]
    },
    {
     "name": "stderr",
     "output_type": "stream",
     "text": [
      "15it [01:34,  6.09s/it]"
     ]
    },
    {
     "name": "stdout",
     "output_type": "stream",
     "text": [
      "Encoded matrix 85; words emitted so far: 4202162\n"
     ]
    },
    {
     "name": "stderr",
     "output_type": "stream",
     "text": [
      "16it [01:40,  6.10s/it]"
     ]
    },
    {
     "name": "stdout",
     "output_type": "stream",
     "text": [
      "Encoded matrix 84; words emitted so far: 4349498\n"
     ]
    },
    {
     "name": "stderr",
     "output_type": "stream",
     "text": [
      "17it [01:46,  6.11s/it]"
     ]
    },
    {
     "name": "stdout",
     "output_type": "stream",
     "text": [
      "Encoded matrix 83; words emitted so far: 4757518\n"
     ]
    },
    {
     "name": "stderr",
     "output_type": "stream",
     "text": [
      "18it [01:52,  6.12s/it]"
     ]
    },
    {
     "name": "stdout",
     "output_type": "stream",
     "text": [
      "Encoded matrix 82; words emitted so far: 5199084\n"
     ]
    },
    {
     "name": "stderr",
     "output_type": "stream",
     "text": [
      "19it [02:00,  6.61s/it]"
     ]
    },
    {
     "name": "stdout",
     "output_type": "stream",
     "text": [
      "Encoded matrix 81; words emitted so far: 5379838\n"
     ]
    },
    {
     "name": "stderr",
     "output_type": "stream",
     "text": [
      "20it [02:06,  6.49s/it]"
     ]
    },
    {
     "name": "stdout",
     "output_type": "stream",
     "text": [
      "Encoded matrix 80; words emitted so far: 5725565\n"
     ]
    },
    {
     "name": "stderr",
     "output_type": "stream",
     "text": [
      "21it [02:13,  6.41s/it]"
     ]
    },
    {
     "name": "stdout",
     "output_type": "stream",
     "text": [
      "Encoded matrix 79; words emitted so far: 6173949\n"
     ]
    },
    {
     "name": "stderr",
     "output_type": "stream",
     "text": [
      "22it [02:19,  6.35s/it]"
     ]
    },
    {
     "name": "stdout",
     "output_type": "stream",
     "text": [
      "Encoded matrix 78; words emitted so far: 6409281\n"
     ]
    },
    {
     "name": "stderr",
     "output_type": "stream",
     "text": [
      "23it [02:25,  6.45s/it]"
     ]
    },
    {
     "name": "stdout",
     "output_type": "stream",
     "text": [
      "Encoded matrix 77; words emitted so far: 6709065\n"
     ]
    },
    {
     "name": "stderr",
     "output_type": "stream",
     "text": [
      "24it [02:32,  6.39s/it]"
     ]
    },
    {
     "name": "stdout",
     "output_type": "stream",
     "text": [
      "Encoded matrix 76; words emitted so far: 7142597\n"
     ]
    },
    {
     "name": "stderr",
     "output_type": "stream",
     "text": [
      "25it [02:38,  6.40s/it]"
     ]
    },
    {
     "name": "stdout",
     "output_type": "stream",
     "text": [
      "Encoded matrix 75; words emitted so far: 7430117\n"
     ]
    },
    {
     "name": "stderr",
     "output_type": "stream",
     "text": [
      "26it [02:45,  6.45s/it]"
     ]
    },
    {
     "name": "stdout",
     "output_type": "stream",
     "text": [
      "Encoded matrix 74; words emitted so far: 7703842\n"
     ]
    },
    {
     "name": "stderr",
     "output_type": "stream",
     "text": [
      "27it [02:51,  6.38s/it]"
     ]
    },
    {
     "name": "stdout",
     "output_type": "stream",
     "text": [
      "Encoded matrix 73; words emitted so far: 8112292\n"
     ]
    },
    {
     "name": "stderr",
     "output_type": "stream",
     "text": [
      "28it [02:57,  6.27s/it]"
     ]
    },
    {
     "name": "stdout",
     "output_type": "stream",
     "text": [
      "Encoded matrix 72; words emitted so far: 8440046\n"
     ]
    },
    {
     "name": "stderr",
     "output_type": "stream",
     "text": [
      "29it [03:03,  6.19s/it]"
     ]
    },
    {
     "name": "stdout",
     "output_type": "stream",
     "text": [
      "Encoded matrix 71; words emitted so far: 8705917\n"
     ]
    },
    {
     "name": "stderr",
     "output_type": "stream",
     "text": [
      "30it [03:09,  6.13s/it]"
     ]
    },
    {
     "name": "stdout",
     "output_type": "stream",
     "text": [
      "Encoded matrix 70; words emitted so far: 9085751\n"
     ]
    },
    {
     "name": "stderr",
     "output_type": "stream",
     "text": [
      "31it [03:15,  6.09s/it]"
     ]
    },
    {
     "name": "stdout",
     "output_type": "stream",
     "text": [
      "Encoded matrix 69; words emitted so far: 9439095\n"
     ]
    },
    {
     "name": "stderr",
     "output_type": "stream",
     "text": [
      "32it [03:21,  6.08s/it]"
     ]
    },
    {
     "name": "stdout",
     "output_type": "stream",
     "text": [
      "Encoded matrix 68; words emitted so far: 9712584\n"
     ]
    },
    {
     "name": "stderr",
     "output_type": "stream",
     "text": [
      "33it [03:27,  6.08s/it]"
     ]
    },
    {
     "name": "stdout",
     "output_type": "stream",
     "text": [
      "Encoded matrix 67; words emitted so far: 10064987\n"
     ]
    },
    {
     "name": "stderr",
     "output_type": "stream",
     "text": [
      "34it [03:33,  6.09s/it]"
     ]
    },
    {
     "name": "stdout",
     "output_type": "stream",
     "text": [
      "Encoded matrix 66; words emitted so far: 10431059\n"
     ]
    },
    {
     "name": "stderr",
     "output_type": "stream",
     "text": [
      "35it [03:39,  6.08s/it]"
     ]
    },
    {
     "name": "stdout",
     "output_type": "stream",
     "text": [
      "Encoded matrix 65; words emitted so far: 10719160\n"
     ]
    },
    {
     "name": "stderr",
     "output_type": "stream",
     "text": [
      "36it [03:45,  6.07s/it]"
     ]
    },
    {
     "name": "stdout",
     "output_type": "stream",
     "text": [
      "Encoded matrix 64; words emitted so far: 11050484\n"
     ]
    },
    {
     "name": "stderr",
     "output_type": "stream",
     "text": [
      "37it [03:51,  6.06s/it]"
     ]
    },
    {
     "name": "stdout",
     "output_type": "stream",
     "text": [
      "Encoded matrix 63; words emitted so far: 11418528\n"
     ]
    },
    {
     "name": "stderr",
     "output_type": "stream",
     "text": [
      "38it [03:57,  6.07s/it]"
     ]
    },
    {
     "name": "stdout",
     "output_type": "stream",
     "text": [
      "Encoded matrix 62; words emitted so far: 11723217\n"
     ]
    },
    {
     "name": "stderr",
     "output_type": "stream",
     "text": [
      "39it [04:03,  6.03s/it]"
     ]
    },
    {
     "name": "stdout",
     "output_type": "stream",
     "text": [
      "Encoded matrix 61; words emitted so far: 12040963\n"
     ]
    },
    {
     "name": "stderr",
     "output_type": "stream",
     "text": [
      "40it [04:10,  6.09s/it]"
     ]
    },
    {
     "name": "stdout",
     "output_type": "stream",
     "text": [
      "Encoded matrix 60; words emitted so far: 12404148\n"
     ]
    },
    {
     "name": "stderr",
     "output_type": "stream",
     "text": [
      "41it [04:16,  6.12s/it]"
     ]
    },
    {
     "name": "stdout",
     "output_type": "stream",
     "text": [
      "Encoded matrix 59; words emitted so far: 12724647\n"
     ]
    },
    {
     "name": "stderr",
     "output_type": "stream",
     "text": [
      "42it [04:22,  6.15s/it]"
     ]
    },
    {
     "name": "stdout",
     "output_type": "stream",
     "text": [
      "Encoded matrix 58; words emitted so far: 13035795\n"
     ]
    },
    {
     "name": "stderr",
     "output_type": "stream",
     "text": [
      "43it [04:28,  6.14s/it]"
     ]
    },
    {
     "name": "stdout",
     "output_type": "stream",
     "text": [
      "Encoded matrix 57; words emitted so far: 13389567\n"
     ]
    },
    {
     "name": "stderr",
     "output_type": "stream",
     "text": [
      "44it [04:34,  6.16s/it]"
     ]
    },
    {
     "name": "stdout",
     "output_type": "stream",
     "text": [
      "Encoded matrix 56; words emitted so far: 13722426\n"
     ]
    },
    {
     "name": "stderr",
     "output_type": "stream",
     "text": [
      "45it [04:40,  6.15s/it]"
     ]
    },
    {
     "name": "stdout",
     "output_type": "stream",
     "text": [
      "Encoded matrix 55; words emitted so far: 14032421\n"
     ]
    },
    {
     "name": "stderr",
     "output_type": "stream",
     "text": [
      "46it [04:47,  6.12s/it]"
     ]
    },
    {
     "name": "stdout",
     "output_type": "stream",
     "text": [
      "Encoded matrix 54; words emitted so far: 14377227\n"
     ]
    },
    {
     "name": "stderr",
     "output_type": "stream",
     "text": [
      "47it [04:53,  6.11s/it]"
     ]
    },
    {
     "name": "stdout",
     "output_type": "stream",
     "text": [
      "Encoded matrix 53; words emitted so far: 14716950\n"
     ]
    },
    {
     "name": "stderr",
     "output_type": "stream",
     "text": [
      "48it [04:59,  6.09s/it]"
     ]
    },
    {
     "name": "stdout",
     "output_type": "stream",
     "text": [
      "Encoded matrix 52; words emitted so far: 15030454\n"
     ]
    },
    {
     "name": "stderr",
     "output_type": "stream",
     "text": [
      "49it [05:05,  6.08s/it]"
     ]
    },
    {
     "name": "stdout",
     "output_type": "stream",
     "text": [
      "Encoded matrix 51; words emitted so far: 15367184\n"
     ]
    },
    {
     "name": "stderr",
     "output_type": "stream",
     "text": [
      "50it [05:11,  6.08s/it]"
     ]
    },
    {
     "name": "stdout",
     "output_type": "stream",
     "text": [
      "Encoded matrix 50; words emitted so far: 15709227\n"
     ]
    },
    {
     "name": "stderr",
     "output_type": "stream",
     "text": [
      "51it [05:17,  6.06s/it]"
     ]
    },
    {
     "name": "stdout",
     "output_type": "stream",
     "text": [
      "Encoded matrix 49; words emitted so far: 16027730\n"
     ]
    },
    {
     "name": "stderr",
     "output_type": "stream",
     "text": [
      "52it [05:23,  6.05s/it]"
     ]
    },
    {
     "name": "stdout",
     "output_type": "stream",
     "text": [
      "Encoded matrix 48; words emitted so far: 16358400\n"
     ]
    },
    {
     "name": "stderr",
     "output_type": "stream",
     "text": [
      "53it [05:29,  6.08s/it]"
     ]
    },
    {
     "name": "stdout",
     "output_type": "stream",
     "text": [
      "Encoded matrix 47; words emitted so far: 16700575\n"
     ]
    },
    {
     "name": "stderr",
     "output_type": "stream",
     "text": [
      "54it [05:35,  6.08s/it]"
     ]
    },
    {
     "name": "stdout",
     "output_type": "stream",
     "text": [
      "Encoded matrix 46; words emitted so far: 17024312\n"
     ]
    },
    {
     "name": "stderr",
     "output_type": "stream",
     "text": [
      "55it [05:41,  6.11s/it]"
     ]
    },
    {
     "name": "stdout",
     "output_type": "stream",
     "text": [
      "Encoded matrix 45; words emitted so far: 17351048\n"
     ]
    },
    {
     "name": "stderr",
     "output_type": "stream",
     "text": [
      "56it [05:48,  6.19s/it]"
     ]
    },
    {
     "name": "stdout",
     "output_type": "stream",
     "text": [
      "Encoded matrix 44; words emitted so far: 17692095\n"
     ]
    },
    {
     "name": "stderr",
     "output_type": "stream",
     "text": [
      "57it [05:54,  6.15s/it]"
     ]
    },
    {
     "name": "stdout",
     "output_type": "stream",
     "text": [
      "Encoded matrix 43; words emitted so far: 18020467\n"
     ]
    },
    {
     "name": "stderr",
     "output_type": "stream",
     "text": [
      "58it [06:00,  6.13s/it]"
     ]
    },
    {
     "name": "stdout",
     "output_type": "stream",
     "text": [
      "Encoded matrix 42; words emitted so far: 18345024\n"
     ]
    },
    {
     "name": "stderr",
     "output_type": "stream",
     "text": [
      "59it [06:06,  6.10s/it]"
     ]
    },
    {
     "name": "stdout",
     "output_type": "stream",
     "text": [
      "Encoded matrix 41; words emitted so far: 18683074\n"
     ]
    },
    {
     "name": "stderr",
     "output_type": "stream",
     "text": [
      "60it [06:12,  6.10s/it]"
     ]
    },
    {
     "name": "stdout",
     "output_type": "stream",
     "text": [
      "Encoded matrix 40; words emitted so far: 19014897\n"
     ]
    },
    {
     "name": "stderr",
     "output_type": "stream",
     "text": [
      "61it [06:18,  6.11s/it]"
     ]
    },
    {
     "name": "stdout",
     "output_type": "stream",
     "text": [
      "Encoded matrix 39; words emitted so far: 19339450\n"
     ]
    },
    {
     "name": "stderr",
     "output_type": "stream",
     "text": [
      "62it [06:24,  6.10s/it]"
     ]
    },
    {
     "name": "stdout",
     "output_type": "stream",
     "text": [
      "Encoded matrix 38; words emitted so far: 19674714\n"
     ]
    },
    {
     "name": "stderr",
     "output_type": "stream",
     "text": [
      "63it [06:30,  6.15s/it]"
     ]
    },
    {
     "name": "stdout",
     "output_type": "stream",
     "text": [
      "Encoded matrix 37; words emitted so far: 20009134\n"
     ]
    },
    {
     "name": "stderr",
     "output_type": "stream",
     "text": [
      "64it [06:37,  6.17s/it]"
     ]
    },
    {
     "name": "stdout",
     "output_type": "stream",
     "text": [
      "Encoded matrix 36; words emitted so far: 20334371\n"
     ]
    },
    {
     "name": "stderr",
     "output_type": "stream",
     "text": [
      "65it [06:43,  6.16s/it]"
     ]
    },
    {
     "name": "stdout",
     "output_type": "stream",
     "text": [
      "Encoded matrix 35; words emitted so far: 20666542\n"
     ]
    },
    {
     "name": "stderr",
     "output_type": "stream",
     "text": [
      "66it [06:49,  6.09s/it]"
     ]
    },
    {
     "name": "stdout",
     "output_type": "stream",
     "text": [
      "Encoded matrix 34; words emitted so far: 21001766\n"
     ]
    },
    {
     "name": "stderr",
     "output_type": "stream",
     "text": [
      "67it [06:55,  6.05s/it]"
     ]
    },
    {
     "name": "stdout",
     "output_type": "stream",
     "text": [
      "Encoded matrix 33; words emitted so far: 21329015\n"
     ]
    },
    {
     "name": "stderr",
     "output_type": "stream",
     "text": [
      "68it [07:01,  6.02s/it]"
     ]
    },
    {
     "name": "stdout",
     "output_type": "stream",
     "text": [
      "Encoded matrix 32; words emitted so far: 21659660\n"
     ]
    },
    {
     "name": "stderr",
     "output_type": "stream",
     "text": [
      "69it [07:06,  5.99s/it]"
     ]
    },
    {
     "name": "stdout",
     "output_type": "stream",
     "text": [
      "Encoded matrix 31; words emitted so far: 21994849\n"
     ]
    },
    {
     "name": "stderr",
     "output_type": "stream",
     "text": [
      "70it [07:12,  5.97s/it]"
     ]
    },
    {
     "name": "stdout",
     "output_type": "stream",
     "text": [
      "Encoded matrix 30; words emitted so far: 22323777\n"
     ]
    },
    {
     "name": "stderr",
     "output_type": "stream",
     "text": [
      "71it [07:18,  5.97s/it]"
     ]
    },
    {
     "name": "stdout",
     "output_type": "stream",
     "text": [
      "Encoded matrix 29; words emitted so far: 22652649\n"
     ]
    },
    {
     "name": "stderr",
     "output_type": "stream",
     "text": [
      "72it [07:24,  5.98s/it]"
     ]
    },
    {
     "name": "stdout",
     "output_type": "stream",
     "text": [
      "Encoded matrix 28; words emitted so far: 22987681\n"
     ]
    },
    {
     "name": "stderr",
     "output_type": "stream",
     "text": [
      "73it [07:30,  5.99s/it]"
     ]
    },
    {
     "name": "stdout",
     "output_type": "stream",
     "text": [
      "Encoded matrix 27; words emitted so far: 23317647\n"
     ]
    },
    {
     "name": "stderr",
     "output_type": "stream",
     "text": [
      "74it [07:36,  6.01s/it]"
     ]
    },
    {
     "name": "stdout",
     "output_type": "stream",
     "text": [
      "Encoded matrix 26; words emitted so far: 23646514\n"
     ]
    },
    {
     "name": "stderr",
     "output_type": "stream",
     "text": [
      "75it [07:43,  6.04s/it]"
     ]
    },
    {
     "name": "stdout",
     "output_type": "stream",
     "text": [
      "Encoded matrix 25; words emitted so far: 23980137\n"
     ]
    },
    {
     "name": "stderr",
     "output_type": "stream",
     "text": [
      "76it [07:49,  6.04s/it]"
     ]
    },
    {
     "name": "stdout",
     "output_type": "stream",
     "text": [
      "Encoded matrix 24; words emitted so far: 24311343\n"
     ]
    },
    {
     "name": "stderr",
     "output_type": "stream",
     "text": [
      "77it [07:55,  6.04s/it]"
     ]
    },
    {
     "name": "stdout",
     "output_type": "stream",
     "text": [
      "Encoded matrix 23; words emitted so far: 24640586\n"
     ]
    },
    {
     "name": "stderr",
     "output_type": "stream",
     "text": [
      "78it [08:01,  6.03s/it]"
     ]
    },
    {
     "name": "stdout",
     "output_type": "stream",
     "text": [
      "Encoded matrix 22; words emitted so far: 24972890\n"
     ]
    },
    {
     "name": "stderr",
     "output_type": "stream",
     "text": [
      "79it [08:07,  6.03s/it]"
     ]
    },
    {
     "name": "stdout",
     "output_type": "stream",
     "text": [
      "Encoded matrix 21; words emitted so far: 25305310\n"
     ]
    },
    {
     "name": "stderr",
     "output_type": "stream",
     "text": [
      "80it [08:13,  6.04s/it]"
     ]
    },
    {
     "name": "stdout",
     "output_type": "stream",
     "text": [
      "Encoded matrix 20; words emitted so far: 25634052\n"
     ]
    },
    {
     "name": "stderr",
     "output_type": "stream",
     "text": [
      "81it [08:19,  6.03s/it]"
     ]
    },
    {
     "name": "stdout",
     "output_type": "stream",
     "text": [
      "Encoded matrix 19; words emitted so far: 25965545\n"
     ]
    },
    {
     "name": "stderr",
     "output_type": "stream",
     "text": [
      "82it [08:25,  6.02s/it]"
     ]
    },
    {
     "name": "stdout",
     "output_type": "stream",
     "text": [
      "Encoded matrix 18; words emitted so far: 26298086\n"
     ]
    },
    {
     "name": "stderr",
     "output_type": "stream",
     "text": [
      "83it [08:31,  6.11s/it]"
     ]
    },
    {
     "name": "stdout",
     "output_type": "stream",
     "text": [
      "Encoded matrix 17; words emitted so far: 26628267\n"
     ]
    },
    {
     "name": "stderr",
     "output_type": "stream",
     "text": [
      "84it [08:37,  6.10s/it]"
     ]
    },
    {
     "name": "stdout",
     "output_type": "stream",
     "text": [
      "Encoded matrix 16; words emitted so far: 26959398\n"
     ]
    },
    {
     "name": "stderr",
     "output_type": "stream",
     "text": [
      "85it [08:43,  6.04s/it]"
     ]
    },
    {
     "name": "stdout",
     "output_type": "stream",
     "text": [
      "Encoded matrix 15; words emitted so far: 27291498\n"
     ]
    },
    {
     "name": "stderr",
     "output_type": "stream",
     "text": [
      "86it [08:49,  6.00s/it]"
     ]
    },
    {
     "name": "stdout",
     "output_type": "stream",
     "text": [
      "Encoded matrix 14; words emitted so far: 27621714\n"
     ]
    },
    {
     "name": "stderr",
     "output_type": "stream",
     "text": [
      "87it [08:55,  5.95s/it]"
     ]
    },
    {
     "name": "stdout",
     "output_type": "stream",
     "text": [
      "Encoded matrix 13; words emitted so far: 27952429\n"
     ]
    },
    {
     "name": "stderr",
     "output_type": "stream",
     "text": [
      "88it [09:01,  5.93s/it]"
     ]
    },
    {
     "name": "stdout",
     "output_type": "stream",
     "text": [
      "Encoded matrix 12; words emitted so far: 28284730\n"
     ]
    },
    {
     "name": "stderr",
     "output_type": "stream",
     "text": [
      "89it [09:06,  5.90s/it]"
     ]
    },
    {
     "name": "stdout",
     "output_type": "stream",
     "text": [
      "Encoded matrix 11; words emitted so far: 28615579\n"
     ]
    },
    {
     "name": "stderr",
     "output_type": "stream",
     "text": [
      "90it [09:12,  5.88s/it]"
     ]
    },
    {
     "name": "stdout",
     "output_type": "stream",
     "text": [
      "Encoded matrix 10; words emitted so far: 28946137\n"
     ]
    },
    {
     "name": "stderr",
     "output_type": "stream",
     "text": [
      "91it [09:18,  5.87s/it]"
     ]
    },
    {
     "name": "stdout",
     "output_type": "stream",
     "text": [
      "Encoded matrix 9; words emitted so far: 29277624\n"
     ]
    },
    {
     "name": "stderr",
     "output_type": "stream",
     "text": [
      "92it [09:24,  5.86s/it]"
     ]
    },
    {
     "name": "stdout",
     "output_type": "stream",
     "text": [
      "Encoded matrix 8; words emitted so far: 29609384\n"
     ]
    },
    {
     "name": "stderr",
     "output_type": "stream",
     "text": [
      "93it [09:30,  5.85s/it]"
     ]
    },
    {
     "name": "stdout",
     "output_type": "stream",
     "text": [
      "Encoded matrix 7; words emitted so far: 29939077\n"
     ]
    },
    {
     "name": "stderr",
     "output_type": "stream",
     "text": [
      "94it [09:36,  5.85s/it]"
     ]
    },
    {
     "name": "stdout",
     "output_type": "stream",
     "text": [
      "Encoded matrix 6; words emitted so far: 30271042\n"
     ]
    },
    {
     "name": "stderr",
     "output_type": "stream",
     "text": [
      "95it [09:41,  5.85s/it]"
     ]
    },
    {
     "name": "stdout",
     "output_type": "stream",
     "text": [
      "Encoded matrix 5; words emitted so far: 30602517\n"
     ]
    },
    {
     "name": "stderr",
     "output_type": "stream",
     "text": [
      "96it [09:48,  5.95s/it]"
     ]
    },
    {
     "name": "stdout",
     "output_type": "stream",
     "text": [
      "Encoded matrix 4; words emitted so far: 30932717\n"
     ]
    },
    {
     "name": "stderr",
     "output_type": "stream",
     "text": [
      "97it [09:54,  5.99s/it]"
     ]
    },
    {
     "name": "stdout",
     "output_type": "stream",
     "text": [
      "Encoded matrix 3; words emitted so far: 31264239\n"
     ]
    },
    {
     "name": "stderr",
     "output_type": "stream",
     "text": [
      "98it [10:00,  6.00s/it]"
     ]
    },
    {
     "name": "stdout",
     "output_type": "stream",
     "text": [
      "Encoded matrix 2; words emitted so far: 31595550\n"
     ]
    },
    {
     "name": "stderr",
     "output_type": "stream",
     "text": [
      "99it [10:06,  6.01s/it]"
     ]
    },
    {
     "name": "stdout",
     "output_type": "stream",
     "text": [
      "Encoded matrix 1; words emitted so far: 31926728\n"
     ]
    },
    {
     "name": "stderr",
     "output_type": "stream",
     "text": [
      "100it [10:12,  6.13s/it]"
     ]
    },
    {
     "name": "stdout",
     "output_type": "stream",
     "text": [
      "Encoded matrix 0; words emitted so far: 32257476\n"
     ]
    },
    {
     "name": "stderr",
     "output_type": "stream",
     "text": [
      "\n"
     ]
    }
   ],
   "source": [
    "compressed_stream = []\n",
    "coder_offsets = np.zeros((len(matrices), matrices[0].size), dtype=np.uint32)\n",
    "coders = [AnsCoder(16, 16, [1, 1]) for _ in range(matrices[0].size)]\n",
    "for i in tqdm(reversed(range(len(matrices)))):\n",
    "    model = counts_16bit[i]\n",
    "    inv_vocab = inv_vocabs[i]\n",
    "    for j, entry, coder in zip(range(quantized_matrices[i].size - 1, -1, -1), reversed(quantized_matrices[i].ravel()), coders):\n",
    "        symbol_id = inv_vocab[entry]\n",
    "        coder.push(symbol_id, model)\n",
    "        if len(coder.bulk) == 1:\n",
    "            compressed_stream.append(coder.bulk[0])\n",
    "            coder.bulk = []\n",
    "        coder_offsets[i, j] = len(compressed_stream)\n",
    "    print(f'Encoded matrix {i}; words emitted so far: {coder_offsets[i, -1]}')"
   ]
  },
  {
   "cell_type": "code",
   "execution_count": null,
   "metadata": {},
   "outputs": [],
   "source": [
    "for coder in coders:\n",
    "    assert len(coder.bulk) == 0\n",
    "    compressed = coder.get_compressed()\n",
    "    assert len(compressed) == 2\n",
    "    compressed_stream += compressed\n",
    "compressed_stream = np.array(compressed_stream, dtype=np.uint16)"
   ]
  },
  {
   "cell_type": "code",
   "execution_count": null,
   "metadata": {},
   "outputs": [
    {
     "data": {
      "text/plain": [
       "(34686512, 5.29274169921875, 0.24308005163829893)"
      ]
     },
     "execution_count": 10,
     "metadata": {},
     "output_type": "execute_result"
    }
   ],
   "source": [
    "bitrate = len(compressed_stream) * 16 / quantized_matrices.size\n",
    "len(compressed_stream), bitrate, bitrate - cross_entropies_16bit.mean()"
   ]
  },
  {
   "cell_type": "code",
   "execution_count": null,
   "metadata": {},
   "outputs": [],
   "source": [
    "with open(\"100-compressed-matrices.pickle\", \"wb\") as f:\n",
    "    pickle.dump({\"compressed_stream\": compressed_stream, \"coder_offsets\": coder_offsets}, f)"
   ]
  },
  {
   "cell_type": "code",
   "execution_count": 9,
   "metadata": {},
   "outputs": [],
   "source": [
    "with open(\"100-compressed-matrices.pickle\", \"rb\") as f:\n",
    "    d = pickle.load(f)\n",
    "    compressed_stream = d[\"compressed_stream\"]\n",
    "    coder_offsets = d[\"coder_offsets\"]\n",
    "    del d"
   ]
  },
  {
   "cell_type": "markdown",
   "metadata": {},
   "source": [
    "### Serialize to a File"
   ]
  },
  {
   "cell_type": "code",
   "execution_count": null,
   "metadata": {},
   "outputs": [
    {
     "data": {
      "text/plain": [
       "array([    0,  3268,  6515,  9741, 12901, 16054, 19106, 22148, 25042,\n",
       "       27922, 30621, 33314, 35771, 38206, 40446, 42679, 44669, 46653,\n",
       "       48401, 50118, 51617, 53092, 54372, 55639, 56711, 57770, 58643,\n",
       "       59505, 60220, 60925, 61494, 62061, 62510, 62953, 63301, 63634,\n",
       "       63903, 64164, 64364, 64555, 64701, 64845, 64949, 65051, 65127,\n",
       "       65199, 65253, 65306, 65344, 65379, 65405, 65431, 65448, 65464,\n",
       "       65476, 65487, 65495, 65502, 65507, 65512, 65515, 65517, 65519,\n",
       "       65521, 65523, 65524, 65525, 65526, 65527, 65528, 65529, 65530,\n",
       "       65531, 65532, 65533, 65534, 65535], dtype=uint16)"
      ]
     },
     "execution_count": 13,
     "metadata": {},
     "output_type": "execute_result"
    }
   ],
   "source": [
    "np.array([counts_16bit[0][:j].sum() for j in range(len(counts_16bit[0]) + 1)], dtype=np.uint16)"
   ]
  },
  {
   "cell_type": "code",
   "execution_count": null,
   "metadata": {},
   "outputs": [],
   "source": [
    "def serialize_matrix(i):\n",
    "    cdf = np.array([counts_16bit[i][:j].sum() for j in range(len(counts_16bit[i]) + 1)], dtype=np.uint16)\n",
    "    data_offset = np.array([len(cdf) + 1], dtype=np.uint16)\n",
    "    start = coder_offsets[i, 0]\n",
    "    end = start if i == 0 else coder_offsets[i - 1, 0]\n",
    "    data = compressed_stream[start:end][::-1]\n",
    "    return np.concatenate([data_offset, cdf, data])"
   ]
  },
  {
   "cell_type": "code",
   "execution_count": null,
   "metadata": {},
   "outputs": [
    {
     "data": {
      "text/plain": [
       "(array([    78, 331964, 330825, 331256, 331392, 331600, 330276, 331554,\n",
       "        332041, 329771, 331841, 331565, 330636, 330927, 332377, 330795,\n",
       "        330292, 332179, 331210, 330262, 332621, 331571, 328818, 332499,\n",
       "        332380, 329321, 331284, 333704, 328943, 330046, 335109, 328947,\n",
       "        329007, 335265, 330723, 327329, 335302, 332250, 325315, 334497,\n",
       "        335341, 324633, 331897, 338129, 324636, 328450, 341126, 326815,\n",
       "        323816, 342253, 330748, 318584, 342119, 336809, 313584, 339800,\n",
       "        344888, 310072, 332939, 353851, 311226, 320576, 363263, 317824,\n",
       "        304767, 368120, 331403, 288177, 366149, 352480, 273568, 353422,\n",
       "        379911, 265950, 327832, 408528, 273805, 287598, 433610, 299864,\n",
       "        235412, 448461, 345804, 180835, 441641, 408099, 147418, 390949,\n",
       "        489296, 154628, 270886, 598337, 181678,  93033, 745859, 214599,\n",
       "         14668, 795966, 246742,   6420], dtype=uint32),\n",
       " 795966)"
      ]
     },
     "execution_count": 15,
     "metadata": {},
     "output_type": "execute_result"
    }
   ],
   "source": [
    "serialized_sizes = np.array([serialize_matrix(i).size for i in range(len(quantized_matrices))], dtype=np.uint32)\n",
    "serialized_sizes, serialized_sizes.max()"
   ]
  },
  {
   "cell_type": "code",
   "execution_count": null,
   "metadata": {},
   "outputs": [],
   "source": [
    "with open(\"100-compressed-matrices.bin\", \"wb\") as f:\n",
    "    initial_coder_heads = compressed_stream[coder_offsets[0, 0]:][::-1]\n",
    "    initial_coder_heads.tofile(f)\n",
    "    serialized_sizes_lo = (serialized_sizes & ((1 << 16) - 1)).astype(np.uint16)\n",
    "    serialized_sizes_hi = (serialized_sizes >> 16).astype(np.uint16)\n",
    "    serialized_sizes_le = np.vstack([serialized_sizes_lo, serialized_sizes_hi]).T.ravel()\n",
    "    serialized_sizes_le.tofile(f)\n",
    "    for i in range(len(quantized_matrices)):\n",
    "        m = serialize_matrix(i)\n",
    "        m.tofile(f)\n",
    "    # NOTE: this doesn't serialize the final compressed data that would be necessary\n",
    "    # to reconstruct the original coder states (which is currently always `[1, 0]`)."
   ]
  },
  {
   "cell_type": "code",
   "execution_count": null,
   "metadata": {},
   "outputs": [
    {
     "name": "stdout",
     "output_type": "stream",
     "text": [
      "-rw-rw-r-- 1 robamler robamler 67M May 13 12:14 100-compressed-matrices.bin\n"
     ]
    }
   ],
   "source": [
    "!ls -lh 100-compressed-matrices.bin"
   ]
  },
  {
   "cell_type": "markdown",
   "metadata": {},
   "source": [
    "## Debugging"
   ]
  },
  {
   "cell_type": "code",
   "execution_count": 52,
   "metadata": {},
   "outputs": [],
   "source": [
    "# Checksum adapted from rust's FxHash, but restricted to 26 bit hashes so that the\n",
    "# multiplication doesn't exceed the range of exactly representable integers in JavaScript.\n",
    "def get_checksum(i):\n",
    "    checksum = 0\n",
    "    for value in quantized_matrices[i].ravel():\n",
    "        value = inv_vocabs[i][value]\n",
    "        checksum = ((checksum & 0x001f_ffff) << 5) | (checksum >> 21) # rotate\n",
    "        checksum = (checksum ^ value) * 0x0322_0a95\n",
    "        checksum = checksum & 0x03ff_ffff # truncate to 26 bit\n",
    "    return checksum"
   ]
  },
  {
   "cell_type": "code",
   "execution_count": 53,
   "metadata": {},
   "outputs": [
    {
     "name": "stdout",
     "output_type": "stream",
     "text": [
      "checksum of matrix 0: 55445785\n",
      "checksum of matrix 1: 15163511\n",
      "checksum of matrix 2: 6664559\n",
      "checksum of matrix 3: 15747500\n",
      "checksum of matrix 4: 5573655\n",
      "checksum of matrix 5: 27711411\n",
      "checksum of matrix 6: 20047205\n",
      "checksum of matrix 7: 10641525\n",
      "checksum of matrix 8: 64606195\n",
      "checksum of matrix 9: 65232545\n",
      "checksum of matrix 10: 51903642\n",
      "checksum of matrix 11: 57475160\n",
      "checksum of matrix 12: 54761909\n",
      "checksum of matrix 13: 30428408\n",
      "checksum of matrix 14: 22313942\n",
      "checksum of matrix 15: 33179881\n",
      "checksum of matrix 16: 37189258\n",
      "checksum of matrix 17: 16278593\n",
      "checksum of matrix 18: 56573661\n",
      "checksum of matrix 19: 41121083\n",
      "checksum of matrix 20: 55929650\n",
      "checksum of matrix 21: 43756132\n",
      "checksum of matrix 22: 28003007\n",
      "checksum of matrix 23: 56424187\n",
      "checksum of matrix 24: 28589585\n",
      "checksum of matrix 25: 37515944\n",
      "checksum of matrix 26: 58783295\n",
      "checksum of matrix 27: 57634150\n",
      "checksum of matrix 28: 6008159\n",
      "checksum of matrix 29: 16510335\n",
      "checksum of matrix 30: 64138918\n",
      "checksum of matrix 31: 32039546\n",
      "checksum of matrix 32: 35538825\n",
      "checksum of matrix 33: 31935232\n",
      "checksum of matrix 34: 23331306\n",
      "checksum of matrix 35: 44658975\n",
      "checksum of matrix 36: 3303800\n",
      "checksum of matrix 37: 7617802\n",
      "checksum of matrix 38: 5402258\n",
      "checksum of matrix 39: 10311345\n",
      "checksum of matrix 40: 8430321\n",
      "checksum of matrix 41: 18767358\n",
      "checksum of matrix 42: 55236676\n",
      "checksum of matrix 43: 2512714\n",
      "checksum of matrix 44: 23100411\n",
      "checksum of matrix 45: 46580976\n",
      "checksum of matrix 46: 28005514\n",
      "checksum of matrix 47: 37972194\n",
      "checksum of matrix 48: 28749496\n",
      "checksum of matrix 49: 47641221\n",
      "checksum of matrix 50: 31812680\n",
      "checksum of matrix 51: 30273715\n",
      "checksum of matrix 52: 54576015\n",
      "checksum of matrix 53: 33588909\n",
      "checksum of matrix 54: 31122384\n",
      "checksum of matrix 55: 46686912\n",
      "checksum of matrix 56: 22295632\n",
      "checksum of matrix 57: 19313452\n",
      "checksum of matrix 58: 36275126\n",
      "checksum of matrix 59: 5170686\n",
      "checksum of matrix 60: 6357576\n",
      "checksum of matrix 61: 32937833\n",
      "checksum of matrix 62: 14534350\n",
      "checksum of matrix 63: 4557379\n",
      "checksum of matrix 64: 6425310\n",
      "checksum of matrix 65: 13506593\n",
      "checksum of matrix 66: 40989511\n",
      "checksum of matrix 67: 17829687\n",
      "checksum of matrix 68: 14680111\n",
      "checksum of matrix 69: 35493195\n",
      "checksum of matrix 70: 30160518\n",
      "checksum of matrix 71: 34757273\n",
      "checksum of matrix 72: 8174395\n",
      "checksum of matrix 73: 51143801\n",
      "checksum of matrix 74: 36525966\n",
      "checksum of matrix 75: 32136062\n",
      "checksum of matrix 76: 30140524\n",
      "checksum of matrix 77: 18347013\n",
      "checksum of matrix 78: 43096871\n",
      "checksum of matrix 79: 26456773\n",
      "checksum of matrix 80: 43577497\n",
      "checksum of matrix 81: 22962315\n",
      "checksum of matrix 82: 20910670\n",
      "checksum of matrix 83: 40002\n",
      "checksum of matrix 84: 31059607\n",
      "checksum of matrix 85: 37826661\n",
      "checksum of matrix 86: 51805266\n",
      "checksum of matrix 87: 35431852\n",
      "checksum of matrix 88: 48533578\n",
      "checksum of matrix 89: 10461157\n",
      "checksum of matrix 90: 11861440\n",
      "checksum of matrix 91: 26014278\n",
      "checksum of matrix 92: 47214224\n",
      "checksum of matrix 93: 49770777\n",
      "checksum of matrix 94: 35756956\n",
      "checksum of matrix 95: 12399954\n",
      "checksum of matrix 96: 45107670\n",
      "checksum of matrix 97: 55614602\n",
      "checksum of matrix 98: 28614846\n",
      "checksum of matrix 99: 35538406\n"
     ]
    }
   ],
   "source": [
    "for i in range(100):\n",
    "    print(f'checksum of matrix {i}: {get_checksum(i)}')"
   ]
  },
  {
   "cell_type": "code",
   "execution_count": null,
   "metadata": {},
   "outputs": [],
   "source": []
  }
 ],
 "metadata": {
  "kernelspec": {
   "display_name": "Python 3",
   "language": "python",
   "name": "python3"
  },
  "language_info": {
   "codemirror_mode": {
    "name": "ipython",
    "version": 3
   },
   "file_extension": ".py",
   "mimetype": "text/x-python",
   "name": "python",
   "nbconvert_exporter": "python",
   "pygments_lexer": "ipython3",
   "version": "3.11.6"
  }
 },
 "nbformat": 4,
 "nbformat_minor": 2
}
