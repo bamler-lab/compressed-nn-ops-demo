{
 "cells": [
  {
   "cell_type": "code",
   "execution_count": 1,
   "metadata": {},
   "outputs": [],
   "source": [
    "import numpy as np\n",
    "import constriction"
   ]
  },
  {
   "cell_type": "code",
   "execution_count": 2,
   "metadata": {},
   "outputs": [
    {
     "data": {
      "text/plain": [
       "array([[-0.24281341,  0.82277433, -1.76817447, ...,  0.37827248,\n",
       "         0.95446806,  1.3724337 ],\n",
       "       [-0.93972788,  0.53986172,  0.49766536, ...,  1.92457392,\n",
       "        -0.32346853,  2.16728419],\n",
       "       [ 0.77583578, -1.37499597, -0.03150158, ..., -1.95524463,\n",
       "         0.77135577,  0.56992074],\n",
       "       ...,\n",
       "       [-1.11369009, -0.3860364 , -0.74349466, ...,  1.20332443,\n",
       "         0.25760983,  1.11943256],\n",
       "       [-0.73039511, -0.79896008, -0.80715964, ...,  0.54681539,\n",
       "        -0.4218426 , -0.47858875],\n",
       "       [ 0.11453367, -0.5499435 ,  0.71707023, ...,  0.45978248,\n",
       "         0.60778436, -0.13992389]])"
      ]
     },
     "execution_count": 2,
     "metadata": {},
     "output_type": "execute_result"
    }
   ],
   "source": [
    "np.random.seed(202404151)\n",
    "matrix = np.random.randn(1024, 1024)\n",
    "matrix"
   ]
  },
  {
   "cell_type": "code",
   "execution_count": 3,
   "metadata": {},
   "outputs": [
    {
     "name": "stdout",
     "output_type": "stream",
     "text": [
      "min: -41; max: 38\n"
     ]
    },
    {
     "data": {
      "text/plain": [
       "array([[ -2,   7, -14, ...,   3,   8,  11],\n",
       "       [ -8,   4,   4, ...,  15,  -3,  17],\n",
       "       [  6, -11,   0, ..., -16,   6,   5],\n",
       "       ...,\n",
       "       [ -9,  -3,  -6, ...,  10,   2,   9],\n",
       "       [ -6,  -6,  -6, ...,   4,  -3,  -4],\n",
       "       [  1,  -4,   6, ...,   4,   5,  -1]], dtype=int8)"
      ]
     },
     "execution_count": 3,
     "metadata": {},
     "output_type": "execute_result"
    }
   ],
   "source": [
    "quantized_matrix = np.round(matrix * 8).astype(np.int8)\n",
    "print(f'min: {quantized_matrix.min()}; max: {quantized_matrix.max()}')\n",
    "quantized_matrix"
   ]
  },
  {
   "cell_type": "code",
   "execution_count": 4,
   "metadata": {},
   "outputs": [
    {
     "data": {
      "text/plain": [
       "(array([-41, -38, -36, -35, -34, -33, -32, -31, -30, -29, -28, -27, -26,\n",
       "        -25, -24, -23, -22, -21, -20, -19, -18, -17, -16, -15, -14, -13,\n",
       "        -12, -11, -10,  -9,  -8,  -7,  -6,  -5,  -4,  -3,  -2,  -1,   0,\n",
       "          1,   2,   3,   4,   5,   6,   7,   8,   9,  10,  11,  12,  13,\n",
       "         14,  15,  16,  17,  18,  19,  20,  21,  22,  23,  24,  25,  26,\n",
       "         27,  28,  29,  30,  31,  32,  33,  34,  35,  36,  38], dtype=int8),\n",
       " array([    1,     2,     3,     3,     6,     9,    20,    40,    36,\n",
       "           73,   108,   187,   272,   409,   564,   862,  1159,  1656,\n",
       "         2296,  3194,  4182,  5575,  7191,  9100, 11442, 13800, 17154,\n",
       "        20278, 23604, 27970, 31746, 35848, 38960, 43094, 46095, 48689,\n",
       "        50576, 51960, 52311, 51639, 50460, 48842, 46323, 43185, 39306,\n",
       "        35732, 31837, 27474, 23987, 20475, 16945, 13971, 11278,  9067,\n",
       "         7086,  5327,  4310,  3063,  2328,  1626,  1214,   853,   601,\n",
       "          421,   254,   174,   122,    75,    54,    27,    25,    10,\n",
       "            4,     4,     1,     1]))"
      ]
     },
     "execution_count": 4,
     "metadata": {},
     "output_type": "execute_result"
    }
   ],
   "source": [
    "np.unique(quantized_matrix.ravel(), return_counts=True)"
   ]
  },
  {
   "cell_type": "code",
   "execution_count": 171,
   "metadata": {},
   "outputs": [
    {
     "data": {
      "text/plain": [
       "5.048731287507302"
      ]
     },
     "execution_count": 171,
     "metadata": {},
     "output_type": "execute_result"
    }
   ],
   "source": [
    "values, counts = np.unique(quantized_matrix.ravel(), return_counts=True)\n",
    "order = np.argsort(counts)[::-1]\n",
    "values = values[order]\n",
    "counts = counts[order]\n",
    "entropy20bit = np.log2(matrix.size) - counts @ np.log2(counts) / matrix.size\n",
    "entropy20bit"
   ]
  },
  {
   "cell_type": "code",
   "execution_count": 165,
   "metadata": {},
   "outputs": [
    {
     "name": "stdout",
     "output_type": "stream",
     "text": [
      "-8 0\n",
      "0 0\n"
     ]
    },
    {
     "data": {
      "text/plain": [
       "array([3261, 3248, 3227, 3161, 3154, 3053, 3043, 2895, 2881, 2699, 2693,\n",
       "       2457, 2435, 2240, 2233, 1990, 1984, 1748, 1717, 1499, 1475, 1280,\n",
       "       1267, 1072, 1059,  873,  862,  715,  705,  569,  567,  449,  443,\n",
       "        348,  333,  269,  261,  200,  191,  146,  144,  104,  102,   76,\n",
       "         72,   54,   53,   38,   35,   26,   26,   17,   16,   12,   11,\n",
       "          8,    7,    5,    5,    3,    2,    2,    2,    2,    1,    1,\n",
       "          1,    1,    1,    1,    1,    1,    1,    1,    1,    1])"
      ]
     },
     "execution_count": 165,
     "metadata": {},
     "output_type": "execute_result"
    }
   ],
   "source": [
    "freqs = np.maximum(np.round(counts / 16).astype(np.int64), 1)\n",
    "print(256**2 - sum(freqs), 1024**2 - sum(counts))\n",
    "freqs[0] += 256**2 - sum(freqs) # very hacky but good enough for now\n",
    "print(256**2 - sum(freqs), 1024**2 - sum(counts))\n",
    "freqs"
   ]
  },
  {
   "cell_type": "code",
   "execution_count": 169,
   "metadata": {},
   "outputs": [
    {
     "data": {
      "text/plain": [
       "(5.048851110506442, 5.048731287507302)"
      ]
     },
     "execution_count": 169,
     "metadata": {},
     "output_type": "execute_result"
    }
   ],
   "source": [
    "cross_entropy16bit = 16 - counts @ np.log2(freqs) / (1024**2)\n",
    "cross_entropy16bit, entropy20bit"
   ]
  },
  {
   "cell_type": "code",
   "execution_count": 172,
   "metadata": {},
   "outputs": [
    {
     "data": {
      "text/plain": [
       "(array([    0,     0,  3261,    -1,  6509,     1,  9736,    -2, 12897,\n",
       "            2, 16051,     3, 19104,    -3, 22147,     4, 25042,    -4,\n",
       "        27923,     5, 30622,    -5, 33315,     6, 35772,    -6, 38207,\n",
       "           -7, 40447,     7, 42680,     8, 44670,    -8, 46654,    -9,\n",
       "        48402,     9, 50119,    10, 51618,   -10, 53093,    11, 54373,\n",
       "          -11, 55640,   -12, 56712,    12, 57771,    13, 58644,   -13,\n",
       "        59506,   -14, 60221,    14, 60926,   -15, 61495,    15, 62062,\n",
       "          -16, 62511,    16, 62954,   -17, 63302,    17, 63635,    18,\n",
       "        63904,   -18, 64165,   -19, 64365,    19, 64556,    20, 64702,\n",
       "          -20, 64846,   -21, 64950,    21, 65052,    22, 65128,   -22,\n",
       "        65200,   -23, 65254,    23, 65307,    24, 65345,   -24, 65380,\n",
       "           25, 65406,   -25, 65432,   -26, 65449,    26, 65465,   -27,\n",
       "        65477,    27, 65488,    28, 65496,   -28, 65503,    29, 65508,\n",
       "          -29, 65513,    30, 65516,   -31, 65518,   -30, 65520,    31,\n",
       "        65522,    32, 65524,   -32, 65525,    33, 65526,   -33, 65527,\n",
       "          -34, 65528,    34, 65529,    35, 65530,   -35, 65531,   -36,\n",
       "        65532,   -38, 65533,    36, 65534,    38, 65535,   -41, 65536],\n",
       "       dtype=int32),\n",
       " 153,\n",
       " 152,\n",
       " 1048576)"
      ]
     },
     "execution_count": 172,
     "metadata": {},
     "output_type": "execute_result"
    }
   ],
   "source": [
    "cdf = np.add.accumulate(np.concatenate([np.array([0]), freqs]))\n",
    "values_pad = np.concatenate([values, np.array([0])])\n",
    "model_specification = np.stack((cdf, values_pad), axis=1).astype(np.int32).ravel()[:-1]\n",
    "model_specification, len(model_specification), 2 * len(freqs), 1024**2"
   ]
  },
  {
   "cell_type": "code",
   "execution_count": 173,
   "metadata": {},
   "outputs": [],
   "source": [
    "inv_vocab = {value: i for i, value in enumerate(values)}"
   ]
  },
  {
   "cell_type": "code",
   "execution_count": 174,
   "metadata": {},
   "outputs": [],
   "source": [
    "distribution = constriction.stream.model.Categorical(freqs.astype(np.float64))\n",
    "fake_next_data = np.array([1, 1], dtype=np.uint32) # pretend that there's more data to come (for the next matrix) so that decoding doesn't interfere with next row\n",
    "def compress_row(row):\n",
    "    row = np.array([inv_vocab[value] for value in row], dtype=np.int32)\n",
    "    coder = constriction.stream.stack.AnsCoder(fake_next_data)\n",
    "    coder.encode_reverse(row.astype(np.int32), distribution)\n",
    "    return coder.get_compressed()"
   ]
  },
  {
   "cell_type": "code",
   "execution_count": 178,
   "metadata": {},
   "outputs": [
    {
     "data": {
      "text/plain": [
       "(5.125, 5.048851110506442)"
      ]
     },
     "execution_count": 178,
     "metadata": {},
     "output_type": "execute_result"
    }
   ],
   "source": [
    "compressed = compress_row(quantized_matrix[0])\n",
    "len(compressed) * 32 / 1024, cross_entropy16bit"
   ]
  },
  {
   "cell_type": "code",
   "execution_count": 179,
   "metadata": {},
   "outputs": [],
   "source": [
    "compressed = [compress_row(row) for row in quantized_matrix]"
   ]
  },
  {
   "cell_type": "code",
   "execution_count": 181,
   "metadata": {},
   "outputs": [
    {
     "data": {
      "text/plain": [
       "(array([  1177,   1341,   1503, ..., 167662, 167824, 167988], dtype=uint32),\n",
       " 1024)"
      ]
     },
     "execution_count": 181,
     "metadata": {},
     "output_type": "execute_result"
    }
   ],
   "source": [
    "offsets = np.zeros((1024,), dtype=np.uint32)\n",
    "pos = len(model_specification) + 1024\n",
    "for i in range(1024):\n",
    "    offsets[i] = pos\n",
    "    pos += len(compressed[i])\n",
    "offsets, len(offsets)"
   ]
  },
  {
   "cell_type": "code",
   "execution_count": 182,
   "metadata": {},
   "outputs": [],
   "source": [
    "serialized = np.concatenate([offsets, model_specification.astype(np.uint32)] + compressed)"
   ]
  },
  {
   "cell_type": "code",
   "execution_count": 183,
   "metadata": {},
   "outputs": [
    {
     "data": {
      "text/plain": [
       "4.0"
      ]
     },
     "execution_count": 183,
     "metadata": {},
     "output_type": "execute_result"
    }
   ],
   "source": [
    "len(offsets) / 256"
   ]
  },
  {
   "cell_type": "code",
   "execution_count": 198,
   "metadata": {},
   "outputs": [
    {
     "data": {
      "text/plain": [
       "6509"
      ]
     },
     "execution_count": 198,
     "metadata": {},
     "output_type": "execute_result"
    }
   ],
   "source": [
    "6509"
   ]
  },
  {
   "cell_type": "code",
   "execution_count": 202,
   "metadata": {},
   "outputs": [
    {
     "data": {
      "text/plain": [
       "(76, 153)"
      ]
     },
     "execution_count": 202,
     "metadata": {},
     "output_type": "execute_result"
    }
   ],
   "source": [
    "len(freqs), len(model_specification)"
   ]
  },
  {
   "cell_type": "code",
   "execution_count": 200,
   "metadata": {},
   "outputs": [
    {
     "data": {
      "text/plain": [
       "array([    0,     0,  3261,    -1,  6509,     1,  9736,    -2, 12897,\n",
       "           2, 16051,     3, 19104,    -3, 22147,     4, 25042,    -4,\n",
       "       27923,     5, 30622,    -5, 33315,     6, 35772,    -6, 38207,\n",
       "          -7, 40447,     7, 42680,     8, 44670,    -8, 46654,    -9,\n",
       "       48402,     9, 50119,    10, 51618,   -10, 53093,    11, 54373,\n",
       "         -11, 55640,   -12, 56712,    12, 57771,    13, 58644,   -13,\n",
       "       59506,   -14, 60221,    14, 60926,   -15, 61495,    15, 62062,\n",
       "         -16, 62511,    16, 62954,   -17, 63302,    17, 63635,    18,\n",
       "       63904,   -18, 64165,   -19, 64365,    19, 64556,    20, 64702,\n",
       "         -20, 64846,   -21, 64950,    21, 65052,    22, 65128,   -22,\n",
       "       65200,   -23, 65254,    23, 65307,    24, 65345,   -24, 65380,\n",
       "          25, 65406,   -25, 65432,   -26, 65449,    26, 65465,   -27,\n",
       "       65477,    27, 65488,    28, 65496,   -28, 65503,    29, 65508,\n",
       "         -29, 65513,    30, 65516,   -31, 65518,   -30, 65520,    31,\n",
       "       65522,    32, 65524,   -32, 65525,    33, 65526,   -33, 65527,\n",
       "         -34, 65528,    34, 65529,    35, 65530,   -35, 65531,   -36,\n",
       "       65532,   -38, 65533,    36, 65534,    38, 65535,   -41, 65536],\n",
       "      dtype=int32)"
      ]
     },
     "execution_count": 200,
     "metadata": {},
     "output_type": "execute_result"
    }
   ],
   "source": [
    "model_specification"
   ]
  },
  {
   "cell_type": "code",
   "execution_count": 189,
   "metadata": {},
   "outputs": [],
   "source": [
    "# pad to a multiple of 256 entries for now so it's easier to read in\n",
    "pad_len = (256 - len(serialized) % 256) % 256\n",
    "serialized = np.concatenate([serialized, np.zeros((pad_len,), dtype=np.uint32)])"
   ]
  },
  {
   "cell_type": "code",
   "execution_count": 190,
   "metadata": {},
   "outputs": [],
   "source": [
    "serialized.tofile('mock-matrix.bin')"
   ]
  },
  {
   "cell_type": "code",
   "execution_count": 127,
   "metadata": {},
   "outputs": [
    {
     "data": {
      "text/plain": [
       "((168192,), 1024, 153)"
      ]
     },
     "execution_count": 127,
     "metadata": {},
     "output_type": "execute_result"
    }
   ],
   "source": [
    "serialized.shape, len(offsets), len(model_specification)"
   ]
  },
  {
   "cell_type": "code",
   "execution_count": 193,
   "metadata": {},
   "outputs": [
    {
     "name": "stdout",
     "output_type": "stream",
     "text": [
      "-rw-rw-r-- 1 robamler robamler 672768 Apr 16 15:16 mock-matrix.bin\n"
     ]
    }
   ],
   "source": [
    "!ls -l mock-matrix.bin"
   ]
  },
  {
   "cell_type": "code",
   "execution_count": null,
   "metadata": {},
   "outputs": [],
   "source": []
  }
 ],
 "metadata": {
  "kernelspec": {
   "display_name": "Python 3",
   "language": "python",
   "name": "python3"
  },
  "language_info": {
   "codemirror_mode": {
    "name": "ipython",
    "version": 3
   },
   "file_extension": ".py",
   "mimetype": "text/x-python",
   "name": "python",
   "nbconvert_exporter": "python",
   "pygments_lexer": "ipython3",
   "version": "3.12.0"
  }
 },
 "nbformat": 4,
 "nbformat_minor": 2
}
