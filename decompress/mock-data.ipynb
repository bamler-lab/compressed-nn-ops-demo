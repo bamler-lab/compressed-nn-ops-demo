{
 "cells": [
  {
   "cell_type": "markdown",
   "metadata": {},
   "source": [
    "# Mock Data for Compressed Matrices"
   ]
  },
  {
   "cell_type": "code",
   "execution_count": 3,
   "metadata": {},
   "outputs": [],
   "source": [
    "import numpy as np\n",
    "import constriction\n",
    "from tqdm import tqdm"
   ]
  },
  {
   "cell_type": "markdown",
   "metadata": {},
   "source": [
    "## Preparation"
   ]
  },
  {
   "cell_type": "markdown",
   "metadata": {},
   "source": [
    "### Create Random Quantized Matrices"
   ]
  },
  {
   "cell_type": "code",
   "execution_count": 4,
   "metadata": {},
   "outputs": [],
   "source": [
    "np.random.seed(202404151)\n",
    "matrices = np.random.randn(100, 1024, 1024)"
   ]
  },
  {
   "cell_type": "code",
   "execution_count": 5,
   "metadata": {},
   "outputs": [
    {
     "name": "stdout",
     "output_type": "stream",
     "text": [
      "mins: [-41 -38 -40 -38 -44 -38 -37 -41 -41 -37 -39 -40 -39 -37 -39 -40 -37 -41\n",
      " -40 -40 -39 -41 -38 -42 -39 -39 -42 -39 -41 -41 -38 -39 -40 -38 -38 -38\n",
      " -42 -41 -37 -44 -38 -38 -37 -39 -39 -36 -39 -42 -40 -40 -41 -38 -36 -41\n",
      " -40 -41 -42 -38 -38 -38 -42 -37 -39 -39 -38 -36 -39 -37 -38 -40 -43 -36\n",
      " -37 -37 -41 -39 -41 -37 -40 -42 -38 -37 -38 -37 -38 -42 -41 -42 -38 -42\n",
      " -40 -46 -39 -37 -42 -41 -37 -40 -38 -42]\n",
      "maxs: [38 39 36 36 39 37 36 38 36 39 38 37 39 40 37 40 37 38 39 41 38 40 37 38\n",
      " 36 36 39 39 36 39 37 37 37 38 39 39 41 41 37 36 37 38 35 37 37 40 42 36\n",
      " 41 37 37 41 40 39 38 40 42 43 38 41 37 36 41 37 37 38 38 39 40 36 38 39\n",
      " 39 40 39 38 39 37 38 40 39 43 43 44 36 42 44 39 43 39 37 37 38 43 40 38\n",
      " 40 44 39 39]\n"
     ]
    }
   ],
   "source": [
    "quantized_matrices = np.round(matrices * 8).astype(np.int8)\n",
    "print(f'mins: {quantized_matrices.min(axis=(1, 2))}')\n",
    "print(f'maxs: {quantized_matrices.max(axis=(1, 2))}')"
   ]
  },
  {
   "cell_type": "markdown",
   "metadata": {},
   "source": [
    "### Create Entropy Models"
   ]
  },
  {
   "cell_type": "code",
   "execution_count": 6,
   "metadata": {},
   "outputs": [
    {
     "name": "stderr",
     "output_type": "stream",
     "text": [
      "100%|██████████| 100/100 [00:02<00:00, 37.27it/s]"
     ]
    },
    {
     "name": "stdout",
     "output_type": "stream",
     "text": [
      "Maximum absolute overhead: 0.0471\n",
      "Maximum relative overhead: 0.93 %\n"
     ]
    },
    {
     "name": "stderr",
     "output_type": "stream",
     "text": [
      "\n"
     ]
    },
    {
     "data": {
      "text/plain": [
       "(array([5.04873129, 5.04657062, 5.04677307, 5.04884595, 5.0473163 ,\n",
       "        5.0486622 , 5.04661374, 5.04849787, 5.04695842, 5.04865761,\n",
       "        5.04702978, 5.04732894, 5.04798469, 5.04782882, 5.04794853,\n",
       "        5.04891135, 5.04778863, 5.0474892 , 5.04845118, 5.04870344,\n",
       "        5.04692647, 5.0466256 , 5.04761184, 5.04772784, 5.04902663,\n",
       "        5.04909297, 5.0483021 , 5.0477679 , 5.04680325, 5.0470743 ,\n",
       "        5.04774866, 5.04810709, 5.04799223, 5.04751116, 5.04805406,\n",
       "        5.04894296, 5.04914948, 5.04813692, 5.04773768, 5.04766498,\n",
       "        5.04820142, 5.04674641, 5.04612653, 5.04954575, 5.04798425,\n",
       "        5.04911074, 5.04806961, 5.04883531, 5.04730741, 5.04820349,\n",
       "        5.0475805 , 5.04728574, 5.0476444 , 5.04874619, 5.04859174,\n",
       "        5.04892564, 5.04605025, 5.04941888, 5.04747965, 5.04812066,\n",
       "        5.04752634, 5.04696448, 5.04841835, 5.0466188 , 5.04660691,\n",
       "        5.04749418, 5.04658043, 5.04970472, 5.04751697, 5.0466669 ,\n",
       "        5.0487524 , 5.04709681, 5.0476797 , 5.04769936, 5.04902494,\n",
       "        5.04895012, 5.04639921, 5.04668295, 5.04814853, 5.05002499,\n",
       "        5.04836993, 5.04791812, 5.04791608, 5.04752935, 5.04711372,\n",
       "        5.0493911 , 5.0481115 , 5.04940273, 5.04633744, 5.04810413,\n",
       "        5.04664947, 5.04846792, 5.04931599, 5.04653048, 5.04739448,\n",
       "        5.04770291, 5.04775435, 5.04835903, 5.04771543, 5.04719952]),\n",
       " array([5.08750168, 5.08959662, 5.08385052, 5.08566755, 5.09129431,\n",
       "        5.08733714, 5.08326359, 5.08649926, 5.08471898, 5.08960345,\n",
       "        5.08905128, 5.08647551, 5.08718853, 5.08483556, 5.08624012,\n",
       "        5.0923847 , 5.08303542, 5.09104248, 5.09007439, 5.09315758,\n",
       "        5.0888587 , 5.08802607, 5.08047001, 5.08625601, 5.08671615,\n",
       "        5.08749734, 5.08889974, 5.09129045, 5.08115863, 5.08742054,\n",
       "        5.08744216, 5.08290823, 5.08786022, 5.08444307, 5.08588086,\n",
       "        5.0888699 , 5.08785647, 5.08923196, 5.08477889, 5.08810134,\n",
       "        5.08745848, 5.0884914 , 5.07773614, 5.08755609, 5.08656536,\n",
       "        5.09034321, 5.08933964, 5.08724775, 5.08963167, 5.08699161,\n",
       "        5.08589455, 5.09002287, 5.0845995 , 5.08901659, 5.08960003,\n",
       "        5.08730749, 5.09016844, 5.08705772, 5.0881861 , 5.09211099,\n",
       "        5.08584096, 5.08019499, 5.08920872, 5.08489129, 5.08355797,\n",
       "        5.08597065, 5.08314265, 5.08081851, 5.08352519, 5.08436051,\n",
       "        5.08963755, 5.08161253, 5.08795184, 5.0894477 , 5.08602634,\n",
       "        5.08996221, 5.0892723 , 5.08327869, 5.08985089, 5.09137262,\n",
       "        5.08675653, 5.08829172, 5.08258285, 5.09197218, 5.08176347,\n",
       "        5.08974509, 5.09044136, 5.09122814, 5.0839789 , 5.09055789,\n",
       "        5.08757338, 5.08641071, 5.0910912 , 5.08742698, 5.09451667,\n",
       "        5.08906716, 5.08875837, 5.08622083, 5.08630715, 5.09299419]))"
      ]
     },
     "execution_count": 6,
     "metadata": {},
     "output_type": "execute_result"
    }
   ],
   "source": [
    "values = []\n",
    "counts = []\n",
    "counts_12bit = []\n",
    "entropies = []\n",
    "cross_entropies_12bit = []\n",
    "for quantized_matrix in tqdm(quantized_matrices):\n",
    "    v, c = np.unique(quantized_matrix, return_counts=True)\n",
    "    order = np.argsort(c)[::-1]\n",
    "    v = v[order]\n",
    "    c = c[order]\n",
    "    values.append(v)\n",
    "    counts.append(c)\n",
    "    entropies.append(np.log2(quantized_matrix.size) - c @ np.log2(c) / quantized_matrix.size)\n",
    "    c12bit = np.maximum(np.round(c / 256).astype(np.int32), 1)\n",
    "    excess = sum(c12bit) - (1 << 12)\n",
    "    assert excess >= 0 and excess <= len(c)\n",
    "    if excess != 0:\n",
    "        assert c12bit[excess - 1] > 1\n",
    "    c12bit[:excess] -= 1\n",
    "    counts_12bit.append(c12bit)\n",
    "    cross_entropies_12bit.append(12 - c12bit @ np.log2(c12bit) / (1 << 12))\n",
    "entropies = np.array(entropies)\n",
    "cross_entropies_12bit = np.array(cross_entropies_12bit)\n",
    "overheads = cross_entropies_12bit - entropies\n",
    "print(f'Maximum absolute overhead: {overheads.max():.4f}')\n",
    "print(f'Maximum relative overhead: {(overheads * 100 / entropies).max():.2f} %')\n",
    "entropies, cross_entropies_12bit"
   ]
  },
  {
   "cell_type": "code",
   "execution_count": 7,
   "metadata": {},
   "outputs": [],
   "source": [
    "inv_vocabs = [{v: i for i, v in enumerate(vs)} for vs in values]"
   ]
  },
  {
   "cell_type": "markdown",
   "metadata": {},
   "source": [
    "### Entropy Coder"
   ]
  },
  {
   "cell_type": "code",
   "execution_count": 8,
   "metadata": {},
   "outputs": [],
   "source": [
    "class AnsCoder:\n",
    "    def __init__(self, precision, word_size, compressed=[]):\n",
    "        self.precision = precision\n",
    "        self.word_size = word_size\n",
    "        self.word_mask = (1 << word_size) - 1\n",
    "        self.quantile_mask = (1 << precision) - 1\n",
    "        self.bulk = compressed.copy()\n",
    "        self.head = 0\n",
    "        while len(self.bulk) != 0 and (self.head >> word_size) == 0:\n",
    "            self.head = (self.head << word_size) | self.bulk.pop()\n",
    "\n",
    "    def push(self, symbol, m):\n",
    "        if (self.head >> (2 * self.word_size - self.precision)) >= m[symbol]:\n",
    "            self.bulk.append(self.head & self.word_mask)\n",
    "            self.head >>= self.word_size\n",
    "\n",
    "        z = self.head % m[symbol] + sum(m[0:symbol])\n",
    "        self.head //= m[symbol]\n",
    "        self.head = (self.head << self.precision) | z\n",
    "\n",
    "    def pop(self, m):\n",
    "        z = self.head & self.quantile_mask\n",
    "        self.head >>= self.precision\n",
    "        for symbol, m_symbol in enumerate(m):\n",
    "            if z >= m_symbol:\n",
    "                z -= m_symbol\n",
    "            else:\n",
    "                break\n",
    "        self.head = self.head * m_symbol + z\n",
    "        if (self.head >> self.word_size) == 0 and len(self.bulk) != 0:\n",
    "            self.head = (self.head << self.word_size) | self.bulk.pop()\n",
    "        return symbol\n",
    "\n",
    "    def get_compressed(self):\n",
    "        compressed = self.bulk.copy()\n",
    "        head = self.head\n",
    "        while head != 0:\n",
    "            compressed.append(head & self.word_mask)\n",
    "            head >>= self.word_size\n",
    "        return compressed"
   ]
  },
  {
   "cell_type": "markdown",
   "metadata": {},
   "source": [
    "## Compression 1: independently compressed matrix entries, with non-interleaved matrices"
   ]
  },
  {
   "cell_type": "code",
   "execution_count": null,
   "metadata": {},
   "outputs": [
    {
     "name": "stderr",
     "output_type": "stream",
     "text": [
      "  0%|          | 0/1024 [00:00<?, ?it/s]"
     ]
    },
    {
     "name": "stderr",
     "output_type": "stream",
     "text": [
      "100%|██████████| 1024/1024 [24:52<00:00,  1.46s/it]\n"
     ]
    }
   ],
   "source": [
    "def compress_entries(row, col):\n",
    "    coder = AnsCoder(12, 16, [1, 1])\n",
    "    for i in reversed(range(len(quantized_matrices))):\n",
    "        entry = quantized_matrices[i, row, col]\n",
    "        symbol_id = inv_vocabs[i][entry]\n",
    "        coder.push(symbol_id, counts_12bit[i])\n",
    "    return np.array(coder.get_compressed(), dtype=np.uint16)[::-1]\n",
    "\n",
    "compressed_entries = [[\n",
    "        compress_entries(row, col)\n",
    "        for row in range(1024)\n",
    "    ] for col in tqdm(range(1024))\n",
    "]"
   ]
  },
  {
   "cell_type": "code",
   "execution_count": null,
   "metadata": {},
   "outputs": [
    {
     "data": {
      "text/plain": [
       "(5.293472442626953, 5.087297199350456)"
      ]
     },
     "execution_count": 61,
     "metadata": {},
     "output_type": "execute_result"
    }
   ],
   "source": [
    "lengths = np.array([[len(e) for e in es] for es in compressed_entries])\n",
    "lengths.sum() * 16 / quantized_matrices.size, cross_entropies_12bit.mean()"
   ]
  },
  {
   "cell_type": "code",
   "execution_count": null,
   "metadata": {},
   "outputs": [
    {
     "data": {
      "text/plain": [
       "33878.2236328125"
      ]
     },
     "execution_count": 63,
     "metadata": {},
     "output_type": "execute_result"
    }
   ],
   "source": [
    "lengths.sum() / 1024"
   ]
  },
  {
   "cell_type": "code",
   "execution_count": 17,
   "metadata": {},
   "outputs": [
    {
     "name": "stderr",
     "output_type": "stream",
     "text": [
      "1it [00:36, 36.04s/it]"
     ]
    },
    {
     "name": "stdout",
     "output_type": "stream",
     "text": [
      "Encoded matrix 99; words emitted so far: 0\n"
     ]
    },
    {
     "name": "stderr",
     "output_type": "stream",
     "text": [
      "2it [00:53, 25.03s/it]"
     ]
    },
    {
     "name": "stdout",
     "output_type": "stream",
     "text": [
      "Encoded matrix 98; words emitted so far: 0\n"
     ]
    },
    {
     "name": "stderr",
     "output_type": "stream",
     "text": [
      "3it [01:11, 21.76s/it]"
     ]
    },
    {
     "name": "stdout",
     "output_type": "stream",
     "text": [
      "Encoded matrix 97; words emitted so far: 6442\n"
     ]
    },
    {
     "name": "stderr",
     "output_type": "stream",
     "text": [
      "4it [01:29, 20.54s/it]"
     ]
    },
    {
     "name": "stdout",
     "output_type": "stream",
     "text": [
      "Encoded matrix 96; words emitted so far: 256628\n"
     ]
    },
    {
     "name": "stderr",
     "output_type": "stream",
     "text": [
      "5it [01:49, 20.37s/it]"
     ]
    },
    {
     "name": "stdout",
     "output_type": "stream",
     "text": [
      "Encoded matrix 95; words emitted so far: 1048779\n"
     ]
    },
    {
     "name": "stderr",
     "output_type": "stream",
     "text": [
      "6it [02:09, 20.24s/it]"
     ]
    },
    {
     "name": "stdout",
     "output_type": "stream",
     "text": [
      "Encoded matrix 94; words emitted so far: 1061698\n"
     ]
    },
    {
     "name": "stderr",
     "output_type": "stream",
     "text": [
      "7it [02:32, 20.99s/it]"
     ]
    },
    {
     "name": "stdout",
     "output_type": "stream",
     "text": [
      "Encoded matrix 93; words emitted so far: 1274851\n"
     ]
    },
    {
     "name": "stderr",
     "output_type": "stream",
     "text": [
      "8it [02:56, 21.83s/it]"
     ]
    },
    {
     "name": "stdout",
     "output_type": "stream",
     "text": [
      "Encoded matrix 92; words emitted so far: 2035984\n"
     ]
    },
    {
     "name": "stderr",
     "output_type": "stream",
     "text": [
      "9it [03:20, 22.66s/it]"
     ]
    },
    {
     "name": "stdout",
     "output_type": "stream",
     "text": [
      "Encoded matrix 91; words emitted so far: 2114211\n"
     ]
    },
    {
     "name": "stderr",
     "output_type": "stream",
     "text": [
      "10it [03:45, 23.42s/it]"
     ]
    },
    {
     "name": "stdout",
     "output_type": "stream",
     "text": [
      "Encoded matrix 90; words emitted so far: 2294396\n"
     ]
    },
    {
     "name": "stderr",
     "output_type": "stream",
     "text": [
      "11it [04:09, 23.38s/it]"
     ]
    },
    {
     "name": "stdout",
     "output_type": "stream",
     "text": [
      "Encoded matrix 89; words emitted so far: 2910784\n"
     ]
    },
    {
     "name": "stderr",
     "output_type": "stream",
     "text": [
      "12it [04:20, 19.81s/it]"
     ]
    },
    {
     "name": "stdout",
     "output_type": "stream",
     "text": [
      "Encoded matrix 88; words emitted so far: 3164586\n"
     ]
    },
    {
     "name": "stderr",
     "output_type": "stream",
     "text": [
      "13it [04:33, 17.83s/it]"
     ]
    },
    {
     "name": "stdout",
     "output_type": "stream",
     "text": [
      "Encoded matrix 87; words emitted so far: 3316701\n"
     ]
    },
    {
     "name": "stderr",
     "output_type": "stream",
     "text": [
      "14it [05:01, 20.80s/it]"
     ]
    },
    {
     "name": "stdout",
     "output_type": "stream",
     "text": [
      "Encoded matrix 86; words emitted so far: 3820261\n"
     ]
    },
    {
     "name": "stderr",
     "output_type": "stream",
     "text": [
      "15it [05:16, 19.14s/it]"
     ]
    },
    {
     "name": "stdout",
     "output_type": "stream",
     "text": [
      "Encoded matrix 85; words emitted so far: 4203805\n"
     ]
    },
    {
     "name": "stderr",
     "output_type": "stream",
     "text": [
      "16it [05:34, 18.64s/it]"
     ]
    },
    {
     "name": "stdout",
     "output_type": "stream",
     "text": [
      "Encoded matrix 84; words emitted so far: 4343773\n"
     ]
    },
    {
     "name": "stderr",
     "output_type": "stream",
     "text": [
      "17it [05:59, 20.62s/it]"
     ]
    },
    {
     "name": "stdout",
     "output_type": "stream",
     "text": [
      "Encoded matrix 83; words emitted so far: 4762724\n"
     ]
    },
    {
     "name": "stderr",
     "output_type": "stream",
     "text": [
      "18it [06:26, 22.37s/it]"
     ]
    },
    {
     "name": "stdout",
     "output_type": "stream",
     "text": [
      "Encoded matrix 82; words emitted so far: 5207027\n"
     ]
    },
    {
     "name": "stderr",
     "output_type": "stream",
     "text": [
      "19it [06:53, 23.83s/it]"
     ]
    },
    {
     "name": "stdout",
     "output_type": "stream",
     "text": [
      "Encoded matrix 81; words emitted so far: 5373774\n"
     ]
    },
    {
     "name": "stderr",
     "output_type": "stream",
     "text": [
      "20it [07:18, 24.27s/it]"
     ]
    },
    {
     "name": "stdout",
     "output_type": "stream",
     "text": [
      "Encoded matrix 80; words emitted so far: 5727253\n"
     ]
    },
    {
     "name": "stderr",
     "output_type": "stream",
     "text": [
      "21it [07:39, 23.31s/it]"
     ]
    },
    {
     "name": "stdout",
     "output_type": "stream",
     "text": [
      "Encoded matrix 79; words emitted so far: 6184446\n"
     ]
    },
    {
     "name": "stderr",
     "output_type": "stream",
     "text": [
      "22it [08:02, 23.23s/it]"
     ]
    },
    {
     "name": "stdout",
     "output_type": "stream",
     "text": [
      "Encoded matrix 78; words emitted so far: 6404355\n"
     ]
    },
    {
     "name": "stderr",
     "output_type": "stream",
     "text": [
      "23it [08:21, 21.84s/it]"
     ]
    },
    {
     "name": "stdout",
     "output_type": "stream",
     "text": [
      "Encoded matrix 77; words emitted so far: 6708662\n"
     ]
    },
    {
     "name": "stderr",
     "output_type": "stream",
     "text": [
      "24it [08:40, 21.15s/it]"
     ]
    },
    {
     "name": "stdout",
     "output_type": "stream",
     "text": [
      "Encoded matrix 76; words emitted so far: 7152625\n"
     ]
    },
    {
     "name": "stderr",
     "output_type": "stream",
     "text": [
      "25it [09:02, 21.30s/it]"
     ]
    },
    {
     "name": "stdout",
     "output_type": "stream",
     "text": [
      "Encoded matrix 75; words emitted so far: 7428623\n"
     ]
    },
    {
     "name": "stderr",
     "output_type": "stream",
     "text": [
      "26it [09:21, 20.66s/it]"
     ]
    },
    {
     "name": "stdout",
     "output_type": "stream",
     "text": [
      "Encoded matrix 74; words emitted so far: 7701463\n"
     ]
    },
    {
     "name": "stderr",
     "output_type": "stream",
     "text": [
      "27it [09:48, 22.49s/it]"
     ]
    },
    {
     "name": "stdout",
     "output_type": "stream",
     "text": [
      "Encoded matrix 73; words emitted so far: 8120841\n"
     ]
    },
    {
     "name": "stderr",
     "output_type": "stream",
     "text": [
      "28it [10:19, 25.05s/it]"
     ]
    },
    {
     "name": "stdout",
     "output_type": "stream",
     "text": [
      "Encoded matrix 72; words emitted so far: 8441861\n"
     ]
    },
    {
     "name": "stderr",
     "output_type": "stream",
     "text": [
      "29it [10:48, 26.18s/it]"
     ]
    },
    {
     "name": "stdout",
     "output_type": "stream",
     "text": [
      "Encoded matrix 71; words emitted so far: 8702378\n"
     ]
    },
    {
     "name": "stderr",
     "output_type": "stream",
     "text": [
      "30it [11:33, 31.84s/it]"
     ]
    },
    {
     "name": "stdout",
     "output_type": "stream",
     "text": [
      "Encoded matrix 70; words emitted so far: 9093002\n"
     ]
    },
    {
     "name": "stderr",
     "output_type": "stream",
     "text": [
      "31it [11:58, 29.80s/it]"
     ]
    },
    {
     "name": "stdout",
     "output_type": "stream",
     "text": [
      "Encoded matrix 69; words emitted so far: 9444019\n"
     ]
    },
    {
     "name": "stderr",
     "output_type": "stream",
     "text": [
      "32it [12:38, 32.80s/it]"
     ]
    },
    {
     "name": "stdout",
     "output_type": "stream",
     "text": [
      "Encoded matrix 68; words emitted so far: 9709118\n"
     ]
    },
    {
     "name": "stderr",
     "output_type": "stream",
     "text": [
      "33it [13:13, 33.50s/it]"
     ]
    },
    {
     "name": "stdout",
     "output_type": "stream",
     "text": [
      "Encoded matrix 67; words emitted so far: 10069516\n"
     ]
    },
    {
     "name": "stderr",
     "output_type": "stream",
     "text": [
      "34it [13:54, 35.91s/it]"
     ]
    },
    {
     "name": "stdout",
     "output_type": "stream",
     "text": [
      "Encoded matrix 66; words emitted so far: 10437339\n"
     ]
    },
    {
     "name": "stderr",
     "output_type": "stream",
     "text": [
      "35it [14:37, 37.87s/it]"
     ]
    },
    {
     "name": "stdout",
     "output_type": "stream",
     "text": [
      "Encoded matrix 65; words emitted so far: 10716957\n"
     ]
    },
    {
     "name": "stderr",
     "output_type": "stream",
     "text": [
      "36it [15:02, 33.95s/it]"
     ]
    },
    {
     "name": "stdout",
     "output_type": "stream",
     "text": [
      "Encoded matrix 64; words emitted so far: 11052762\n"
     ]
    },
    {
     "name": "stderr",
     "output_type": "stream",
     "text": [
      "37it [15:27, 31.30s/it]"
     ]
    },
    {
     "name": "stdout",
     "output_type": "stream",
     "text": [
      "Encoded matrix 63; words emitted so far: 11425707\n"
     ]
    },
    {
     "name": "stderr",
     "output_type": "stream",
     "text": [
      "38it [15:50, 28.89s/it]"
     ]
    },
    {
     "name": "stdout",
     "output_type": "stream",
     "text": [
      "Encoded matrix 62; words emitted so far: 11722859\n"
     ]
    },
    {
     "name": "stderr",
     "output_type": "stream",
     "text": [
      "39it [16:16, 27.92s/it]"
     ]
    },
    {
     "name": "stdout",
     "output_type": "stream",
     "text": [
      "Encoded matrix 61; words emitted so far: 12041996\n"
     ]
    },
    {
     "name": "stderr",
     "output_type": "stream",
     "text": [
      "40it [16:48, 29.34s/it]"
     ]
    },
    {
     "name": "stdout",
     "output_type": "stream",
     "text": [
      "Encoded matrix 60; words emitted so far: 12410758\n"
     ]
    },
    {
     "name": "stderr",
     "output_type": "stream",
     "text": [
      "41it [17:15, 28.47s/it]"
     ]
    },
    {
     "name": "stdout",
     "output_type": "stream",
     "text": [
      "Encoded matrix 59; words emitted so far: 12726112\n"
     ]
    },
    {
     "name": "stderr",
     "output_type": "stream",
     "text": [
      "42it [17:37, 26.63s/it]"
     ]
    },
    {
     "name": "stdout",
     "output_type": "stream",
     "text": [
      "Encoded matrix 58; words emitted so far: 13035503\n"
     ]
    },
    {
     "name": "stderr",
     "output_type": "stream",
     "text": [
      "43it [18:01, 25.82s/it]"
     ]
    },
    {
     "name": "stdout",
     "output_type": "stream",
     "text": [
      "Encoded matrix 57; words emitted so far: 13395641\n"
     ]
    },
    {
     "name": "stderr",
     "output_type": "stream",
     "text": [
      "44it [18:24, 25.05s/it]"
     ]
    },
    {
     "name": "stdout",
     "output_type": "stream",
     "text": [
      "Encoded matrix 56; words emitted so far: 13725241\n"
     ]
    },
    {
     "name": "stderr",
     "output_type": "stream",
     "text": [
      "45it [18:46, 24.07s/it]"
     ]
    },
    {
     "name": "stdout",
     "output_type": "stream",
     "text": [
      "Encoded matrix 55; words emitted so far: 14032251\n"
     ]
    },
    {
     "name": "stderr",
     "output_type": "stream",
     "text": [
      "46it [19:09, 23.63s/it]"
     ]
    },
    {
     "name": "stdout",
     "output_type": "stream",
     "text": [
      "Encoded matrix 54; words emitted so far: 14382221\n"
     ]
    },
    {
     "name": "stderr",
     "output_type": "stream",
     "text": [
      "47it [19:31, 23.27s/it]"
     ]
    },
    {
     "name": "stdout",
     "output_type": "stream",
     "text": [
      "Encoded matrix 53; words emitted so far: 14721415\n"
     ]
    },
    {
     "name": "stderr",
     "output_type": "stream",
     "text": [
      "48it [19:56, 23.66s/it]"
     ]
    },
    {
     "name": "stdout",
     "output_type": "stream",
     "text": [
      "Encoded matrix 52; words emitted so far: 15030574\n"
     ]
    },
    {
     "name": "stderr",
     "output_type": "stream",
     "text": [
      "49it [20:21, 24.29s/it]"
     ]
    },
    {
     "name": "stdout",
     "output_type": "stream",
     "text": [
      "Encoded matrix 51; words emitted so far: 15370722\n"
     ]
    },
    {
     "name": "stderr",
     "output_type": "stream",
     "text": [
      "50it [20:48, 24.92s/it]"
     ]
    },
    {
     "name": "stdout",
     "output_type": "stream",
     "text": [
      "Encoded matrix 50; words emitted so far: 15714206\n"
     ]
    },
    {
     "name": "stderr",
     "output_type": "stream",
     "text": [
      "51it [21:22, 27.62s/it]"
     ]
    },
    {
     "name": "stdout",
     "output_type": "stream",
     "text": [
      "Encoded matrix 49; words emitted so far: 16029057\n"
     ]
    },
    {
     "name": "stderr",
     "output_type": "stream",
     "text": [
      "52it [21:45, 26.31s/it]"
     ]
    },
    {
     "name": "stdout",
     "output_type": "stream",
     "text": [
      "Encoded matrix 48; words emitted so far: 16360831\n"
     ]
    },
    {
     "name": "stderr",
     "output_type": "stream",
     "text": [
      "53it [22:16, 27.62s/it]"
     ]
    },
    {
     "name": "stdout",
     "output_type": "stream",
     "text": [
      "Encoded matrix 47; words emitted so far: 16706084\n"
     ]
    },
    {
     "name": "stderr",
     "output_type": "stream",
     "text": [
      "54it [23:03, 33.60s/it]"
     ]
    },
    {
     "name": "stdout",
     "output_type": "stream",
     "text": [
      "Encoded matrix 46; words emitted so far: 17026550\n"
     ]
    },
    {
     "name": "stderr",
     "output_type": "stream",
     "text": [
      "55it [23:23, 29.47s/it]"
     ]
    },
    {
     "name": "stdout",
     "output_type": "stream",
     "text": [
      "Encoded matrix 45; words emitted so far: 17353269\n"
     ]
    },
    {
     "name": "stderr",
     "output_type": "stream",
     "text": [
      "56it [23:58, 31.06s/it]"
     ]
    },
    {
     "name": "stdout",
     "output_type": "stream",
     "text": [
      "Encoded matrix 44; words emitted so far: 17697070\n"
     ]
    },
    {
     "name": "stderr",
     "output_type": "stream",
     "text": [
      "57it [24:17, 27.60s/it]"
     ]
    },
    {
     "name": "stdout",
     "output_type": "stream",
     "text": [
      "Encoded matrix 43; words emitted so far: 18023450\n"
     ]
    },
    {
     "name": "stderr",
     "output_type": "stream",
     "text": [
      "58it [24:32, 23.72s/it]"
     ]
    },
    {
     "name": "stdout",
     "output_type": "stream",
     "text": [
      "Encoded matrix 42; words emitted so far: 18346813\n"
     ]
    },
    {
     "name": "stderr",
     "output_type": "stream",
     "text": [
      "59it [24:55, 23.42s/it]"
     ]
    },
    {
     "name": "stdout",
     "output_type": "stream",
     "text": [
      "Encoded matrix 41; words emitted so far: 18687525\n"
     ]
    },
    {
     "name": "stderr",
     "output_type": "stream",
     "text": [
      "60it [25:15, 22.51s/it]"
     ]
    },
    {
     "name": "stdout",
     "output_type": "stream",
     "text": [
      "Encoded matrix 40; words emitted so far: 19018870\n"
     ]
    },
    {
     "name": "stderr",
     "output_type": "stream",
     "text": [
      "61it [25:31, 20.49s/it]"
     ]
    },
    {
     "name": "stdout",
     "output_type": "stream",
     "text": [
      "Encoded matrix 39; words emitted so far: 19341558\n"
     ]
    },
    {
     "name": "stderr",
     "output_type": "stream",
     "text": [
      "62it [25:46, 18.79s/it]"
     ]
    },
    {
     "name": "stdout",
     "output_type": "stream",
     "text": [
      "Encoded matrix 38; words emitted so far: 19679064\n"
     ]
    },
    {
     "name": "stderr",
     "output_type": "stream",
     "text": [
      "63it [26:01, 17.68s/it]"
     ]
    },
    {
     "name": "stdout",
     "output_type": "stream",
     "text": [
      "Encoded matrix 37; words emitted so far: 20013156\n"
     ]
    },
    {
     "name": "stderr",
     "output_type": "stream",
     "text": [
      "64it [26:13, 15.99s/it]"
     ]
    },
    {
     "name": "stdout",
     "output_type": "stream",
     "text": [
      "Encoded matrix 36; words emitted so far: 20336871\n"
     ]
    },
    {
     "name": "stderr",
     "output_type": "stream",
     "text": [
      "65it [26:26, 15.08s/it]"
     ]
    },
    {
     "name": "stdout",
     "output_type": "stream",
     "text": [
      "Encoded matrix 35; words emitted so far: 20670225\n"
     ]
    },
    {
     "name": "stderr",
     "output_type": "stream",
     "text": [
      "66it [26:40, 14.69s/it]"
     ]
    },
    {
     "name": "stdout",
     "output_type": "stream",
     "text": [
      "Encoded matrix 34; words emitted so far: 21006190\n"
     ]
    },
    {
     "name": "stderr",
     "output_type": "stream",
     "text": [
      "67it [26:54, 14.51s/it]"
     ]
    },
    {
     "name": "stdout",
     "output_type": "stream",
     "text": [
      "Encoded matrix 33; words emitted so far: 21332326\n"
     ]
    },
    {
     "name": "stderr",
     "output_type": "stream",
     "text": [
      "68it [27:07, 14.17s/it]"
     ]
    },
    {
     "name": "stdout",
     "output_type": "stream",
     "text": [
      "Encoded matrix 32; words emitted so far: 21663189\n"
     ]
    },
    {
     "name": "stderr",
     "output_type": "stream",
     "text": [
      "69it [27:24, 14.98s/it]"
     ]
    },
    {
     "name": "stdout",
     "output_type": "stream",
     "text": [
      "Encoded matrix 31; words emitted so far: 21999555\n"
     ]
    },
    {
     "name": "stderr",
     "output_type": "stream",
     "text": [
      "70it [27:37, 14.52s/it]"
     ]
    },
    {
     "name": "stdout",
     "output_type": "stream",
     "text": [
      "Encoded matrix 30; words emitted so far: 22327112\n"
     ]
    },
    {
     "name": "stderr",
     "output_type": "stream",
     "text": [
      "71it [27:49, 13.76s/it]"
     ]
    },
    {
     "name": "stdout",
     "output_type": "stream",
     "text": [
      "Encoded matrix 29; words emitted so far: 22655948\n"
     ]
    },
    {
     "name": "stderr",
     "output_type": "stream",
     "text": [
      "72it [28:02, 13.50s/it]"
     ]
    },
    {
     "name": "stdout",
     "output_type": "stream",
     "text": [
      "Encoded matrix 28; words emitted so far: 22991946\n"
     ]
    },
    {
     "name": "stderr",
     "output_type": "stream",
     "text": [
      "73it [28:15, 13.22s/it]"
     ]
    },
    {
     "name": "stdout",
     "output_type": "stream",
     "text": [
      "Encoded matrix 27; words emitted so far: 23321389\n"
     ]
    },
    {
     "name": "stderr",
     "output_type": "stream",
     "text": [
      "74it [28:28, 13.09s/it]"
     ]
    },
    {
     "name": "stdout",
     "output_type": "stream",
     "text": [
      "Encoded matrix 26; words emitted so far: 23649218\n"
     ]
    },
    {
     "name": "stderr",
     "output_type": "stream",
     "text": [
      "75it [28:40, 12.86s/it]"
     ]
    },
    {
     "name": "stdout",
     "output_type": "stream",
     "text": [
      "Encoded matrix 25; words emitted so far: 23984877\n"
     ]
    },
    {
     "name": "stderr",
     "output_type": "stream",
     "text": [
      "76it [28:57, 14.00s/it]"
     ]
    },
    {
     "name": "stdout",
     "output_type": "stream",
     "text": [
      "Encoded matrix 24; words emitted so far: 24315655\n"
     ]
    },
    {
     "name": "stderr",
     "output_type": "stream",
     "text": [
      "77it [29:07, 13.05s/it]"
     ]
    },
    {
     "name": "stdout",
     "output_type": "stream",
     "text": [
      "Encoded matrix 23; words emitted so far: 24644003\n"
     ]
    },
    {
     "name": "stderr",
     "output_type": "stream",
     "text": [
      "78it [29:19, 12.49s/it]"
     ]
    },
    {
     "name": "stdout",
     "output_type": "stream",
     "text": [
      "Encoded matrix 22; words emitted so far: 24977315\n"
     ]
    },
    {
     "name": "stderr",
     "output_type": "stream",
     "text": [
      "79it [29:33, 12.96s/it]"
     ]
    },
    {
     "name": "stdout",
     "output_type": "stream",
     "text": [
      "Encoded matrix 21; words emitted so far: 25309429\n"
     ]
    },
    {
     "name": "stderr",
     "output_type": "stream",
     "text": [
      "80it [29:46, 13.17s/it]"
     ]
    },
    {
     "name": "stdout",
     "output_type": "stream",
     "text": [
      "Encoded matrix 20; words emitted so far: 25637461\n"
     ]
    },
    {
     "name": "stderr",
     "output_type": "stream",
     "text": [
      "81it [29:59, 13.17s/it]"
     ]
    },
    {
     "name": "stdout",
     "output_type": "stream",
     "text": [
      "Encoded matrix 19; words emitted so far: 25969725\n"
     ]
    },
    {
     "name": "stderr",
     "output_type": "stream",
     "text": [
      "82it [30:14, 13.61s/it]"
     ]
    },
    {
     "name": "stdout",
     "output_type": "stream",
     "text": [
      "Encoded matrix 18; words emitted so far: 26302481\n"
     ]
    },
    {
     "name": "stderr",
     "output_type": "stream",
     "text": [
      "83it [30:26, 13.18s/it]"
     ]
    },
    {
     "name": "stdout",
     "output_type": "stream",
     "text": [
      "Encoded matrix 17; words emitted so far: 26632286\n"
     ]
    },
    {
     "name": "stderr",
     "output_type": "stream",
     "text": [
      "84it [30:43, 14.36s/it]"
     ]
    },
    {
     "name": "stdout",
     "output_type": "stream",
     "text": [
      "Encoded matrix 16; words emitted so far: 26963759\n"
     ]
    },
    {
     "name": "stderr",
     "output_type": "stream",
     "text": [
      "85it [30:57, 14.28s/it]"
     ]
    },
    {
     "name": "stdout",
     "output_type": "stream",
     "text": [
      "Encoded matrix 15; words emitted so far: 27295998\n"
     ]
    },
    {
     "name": "stderr",
     "output_type": "stream",
     "text": [
      "86it [31:12, 14.27s/it]"
     ]
    },
    {
     "name": "stdout",
     "output_type": "stream",
     "text": [
      "Encoded matrix 14; words emitted so far: 27625989\n"
     ]
    },
    {
     "name": "stderr",
     "output_type": "stream",
     "text": [
      "87it [31:28, 14.77s/it]"
     ]
    },
    {
     "name": "stdout",
     "output_type": "stream",
     "text": [
      "Encoded matrix 13; words emitted so far: 27956976\n"
     ]
    },
    {
     "name": "stderr",
     "output_type": "stream",
     "text": [
      "88it [31:40, 14.17s/it]"
     ]
    },
    {
     "name": "stdout",
     "output_type": "stream",
     "text": [
      "Encoded matrix 12; words emitted so far: 28289041\n"
     ]
    },
    {
     "name": "stderr",
     "output_type": "stream",
     "text": [
      "89it [31:52, 13.36s/it]"
     ]
    },
    {
     "name": "stdout",
     "output_type": "stream",
     "text": [
      "Encoded matrix 11; words emitted so far: 28620245\n"
     ]
    },
    {
     "name": "stderr",
     "output_type": "stream",
     "text": [
      "90it [32:04, 13.04s/it]"
     ]
    },
    {
     "name": "stdout",
     "output_type": "stream",
     "text": [
      "Encoded matrix 10; words emitted so far: 28950100\n"
     ]
    },
    {
     "name": "stderr",
     "output_type": "stream",
     "text": [
      "91it [32:22, 14.56s/it]"
     ]
    },
    {
     "name": "stdout",
     "output_type": "stream",
     "text": [
      "Encoded matrix 9; words emitted so far: 29282314\n"
     ]
    },
    {
     "name": "stderr",
     "output_type": "stream",
     "text": [
      "92it [32:42, 16.06s/it]"
     ]
    },
    {
     "name": "stdout",
     "output_type": "stream",
     "text": [
      "Encoded matrix 8; words emitted so far: 29613850\n"
     ]
    },
    {
     "name": "stderr",
     "output_type": "stream",
     "text": [
      "93it [32:53, 14.64s/it]"
     ]
    },
    {
     "name": "stdout",
     "output_type": "stream",
     "text": [
      "Encoded matrix 7; words emitted so far: 29943586\n"
     ]
    },
    {
     "name": "stderr",
     "output_type": "stream",
     "text": [
      "94it [33:05, 13.79s/it]"
     ]
    },
    {
     "name": "stdout",
     "output_type": "stream",
     "text": [
      "Encoded matrix 6; words emitted so far: 30275836\n"
     ]
    },
    {
     "name": "stderr",
     "output_type": "stream",
     "text": [
      "95it [33:16, 13.02s/it]"
     ]
    },
    {
     "name": "stdout",
     "output_type": "stream",
     "text": [
      "Encoded matrix 5; words emitted so far: 30607618\n"
     ]
    },
    {
     "name": "stderr",
     "output_type": "stream",
     "text": [
      "96it [33:29, 13.06s/it]"
     ]
    },
    {
     "name": "stdout",
     "output_type": "stream",
     "text": [
      "Encoded matrix 4; words emitted so far: 30937587\n"
     ]
    },
    {
     "name": "stderr",
     "output_type": "stream",
     "text": [
      "97it [33:43, 13.35s/it]"
     ]
    },
    {
     "name": "stdout",
     "output_type": "stream",
     "text": [
      "Encoded matrix 3; words emitted so far: 31268963\n"
     ]
    },
    {
     "name": "stderr",
     "output_type": "stream",
     "text": [
      "98it [34:02, 14.79s/it]"
     ]
    },
    {
     "name": "stdout",
     "output_type": "stream",
     "text": [
      "Encoded matrix 2; words emitted so far: 31600868\n"
     ]
    },
    {
     "name": "stderr",
     "output_type": "stream",
     "text": [
      "99it [34:19, 15.52s/it]"
     ]
    },
    {
     "name": "stdout",
     "output_type": "stream",
     "text": [
      "Encoded matrix 1; words emitted so far: 31931008\n"
     ]
    },
    {
     "name": "stderr",
     "output_type": "stream",
     "text": [
      "100it [34:38, 20.79s/it]"
     ]
    },
    {
     "name": "stdout",
     "output_type": "stream",
     "text": [
      "Encoded matrix 0; words emitted so far: 32261991\n"
     ]
    },
    {
     "name": "stderr",
     "output_type": "stream",
     "text": [
      "\n"
     ]
    }
   ],
   "source": [
    "compressed_stream = []\n",
    "coder_offsets = np.zeros((len(matrices), matrices[0].size), dtype=np.uint32)\n",
    "coders = [AnsCoder(12, 16, [1, 1]) for _ in range(matrices[0].size)]\n",
    "for i in tqdm(reversed(range(len(matrices)))):\n",
    "    model = counts_12bit[i]\n",
    "    inv_vocab = inv_vocabs[i]\n",
    "    for j, entry, coder in zip(range(quantized_matrices[i].size - 1, -1, -1), reversed(quantized_matrices[i].ravel()), coders):\n",
    "        symbol_id = inv_vocab[entry]\n",
    "        coder.push(symbol_id, model)\n",
    "        if len(coder.bulk) == 1:\n",
    "            compressed_stream.append(coder.bulk[0])\n",
    "            coder.bulk = []\n",
    "        coder_offsets[i, j] = len(compressed_stream)\n",
    "    print(f'Encoded matrix {i}; words emitted so far: {coder_offsets[i, -1]}')"
   ]
  },
  {
   "cell_type": "code",
   "execution_count": 18,
   "metadata": {},
   "outputs": [],
   "source": [
    "compressed_stream_copy = compressed_stream.copy()"
   ]
  },
  {
   "cell_type": "code",
   "execution_count": 25,
   "metadata": {},
   "outputs": [],
   "source": [
    "for coder in coders:\n",
    "    assert len(coder.bulk) == 0\n",
    "    compressed = coder.get_compressed()\n",
    "    assert len(compressed) == 2\n",
    "    compressed_stream += compressed\n",
    "compressed_stream = np.array(compressed_stream, dtype=np.uint16)"
   ]
  },
  {
   "cell_type": "code",
   "execution_count": 43,
   "metadata": {},
   "outputs": [
    {
     "data": {
      "text/plain": [
       "(34691301, 5.293472442626953, 0.2061752432764976)"
      ]
     },
     "execution_count": 43,
     "metadata": {},
     "output_type": "execute_result"
    }
   ],
   "source": [
    "bitrate = len(compressed_stream) * 16 / quantized_matrices.size\n",
    "len(compressed_stream), bitrate, bitrate - cross_entropies_12bit.mean()"
   ]
  },
  {
   "cell_type": "code",
   "execution_count": 31,
   "metadata": {},
   "outputs": [],
   "source": [
    "import pickle"
   ]
  },
  {
   "cell_type": "code",
   "execution_count": 45,
   "metadata": {},
   "outputs": [],
   "source": [
    "with open(\"100-compressed-matrices.pickle\", \"wb\") as f:\n",
    "    pickle.dump({\"compressed_stream\": compressed_stream, \"coder_offsets\": coder_offsets}, f)"
   ]
  },
  {
   "cell_type": "code",
   "execution_count": 46,
   "metadata": {},
   "outputs": [
    {
     "name": "stdout",
     "output_type": "stream",
     "text": [
      "-rw-rw-r-- 1 robamler robamler 467M Apr 21 22:45 100-compressed-matrices.pickle\n"
     ]
    }
   ],
   "source": [
    "!ls -lh *.pickle"
   ]
  },
  {
   "cell_type": "code",
   "execution_count": null,
   "metadata": {},
   "outputs": [
    {
     "data": {
      "text/plain": [
       "(array([9776,  352,  928, ..., 9872,  448, 1024]),\n",
       " array([   9776,   10128,   11056, ..., 1932128, 1932576, 1933600]),\n",
       " array([  60928,  112880,  175856,  247056,  298880,  351728,  423200,\n",
       "         484896,  537616,  599360,  670928,  723520,  775536,  846976,\n",
       "         909440,  961728, 1023040, 1095376, 1147936, 1199120, 1271328,\n",
       "        1334160, 1385216, 1447296, 1510400, 1571328, 1623280, 1686256,\n",
       "        1757456, 1809280, 1862128, 1933600]))"
      ]
     },
     "execution_count": 107,
     "metadata": {},
     "output_type": "execute_result"
    }
   ],
   "source": [
    "test = np.array([i % 100 for i in range(1024**2)]).reshape(1024, 1024)\n",
    "rowsums = (test.sum(axis=1) % 10000)\n",
    "sumsums = np.array([rowsums[:i+1].sum() for i in range(1024)])\n",
    "rowsums, sumsums, sumsums[31::32]"
   ]
  },
  {
   "cell_type": "code",
   "execution_count": null,
   "metadata": {},
   "outputs": [
    {
     "data": {
      "text/plain": [
       "0"
      ]
     },
     "execution_count": 99,
     "metadata": {},
     "output_type": "execute_result"
    }
   ],
   "source": [
    "(8*4) % 32"
   ]
  },
  {
   "cell_type": "code",
   "execution_count": null,
   "metadata": {},
   "outputs": [
    {
     "data": {
      "text/plain": [
       "[(0, 28),\n",
       " (1, 120),\n",
       " (2, 276),\n",
       " (3, 496),\n",
       " (4, 284),\n",
       " (5, 632),\n",
       " (6, 1044),\n",
       " (7, 1520),\n",
       " (8, 540),\n",
       " (9, 1144)]"
      ]
     },
     "execution_count": 101,
     "metadata": {},
     "output_type": "execute_result"
    }
   ],
   "source": [
    "[(i, sum(range(8 * i - (8 * i) % 32, 8 * (i + 1)))) for i in range(10)]"
   ]
  },
  {
   "cell_type": "code",
   "execution_count": null,
   "metadata": {},
   "outputs": [
    {
     "data": {
      "text/plain": [
       "[(0, 496),\n",
       " (1, 2016),\n",
       " (2, 4560),\n",
       " (3, 8128),\n",
       " (4, 12720),\n",
       " (5, 18336),\n",
       " (6, 24976),\n",
       " (7, 32640),\n",
       " (8, 41328),\n",
       " (9, 51040)]"
      ]
     },
     "execution_count": 106,
     "metadata": {},
     "output_type": "execute_result"
    }
   ],
   "source": [
    "[(i, sum(range(32 * (i + 1)))) for i in range(10)]"
   ]
  },
  {
   "cell_type": "code",
   "execution_count": null,
   "metadata": {},
   "outputs": [
    {
     "name": "stdout",
     "output_type": "stream",
     "text": [
      "19 0\n",
      "0 0\n"
     ]
    },
    {
     "data": {
      "text/plain": [
       "array([203, 202, 201, 197, 196, 190, 189, 180, 179, 168, 167, 153, 151,\n",
       "       139, 139, 123, 123, 108, 106,  94,  92,  80,  79,  67,  66,  55,\n",
       "        54,  45,  44,  36,  35,  28,  28,  22,  21,  17,  16,  12,  12,\n",
       "         9,   9,   6,   6,   5,   5,   3,   3,   2,   2,   2,   2,   1,\n",
       "         1,   1,   1,   1,   1,   1,   1,   1,   1,   1,   1,   1,   1,\n",
       "         1,   1,   1,   1,   1,   1,   1,   1,   1,   1,   1])"
      ]
     },
     "execution_count": 7,
     "metadata": {},
     "output_type": "execute_result"
    }
   ],
   "source": [
    "freqs = np.maximum(np.round(counts / 256).astype(np.int64), 1)\n",
    "too_much = sum(freqs) - 2**12\n",
    "print(too_much, 1024**2 - sum(counts))\n",
    "freqs[:too_much] -= 1 # very hacky but good enough for now\n",
    "print(2**12 - sum(freqs), 1024**2 - sum(counts))\n",
    "freqs"
   ]
  },
  {
   "cell_type": "code",
   "execution_count": null,
   "metadata": {},
   "outputs": [
    {
     "data": {
      "text/plain": [
       "(5.054123235441871, 5.048731287507302)"
      ]
     },
     "execution_count": 8,
     "metadata": {},
     "output_type": "execute_result"
    }
   ],
   "source": [
    "cross_entropy12bit = 12 - counts @ np.log2(freqs) / (1024**2)\n",
    "cross_entropy12bit, entropy20bit"
   ]
  },
  {
   "cell_type": "code",
   "execution_count": null,
   "metadata": {},
   "outputs": [
    {
     "data": {
      "text/plain": [
       "(array([    0, 32768,   203, 32767,   405, 32769,   606, 32766,   803,\n",
       "        32770,   999, 32771,  1189, 32765,  1378, 32772,  1558, 32764,\n",
       "         1737, 32773,  1905, 32763,  2072, 32774,  2225, 32762,  2376,\n",
       "        32761,  2515, 32775,  2654, 32776,  2777, 32760,  2900, 32759,\n",
       "         3008, 32777,  3114, 32778,  3208, 32758,  3300, 32779,  3380,\n",
       "        32757,  3459, 32756,  3526, 32780,  3592, 32781,  3647, 32755,\n",
       "         3701, 32754,  3746, 32782,  3790, 32753,  3826, 32783,  3861,\n",
       "        32752,  3889, 32784,  3917, 32751,  3939, 32785,  3960, 32786,\n",
       "         3977, 32750,  3993, 32749,  4005, 32787,  4017, 32788,  4026,\n",
       "        32748,  4035, 32747,  4041, 32789,  4047, 32790,  4052, 32746,\n",
       "         4057, 32745,  4060, 32791,  4063, 32792,  4065, 32744,  4067,\n",
       "        32793,  4069, 32743,  4071, 32742,  4072, 32794,  4073, 32741,\n",
       "         4074, 32795,  4075, 32796,  4076, 32740,  4077, 32797,  4078,\n",
       "        32739,  4079, 32798,  4080, 32737,  4081, 32738,  4082, 32799,\n",
       "         4083, 32800,  4084, 32736,  4085, 32801,  4086, 32735,  4087,\n",
       "        32734,  4088, 32802,  4089, 32803,  4090, 32733,  4091, 32732,\n",
       "         4092, 32730,  4093, 32804,  4094, 32806,  4095, 32727,  4096],\n",
       "       dtype=uint16),\n",
       " 153,\n",
       " 152,\n",
       " 1048576)"
      ]
     },
     "execution_count": 9,
     "metadata": {},
     "output_type": "execute_result"
    }
   ],
   "source": [
    "cdf = np.add.accumulate(np.concatenate([np.array([0]), freqs]))\n",
    "values_pad = np.concatenate([values, np.array([0])])\n",
    "model_specification = np.stack((cdf, values_pad + 2**15), axis=1).astype(np.uint16).ravel()[:-1]\n",
    "model_specification, len(model_specification), 2 * len(freqs), 1024**2"
   ]
  },
  {
   "cell_type": "code",
   "execution_count": null,
   "metadata": {},
   "outputs": [],
   "source": [
    "inv_vocab = {value: i for i, value in enumerate(values)}"
   ]
  },
  {
   "cell_type": "code",
   "execution_count": null,
   "metadata": {},
   "outputs": [],
   "source": [
    "distribution = constriction.stream.model.Categorical(freqs.astype(np.float64))\n",
    "# fake_next_data = np.array([1, 1], dtype=np.uint32) # pretend that there's more data to come (for the next matrix) so that decoding doesn't interfere with next row\n",
    "def compress_row(row):\n",
    "    row = np.array([inv_vocab[value] for value in row], dtype=np.int32)\n",
    "    # coder = constriction.stream.stack.AnsCoder(fake_next_data)\n",
    "    coder = AnsCoder(12, 16, [1, 1])\n",
    "    for elem in row[::-1]:\n",
    "        coder.push(elem, freqs)\n",
    "    # coder.encode_reverse(row.astype(np.int32), distribution)\n",
    "    return np.array(coder.get_compressed(), dtype=np.uint16)[::-1]\n",
    "    # return coder.get_compressed()"
   ]
  },
  {
   "cell_type": "code",
   "execution_count": null,
   "metadata": {},
   "outputs": [],
   "source": [
    "compressed = [compress_row(row) for row in quantized_matrix]"
   ]
  },
  {
   "cell_type": "code",
   "execution_count": null,
   "metadata": {},
   "outputs": [
    {
     "data": {
      "text/plain": [
       "(5.109375, 5.054123235441871)"
      ]
     },
     "execution_count": 14,
     "metadata": {},
     "output_type": "execute_result"
    }
   ],
   "source": [
    "len(compressed[0]) * 16 / 1024, cross_entropy12bit"
   ]
  },
  {
   "cell_type": "code",
   "execution_count": null,
   "metadata": {},
   "outputs": [
    {
     "data": {
      "text/plain": [
       "(array([2201,    0, 2528, ...,    5, 6956,    5], dtype=uint16), 2048)"
      ]
     },
     "execution_count": 15,
     "metadata": {},
     "output_type": "execute_result"
    }
   ],
   "source": [
    "offsets = np.zeros((2 * 1024,), dtype=np.uint16)\n",
    "pos = len(model_specification) + len(offsets)\n",
    "mask = (1 << 16) - 1\n",
    "for i in range(1024):\n",
    "    # little endian encoding\n",
    "    offsets[2 * i] = pos & mask\n",
    "    offsets[2 * i + 1] = pos >> 16\n",
    "    pos += len(compressed[i])\n",
    "offsets, len(offsets)"
   ]
  },
  {
   "cell_type": "code",
   "execution_count": null,
   "metadata": {},
   "outputs": [],
   "source": [
    "serialized = np.concatenate([offsets, model_specification.astype(np.uint16)] + compressed)"
   ]
  },
  {
   "cell_type": "code",
   "execution_count": null,
   "metadata": {},
   "outputs": [
    {
     "data": {
      "text/plain": [
       "8.0"
      ]
     },
     "execution_count": 17,
     "metadata": {},
     "output_type": "execute_result"
    }
   ],
   "source": [
    "len(offsets) / 256"
   ]
  },
  {
   "cell_type": "code",
   "execution_count": null,
   "metadata": {},
   "outputs": [
    {
     "data": {
      "text/plain": [
       "[20827,\n",
       " 2201,\n",
       " 273,\n",
       " 2201,\n",
       " 3819,\n",
       " 2201,\n",
       " 1188,\n",
       " 2201,\n",
       " 2,\n",
       " 2201,\n",
       " 1935,\n",
       " 2201,\n",
       " 11,\n",
       " 2201,\n",
       " 4584,\n",
       " 2201,\n",
       " 46,\n",
       " 2201,\n",
       " 192,\n",
       " 2201,\n",
       " 11852,\n",
       " 2201,\n",
       " 88,\n",
       " 2201,\n",
       " 2,\n",
       " 2201,\n",
       " 6161,\n",
       " 2201,\n",
       " 1,\n",
       " 2201,\n",
       " 61,\n",
       " 2201,\n",
       " 129,\n",
       " 2201,\n",
       " 83,\n",
       " 2201,\n",
       " 77,\n",
       " 2201,\n",
       " 21074,\n",
       " 2201,\n",
       " 145,\n",
       " 2201,\n",
       " 1504,\n",
       " 2201,\n",
       " 990,\n",
       " 2201,\n",
       " 48,\n",
       " 2201,\n",
       " 15750,\n",
       " 2201,\n",
       " 2074,\n",
       " 2201,\n",
       " 5,\n",
       " 2201,\n",
       " 116,\n",
       " 2201,\n",
       " 32,\n",
       " 2201,\n",
       " 4109,\n",
       " 2201,\n",
       " 630,\n",
       " 2201,\n",
       " 260,\n",
       " 2201,\n",
       " 6,\n",
       " 2201,\n",
       " 31833,\n",
       " 2201,\n",
       " 684,\n",
       " 2201,\n",
       " 34983,\n",
       " 2201,\n",
       " 3,\n",
       " 2201,\n",
       " 12,\n",
       " 2201,\n",
       " 1052,\n",
       " 2201,\n",
       " 12148,\n",
       " 2201,\n",
       " 24,\n",
       " 2201,\n",
       " 714,\n",
       " 2201,\n",
       " 46,\n",
       " 2201,\n",
       " 2,\n",
       " 2201,\n",
       " 42,\n",
       " 2201,\n",
       " 10,\n",
       " 2201,\n",
       " 8,\n",
       " 2201,\n",
       " 16,\n",
       " 2201,\n",
       " 1,\n",
       " 2201,\n",
       " 749,\n",
       " 2201,\n",
       " 20962,\n",
       " 2201,\n",
       " 19080,\n",
       " 2201,\n",
       " 4698,\n",
       " 2201,\n",
       " 51,\n",
       " 2201,\n",
       " 1807,\n",
       " 2201,\n",
       " 54159,\n",
       " 2201,\n",
       " 18108,\n",
       " 2201,\n",
       " 9,\n",
       " 2201,\n",
       " 3024,\n",
       " 2201,\n",
       " 1044,\n",
       " 2201,\n",
       " 74,\n",
       " 2201,\n",
       " 333,\n",
       " 2201,\n",
       " 250,\n",
       " 2201,\n",
       " 378,\n",
       " 2201,\n",
       " 20,\n",
       " 2201,\n",
       " 1417,\n",
       " 2201,\n",
       " 30,\n",
       " 2201,\n",
       " 25,\n",
       " 2201,\n",
       " 185,\n",
       " 2201,\n",
       " 1311,\n",
       " 2201,\n",
       " 3512,\n",
       " 2201,\n",
       " 1897,\n",
       " 2201,\n",
       " 4,\n",
       " 2201,\n",
       " 34,\n",
       " 2201,\n",
       " 13,\n",
       " 2201,\n",
       " 1777,\n",
       " 2201,\n",
       " 10330,\n",
       " 2201,\n",
       " 3,\n",
       " 2201,\n",
       " 28302,\n",
       " 2201,\n",
       " 6214,\n",
       " 2201,\n",
       " 33538,\n",
       " 2201,\n",
       " 185,\n",
       " 2201,\n",
       " 2,\n",
       " 2201,\n",
       " 150,\n",
       " 2201,\n",
       " 12,\n",
       " 2201,\n",
       " 10,\n",
       " 2201,\n",
       " 40931,\n",
       " 2201,\n",
       " 116,\n",
       " 2201,\n",
       " 5550,\n",
       " 2201,\n",
       " 5,\n",
       " 2201,\n",
       " 154,\n",
       " 2201,\n",
       " 207,\n",
       " 2201,\n",
       " 4,\n",
       " 2201,\n",
       " 135,\n",
       " 2201,\n",
       " 47,\n",
       " 2201,\n",
       " 7,\n",
       " 2201,\n",
       " 12,\n",
       " 2201,\n",
       " 11089,\n",
       " 2201,\n",
       " 31,\n",
       " 2201,\n",
       " 116,\n",
       " 2201,\n",
       " 258,\n",
       " 2201,\n",
       " 23103,\n",
       " 2201,\n",
       " 28,\n",
       " 2201,\n",
       " 27796,\n",
       " 2201,\n",
       " 30,\n",
       " 2201,\n",
       " 24535,\n",
       " 2201,\n",
       " 134,\n",
       " 2201,\n",
       " 17754,\n",
       " 2201,\n",
       " 39610,\n",
       " 2201,\n",
       " 13,\n",
       " 2201,\n",
       " 50,\n",
       " 2201,\n",
       " 87,\n",
       " 2201,\n",
       " 8,\n",
       " 2201,\n",
       " 8633,\n",
       " 2201,\n",
       " 1024,\n",
       " 2201,\n",
       " 28,\n",
       " 2201,\n",
       " 22,\n",
       " 2201,\n",
       " 11,\n",
       " 2201,\n",
       " 2626,\n",
       " 2201,\n",
       " 303,\n",
       " 2201,\n",
       " 11,\n",
       " 2201,\n",
       " 14,\n",
       " 2201,\n",
       " 2,\n",
       " 2201,\n",
       " 4,\n",
       " 2201,\n",
       " 8,\n",
       " 2201,\n",
       " 158,\n",
       " 2201,\n",
       " 168,\n",
       " 2201,\n",
       " 737,\n",
       " 2201,\n",
       " 4026,\n",
       " 2201,\n",
       " 97,\n",
       " 2201,\n",
       " 26402,\n",
       " 2201,\n",
       " 36196,\n",
       " 2201,\n",
       " 8401,\n",
       " 2201,\n",
       " 5370,\n",
       " 2201,\n",
       " 2570,\n",
       " 2201,\n",
       " 3,\n",
       " 2201,\n",
       " 166,\n",
       " 2201,\n",
       " 179,\n",
       " 2201,\n",
       " 1,\n",
       " 2201,\n",
       " 2,\n",
       " 2201,\n",
       " 43,\n",
       " 2201,\n",
       " 1796,\n",
       " 2201,\n",
       " 1,\n",
       " 2201,\n",
       " 65,\n",
       " 2201,\n",
       " 1,\n",
       " 2201,\n",
       " 167,\n",
       " 2201,\n",
       " 4381,\n",
       " 2201,\n",
       " 966,\n",
       " 2201,\n",
       " 6,\n",
       " 2201,\n",
       " 2,\n",
       " 2201,\n",
       " 164,\n",
       " 2201,\n",
       " 62,\n",
       " 2201,\n",
       " 95,\n",
       " 2201,\n",
       " 11309,\n",
       " 2201,\n",
       " 175,\n",
       " 2201,\n",
       " 1,\n",
       " 2201,\n",
       " 45,\n",
       " 2201,\n",
       " 13,\n",
       " 2201,\n",
       " 59609,\n",
       " 2201,\n",
       " 31,\n",
       " 2201,\n",
       " 13840,\n",
       " 2201,\n",
       " 2,\n",
       " 2201,\n",
       " 228,\n",
       " 2201,\n",
       " 58,\n",
       " 2201,\n",
       " 406,\n",
       " 2201,\n",
       " 100,\n",
       " 2201,\n",
       " 6502,\n",
       " 2201,\n",
       " 1380,\n",
       " 2201,\n",
       " 8,\n",
       " 2201,\n",
       " 22484,\n",
       " 2201,\n",
       " 5,\n",
       " 2201,\n",
       " 13981,\n",
       " 2201,\n",
       " 1,\n",
       " 2201,\n",
       " 9,\n",
       " 2201,\n",
       " 12,\n",
       " 2201,\n",
       " 11,\n",
       " 2201,\n",
       " 59,\n",
       " 2201,\n",
       " 884,\n",
       " 2201,\n",
       " 53,\n",
       " 2201,\n",
       " 380,\n",
       " 2201,\n",
       " 1106,\n",
       " 2201,\n",
       " 24302,\n",
       " 2201,\n",
       " 30,\n",
       " 2201,\n",
       " 25,\n",
       " 2201,\n",
       " 4,\n",
       " 2201,\n",
       " 169,\n",
       " 2201,\n",
       " 20,\n",
       " 2201,\n",
       " 183,\n",
       " 2201,\n",
       " 4929,\n",
       " 2201,\n",
       " 1,\n",
       " 2201,\n",
       " 2,\n",
       " 2201,\n",
       " 23,\n",
       " 2201,\n",
       " 5,\n",
       " 2201,\n",
       " 24692,\n",
       " 2201,\n",
       " 45,\n",
       " 2201,\n",
       " 11951,\n",
       " 0,\n",
       " 0,\n",
       " 0,\n",
       " 51400,\n",
       " 0,\n",
       " 2,\n",
       " 0,\n",
       " 3,\n",
       " 0,\n",
       " 4,\n",
       " 0,\n",
       " 4,\n",
       " 0,\n",
       " 9449,\n",
       " 0,\n",
       " 55725,\n",
       " 0,\n",
       " 12967,\n",
       " 0,\n",
       " 39738,\n",
       " 0,\n",
       " 58794,\n",
       " 0,\n",
       " 9488,\n",
       " 0,\n",
       " 47380,\n",
       " 0,\n",
       " 8872,\n",
       " 0,\n",
       " 13874,\n",
       " 0,\n",
       " 43145,\n",
       " 0,\n",
       " 45972,\n",
       " 0,\n",
       " 48224,\n",
       " 0,\n",
       " 13384,\n",
       " 0,\n",
       " 60721,\n",
       " 0,\n",
       " 19999,\n",
       " 0,\n",
       " 56851,\n",
       " 0,\n",
       " 59952,\n",
       " 0,\n",
       " 49016,\n",
       " 0,\n",
       " 24255,\n",
       " 0,\n",
       " 33184,\n",
       " 0,\n",
       " 43988,\n",
       " 0,\n",
       " 14808,\n",
       " 0,\n",
       " 42358,\n",
       " 0,\n",
       " 28519,\n",
       " 0,\n",
       " 23918,\n",
       " 0,\n",
       " 24447,\n",
       " 0,\n",
       " 54196,\n",
       " 0,\n",
       " 2462,\n",
       " 0,\n",
       " 13885,\n",
       " 0,\n",
       " 2223,\n",
       " 0,\n",
       " 25877,\n",
       " 0,\n",
       " 30761,\n",
       " 0,\n",
       " 26925,\n",
       " 0,\n",
       " 27707,\n",
       " 0,\n",
       " 9079,\n",
       " 0,\n",
       " 26101,\n",
       " 0,\n",
       " 18648,\n",
       " 0,\n",
       " 21263,\n",
       " 0,\n",
       " 31971,\n",
       " 0,\n",
       " 61056,\n",
       " 0,\n",
       " 61152,\n",
       " 0,\n",
       " 9252,\n",
       " 0,\n",
       " 11181,\n",
       " 0,\n",
       " 33408,\n",
       " 0,\n",
       " 23684,\n",
       " 0,\n",
       " 62882,\n",
       " 0,\n",
       " 3684,\n",
       " 0,\n",
       " 17244,\n",
       " 0,\n",
       " 63636,\n",
       " 0,\n",
       " 44011,\n",
       " 0,\n",
       " 22830,\n",
       " 0,\n",
       " 39697,\n",
       " 0,\n",
       " 42159,\n",
       " 0,\n",
       " 2580,\n",
       " 0,\n",
       " 56236,\n",
       " 0,\n",
       " 52893,\n",
       " 0,\n",
       " 52551,\n",
       " 0,\n",
       " 27654,\n",
       " 0,\n",
       " 14133,\n",
       " 0,\n",
       " 36698,\n",
       " 0,\n",
       " 28712,\n",
       " 0,\n",
       " 39042,\n",
       " 0,\n",
       " 34112,\n",
       " 0,\n",
       " 32231,\n",
       " 0,\n",
       " 31479,\n",
       " 0,\n",
       " 25987,\n",
       " 0,\n",
       " 61667,\n",
       " 0,\n",
       " 21652,\n",
       " 0,\n",
       " 25154,\n",
       " 0,\n",
       " 52358,\n",
       " 0,\n",
       " 47070,\n",
       " 0,\n",
       " 51599,\n",
       " 0,\n",
       " 44952,\n",
       " 0,\n",
       " 1672,\n",
       " 0,\n",
       " 58236,\n",
       " 0,\n",
       " 3010,\n",
       " 0,\n",
       " 35853,\n",
       " 0,\n",
       " 46287,\n",
       " 0,\n",
       " 33050,\n",
       " 0,\n",
       " 64767,\n",
       " 0,\n",
       " 42215,\n",
       " 0,\n",
       " 60355,\n",
       " 0,\n",
       " 65455,\n",
       " 0,\n",
       " 16740,\n",
       " 0,\n",
       " 50336,\n",
       " 0,\n",
       " 4583,\n",
       " 0,\n",
       " 27845,\n",
       " 0,\n",
       " 8652,\n",
       " 0,\n",
       " 56326,\n",
       " 0,\n",
       " 15313,\n",
       " 0,\n",
       " 30596,\n",
       " 0,\n",
       " 28632,\n",
       " 0,\n",
       " 29880,\n",
       " 0,\n",
       " 50781,\n",
       " 0,\n",
       " 9815,\n",
       " 0,\n",
       " 47631,\n",
       " 0,\n",
       " 22275,\n",
       " 0,\n",
       " 57349,\n",
       " 0,\n",
       " 50592,\n",
       " 0,\n",
       " 44485,\n",
       " 0,\n",
       " 26664,\n",
       " 0,\n",
       " 19572,\n",
       " 0,\n",
       " 31671,\n",
       " 0,\n",
       " 23437,\n",
       " 0,\n",
       " 37330,\n",
       " 0,\n",
       " 16188,\n",
       " 0,\n",
       " 47941,\n",
       " 0,\n",
       " 4707,\n",
       " 0,\n",
       " 32648,\n",
       " 0,\n",
       " 53230,\n",
       " 0,\n",
       " 56617,\n",
       " 0,\n",
       " 35451,\n",
       " 0,\n",
       " 9674,\n",
       " 0,\n",
       " 10557,\n",
       " 0,\n",
       " 21160,\n",
       " 0,\n",
       " 47768,\n",
       " 0,\n",
       " 62521,\n",
       " 0,\n",
       " 40178,\n",
       " 0,\n",
       " 6584,\n",
       " 0,\n",
       " 54261,\n",
       " 0,\n",
       " 62372,\n",
       " 0,\n",
       " 28853,\n",
       " 0,\n",
       " 15695,\n",
       " 0,\n",
       " 30443,\n",
       " 0,\n",
       " 24959,\n",
       " 0,\n",
       " 4160,\n",
       " 0,\n",
       " 13720,\n",
       " 0,\n",
       " 23217,\n",
       " 0,\n",
       " 11540,\n",
       " 0,\n",
       " 46954,\n",
       " 0,\n",
       " 40815,\n",
       " 0,\n",
       " 32980,\n",
       " 0,\n",
       " 15692,\n",
       " 0,\n",
       " 2037,\n",
       " 0,\n",
       " 33758,\n",
       " 0,\n",
       " 34557,\n",
       " 0,\n",
       " 8521,\n",
       " 0,\n",
       " 3236,\n",
       " 0,\n",
       " 49916,\n",
       " 0,\n",
       " 47207,\n",
       " 0,\n",
       " 44219,\n",
       " 0,\n",
       " 9683,\n",
       " 0,\n",
       " 61967,\n",
       " 0,\n",
       " 9242,\n",
       " 0,\n",
       " 4624,\n",
       " 0,\n",
       " 44890,\n",
       " 0,\n",
       " 50525,\n",
       " 0,\n",
       " 13784,\n",
       " 0,\n",
       " 27874,\n",
       " 0,\n",
       " 44460,\n",
       " 0,\n",
       " 60251,\n",
       " 0,\n",
       " 34164,\n",
       " 0,\n",
       " 3977,\n",
       " 0,\n",
       " 27423,\n",
       " 0,\n",
       " 13979,\n",
       " 0,\n",
       " 56375,\n",
       " 0,\n",
       " 9624,\n",
       " 0,\n",
       " 48290,\n",
       " 0,\n",
       " 63646,\n",
       " 0,\n",
       " 51959,\n",
       " 0,\n",
       " 35841,\n",
       " 0,\n",
       " 31957,\n",
       " 0,\n",
       " 3253,\n",
       " 0,\n",
       " 55973,\n",
       " 0,\n",
       " 52110,\n",
       " 0,\n",
       " 15146,\n",
       " 0,\n",
       " 11012,\n",
       " 0,\n",
       " 34864,\n",
       " 0,\n",
       " 48114,\n",
       " 0,\n",
       " 35926,\n",
       " 0,\n",
       " 36948,\n",
       " 0,\n",
       " 843,\n",
       " 0,\n",
       " 59698,\n",
       " 0,\n",
       " 61373,\n",
       " 0,\n",
       " 38635,\n",
       " 0,\n",
       " 37312,\n",
       " 0,\n",
       " 10462,\n",
       " 0,\n",
       " 31641,\n",
       " 0,\n",
       " 5540,\n",
       " 0,\n",
       " 14920,\n",
       " 0,\n",
       " 5547,\n",
       " 0,\n",
       " 2858,\n",
       " 0,\n",
       " 43751,\n",
       " 0,\n",
       " 31302,\n",
       " 0,\n",
       " 37085,\n",
       " 0,\n",
       " 51491,\n",
       " 0,\n",
       " 11294,\n",
       " 0,\n",
       " 35747,\n",
       " 0,\n",
       " 28182,\n",
       " 0,\n",
       " 30270,\n",
       " 0,\n",
       " 39431,\n",
       " 0,\n",
       " 11463,\n",
       " 0,\n",
       " 42127,\n",
       " 0,\n",
       " 16803,\n",
       " 0,\n",
       " 45972,\n",
       " 0,\n",
       " 0,\n",
       " 2528,\n",
       " 1,\n",
       " 2528,\n",
       " 2,\n",
       " 2528,\n",
       " 2,\n",
       " 2528,\n",
       " 3,\n",
       " 2528,\n",
       " 34468,\n",
       " 2528,\n",
       " 4057,\n",
       " 2528,\n",
       " 50874,\n",
       " 2528,\n",
       " 14470,\n",
       " 2528,\n",
       " 38091,\n",
       " 2528,\n",
       " 20835,\n",
       " 2528,\n",
       " 56906,\n",
       " 2528,\n",
       " 36449,\n",
       " 2528,\n",
       " 40513,\n",
       " 2528,\n",
       " 41768,\n",
       " 2528,\n",
       " 36836,\n",
       " 2528,\n",
       " 44399,\n",
       " 2528,\n",
       " 34822,\n",
       " 2528,\n",
       " 35033,\n",
       " 2528,\n",
       " 22315,\n",
       " 2528,\n",
       " 25281,\n",
       " 2528,\n",
       " 44348,\n",
       " 2528,\n",
       " 7928,\n",
       " 2528,\n",
       " 27241,\n",
       " 2528,\n",
       " 38358,\n",
       " 2528,\n",
       " 48821,\n",
       " 2528,\n",
       " 36325,\n",
       " 2528,\n",
       " 20954,\n",
       " 2528,\n",
       " 18159,\n",
       " 2528,\n",
       " 45898,\n",
       " 2528,\n",
       " 1160,\n",
       " 2528,\n",
       " 39930,\n",
       " 2528,\n",
       " 1956,\n",
       " 2528,\n",
       " 22231,\n",
       " 2528,\n",
       " 4878,\n",
       " 2528,\n",
       " 48405,\n",
       " 2528,\n",
       " 61261,\n",
       " 2528,\n",
       " 38681,\n",
       " 2528,\n",
       " 4282,\n",
       " 2528,\n",
       " 10350,\n",
       " 2528,\n",
       " 59173,\n",
       " 2528,\n",
       " 56693,\n",
       " 2528,\n",
       " 16518,\n",
       " 2528,\n",
       " 4759,\n",
       " 2528,\n",
       " 35932,\n",
       " 2528,\n",
       " 44174,\n",
       " 2528,\n",
       " 30596,\n",
       " 2528,\n",
       " 28724,\n",
       " 2528,\n",
       " 21381,\n",
       " 2528,\n",
       " 48243,\n",
       " 2528,\n",
       " 57953,\n",
       " 2528,\n",
       " 48804,\n",
       " 2528,\n",
       " 21243,\n",
       " 2528,\n",
       " 30878,\n",
       " 2528,\n",
       " 18238,\n",
       " 2528,\n",
       " 45066,\n",
       " 2528,\n",
       " 28903,\n",
       " 2528,\n",
       " 42083,\n",
       " 2528,\n",
       " 61157,\n",
       " 2528,\n",
       " 60532,\n",
       " 2528,\n",
       " 50237,\n",
       " 2528,\n",
       " 59276,\n",
       " 2528,\n",
       " 24443,\n",
       " 2528,\n",
       " 43218,\n",
       " 2528,\n",
       " 7415,\n",
       " 2528,\n",
       " 26453,\n",
       " 2528,\n",
       " 61812,\n",
       " 2528,\n",
       " 20910,\n",
       " 2528,\n",
       " 58732,\n",
       " 2528,\n",
       " 473,\n",
       " 2528,\n",
       " 54783,\n",
       " 2528,\n",
       " 63756,\n",
       " 2528,\n",
       " 4691,\n",
       " 2528,\n",
       " 5992,\n",
       " 2528,\n",
       " 39271,\n",
       " 2528,\n",
       " 51896,\n",
       " 2528,\n",
       " 20021,\n",
       " 2528,\n",
       " 23779,\n",
       " 2528,\n",
       " 42254,\n",
       " 2528,\n",
       " 46660,\n",
       " 2528,\n",
       " 54695,\n",
       " 2528,\n",
       " 41143,\n",
       " 2528,\n",
       " 6458,\n",
       " 2528,\n",
       " 1612,\n",
       " 2528,\n",
       " 18405,\n",
       " 2528,\n",
       " 40206,\n",
       " 2528,\n",
       " 20396,\n",
       " 2528,\n",
       " 25875,\n",
       " 2528,\n",
       " 26829,\n",
       " 2528,\n",
       " 62785,\n",
       " 2528,\n",
       " 56827,\n",
       " 2528,\n",
       " 47728,\n",
       " 2528,\n",
       " 27704,\n",
       " 2528,\n",
       " 49845,\n",
       " 2528,\n",
       " 56777,\n",
       " 2528,\n",
       " 48218,\n",
       " 2528,\n",
       " 16258,\n",
       " 2528,\n",
       " 28818,\n",
       " 2528,\n",
       " 44801,\n",
       " 2528,\n",
       " 27379,\n",
       " 2528,\n",
       " 448,\n",
       " 2528,\n",
       " 38440,\n",
       " 2528,\n",
       " 39573,\n",
       " 2528,\n",
       " ...]"
      ]
     },
     "execution_count": 18,
     "metadata": {},
     "output_type": "execute_result"
    }
   ],
   "source": [
    "[serialized[i] for i in offsets]"
   ]
  },
  {
   "cell_type": "code",
   "execution_count": null,
   "metadata": {},
   "outputs": [
    {
     "data": {
      "text/plain": [
       "array([    0, 32768,   203, 32767,   405, 32769,   606, 32766,   803,\n",
       "       32770,   999, 32771,  1189, 32765,  1378, 32772,  1558, 32764,\n",
       "        1737, 32773,  1905, 32763,  2072, 32774,  2225, 32762,  2376,\n",
       "       32761,  2515, 32775,  2654, 32776,  2777, 32760,  2900, 32759,\n",
       "        3008, 32777,  3114, 32778,  3208, 32758,  3300, 32779,  3380,\n",
       "       32757,  3459, 32756,  3526, 32780,  3592, 32781,  3647, 32755,\n",
       "        3701, 32754,  3746, 32782,  3790, 32753,  3826, 32783,  3861,\n",
       "       32752,  3889, 32784,  3917, 32751,  3939, 32785,  3960, 32786,\n",
       "        3977, 32750,  3993, 32749,  4005, 32787,  4017, 32788,  4026,\n",
       "       32748,  4035, 32747,  4041, 32789,  4047, 32790,  4052, 32746,\n",
       "        4057, 32745,  4060, 32791,  4063, 32792,  4065, 32744,  4067,\n",
       "       32793,  4069, 32743,  4071, 32742,  4072, 32794,  4073, 32741,\n",
       "        4074, 32795,  4075, 32796,  4076, 32740,  4077, 32797,  4078,\n",
       "       32739,  4079, 32798,  4080, 32737,  4081, 32738,  4082, 32799,\n",
       "        4083, 32800,  4084, 32736,  4085, 32801,  4086, 32735,  4087,\n",
       "       32734,  4088, 32802,  4089, 32803,  4090, 32733,  4091, 32732,\n",
       "        4092, 32730,  4093, 32804,  4094, 32806,  4095, 32727,  4096],\n",
       "      dtype=uint16)"
      ]
     },
     "execution_count": 19,
     "metadata": {},
     "output_type": "execute_result"
    }
   ],
   "source": [
    "model_specification"
   ]
  },
  {
   "cell_type": "code",
   "execution_count": null,
   "metadata": {},
   "outputs": [],
   "source": [
    "# pad to a multiple of 1024 entries for now so it's easier to read in\n",
    "pad_len = (1024 - len(serialized) % 1024) % 1024\n",
    "serialized = np.concatenate([serialized, np.zeros((pad_len,), dtype=np.uint16)])"
   ]
  },
  {
   "cell_type": "code",
   "execution_count": null,
   "metadata": {},
   "outputs": [],
   "source": [
    "serialized.tofile('mock-matrix.bin')"
   ]
  },
  {
   "cell_type": "code",
   "execution_count": null,
   "metadata": {},
   "outputs": [
    {
     "data": {
      "text/plain": [
       "((335872,), 2048, 153)"
      ]
     },
     "execution_count": 22,
     "metadata": {},
     "output_type": "execute_result"
    }
   ],
   "source": [
    "serialized.shape, len(offsets), len(model_specification)"
   ]
  },
  {
   "cell_type": "code",
   "execution_count": null,
   "metadata": {},
   "outputs": [
    {
     "name": "stdout",
     "output_type": "stream",
     "text": [
      "-rw-rw-r-- 1 robamler robamler 671744 Apr 21 15:32 mock-matrix.bin\n"
     ]
    }
   ],
   "source": [
    "!ls -l mock-matrix.bin"
   ]
  },
  {
   "cell_type": "code",
   "execution_count": null,
   "metadata": {},
   "outputs": [
    {
     "data": {
      "text/plain": [
       "655.0"
      ]
     },
     "execution_count": 24,
     "metadata": {},
     "output_type": "execute_result"
    }
   ],
   "source": [
    "670720 / 2 / 512"
   ]
  },
  {
   "cell_type": "code",
   "execution_count": null,
   "metadata": {},
   "outputs": [
    {
     "name": "stdout",
     "output_type": "stream",
     "text": [
      "quantile = 194\n"
     ]
    },
    {
     "data": {
      "text/plain": [
       "(array([], dtype=int64), 0, 0)"
      ]
     },
     "execution_count": 25,
     "metadata": {},
     "output_type": "execute_result"
    }
   ],
   "source": [
    "word1 = serialized[offsets[0]]\n",
    "word2 = serialized[offsets[0] + 1]\n",
    "quantile = (word2 % (2**24)) >> 8\n",
    "print(f'quantile = {quantile}')\n",
    "symbol_id = (cdf <= quantile).sum() - 1\n",
    "cdf[symbol_id-1:symbol_id+2], symbol_id, values[symbol_id]"
   ]
  },
  {
   "cell_type": "code",
   "execution_count": null,
   "metadata": {},
   "outputs": [
    {
     "data": {
      "text/plain": [
       "-2"
      ]
     },
     "execution_count": 26,
     "metadata": {},
     "output_type": "execute_result"
    }
   ],
   "source": [
    "quantized_matrix[0, 0]"
   ]
  },
  {
   "cell_type": "code",
   "execution_count": null,
   "metadata": {},
   "outputs": [
    {
     "data": {
      "text/plain": [
       "4.0"
      ]
     },
     "execution_count": 27,
     "metadata": {},
     "output_type": "execute_result"
    }
   ],
   "source": [
    "len(offsets) / 512"
   ]
  },
  {
   "cell_type": "code",
   "execution_count": null,
   "metadata": {},
   "outputs": [
    {
     "data": {
      "text/plain": [
       "array([1, 1, 1, 1, 1, 1, 1, 1, 1, 1, 1, 1, 1, 1, 1, 1, 1, 1, 1, 1, 1, 1,\n",
       "       1, 1, 1, 1, 1, 1, 1, 1, 1, 1, 1, 1, 1, 1, 1, 1, 1, 1, 1, 1, 1, 1,\n",
       "       1, 1, 1, 1, 1, 1, 1, 1, 1, 1, 1, 1, 1, 1, 1, 1, 1, 1, 1, 1, 1, 1,\n",
       "       1, 1, 1, 1, 1, 1, 1, 1, 1, 1, 1, 1, 1, 1, 1, 1, 1, 1, 1, 1, 1, 1,\n",
       "       1, 1, 1, 1, 1, 1, 1, 1, 1, 1, 1, 1], dtype=uint16)"
      ]
     },
     "execution_count": 28,
     "metadata": {},
     "output_type": "execute_result"
    }
   ],
   "source": [
    "offsets[1::2][200:300]"
   ]
  },
  {
   "cell_type": "code",
   "execution_count": null,
   "metadata": {},
   "outputs": [
    {
     "data": {
      "text/plain": [
       "array([65010, 65335,   127,   452,   774,  1098,  1421,  1748,  2076,\n",
       "        2402,  2729,  3055,  3379,  3704,  4032,  4359,  4686,  5012,\n",
       "        5337,  5660,  5983,  6307,  6629,  6956], dtype=uint16)"
      ]
     },
     "execution_count": 29,
     "metadata": {},
     "output_type": "execute_result"
    }
   ],
   "source": [
    "offsets[::2][1000:]"
   ]
  },
  {
   "cell_type": "code",
   "execution_count": null,
   "metadata": {},
   "outputs": [
    {
     "data": {
      "text/plain": [
       "array([  2201,   2528,   2850, ..., 333987, 334309, 334636])"
      ]
     },
     "execution_count": 30,
     "metadata": {},
     "output_type": "execute_result"
    }
   ],
   "source": [
    "original_offsets = np.array([offsets[2*i] + (offsets[2*i+1] << 16) for i in range(1024)])\n",
    "original_offsets"
   ]
  },
  {
   "cell_type": "code",
   "execution_count": null,
   "metadata": {},
   "outputs": [
    {
     "data": {
      "text/plain": [
       "array([49878, 31450, 43115, 33592, 18477, 37607,   617, 20837, 18140,\n",
       "         777, 29705, 32476, 54692, 61970,  8413, 56750, 41112, 35941,\n",
       "       59411, 29014, 51298, 34952, 29823, 27221,  6038, 16029, 56187,\n",
       "       28383, 34615, 12035, 36892, 45747, 61146,  4349,  8142, 14792,\n",
       "       30269, 15191,  1630, 44158, 46566, 16718, 63925, 63123,  9758,\n",
       "       61283, 36444, 33762,  7186, 22353, 13345, 54457, 52447, 32507,\n",
       "       12906, 25571, 11489, 24612, 18984, 19395, 59093, 14584, 50986,\n",
       "         821, 19552, 42200, 50218, 54110, 10002, 41743, 33211, 47796,\n",
       "       49983, 49960, 51074, 26130, 12662, 13385, 61763, 46585, 12404,\n",
       "        1704, 11640, 64241, 13902, 53453, 33513, 15027, 65340,  6777,\n",
       "       47872, 53306,  1701, 30464, 25630, 34004, 14576, 61048,   832,\n",
       "       54095], dtype=uint16)"
      ]
     },
     "execution_count": 31,
     "metadata": {},
     "output_type": "execute_result"
    }
   ],
   "source": [
    "np.array([serialized[i+1] for i in original_offsets][:100])"
   ]
  },
  {
   "cell_type": "code",
   "execution_count": null,
   "metadata": {},
   "outputs": [],
   "source": [
    "coder = AnsCoder(12, 16, list(serialized[original_offsets[0]:][::-1]))"
   ]
  },
  {
   "cell_type": "code",
   "execution_count": null,
   "metadata": {},
   "outputs": [
    {
     "data": {
      "text/plain": [
       "True"
      ]
     },
     "execution_count": 33,
     "metadata": {},
     "output_type": "execute_result"
    }
   ],
   "source": [
    "np.all(serialized[original_offsets[0]:original_offsets[1]] == compressed[0])"
   ]
  },
  {
   "cell_type": "code",
   "execution_count": null,
   "metadata": {},
   "outputs": [
    {
     "data": {
      "text/plain": [
       "array([ 3, 16, 11, ..., 17, 12,  2])"
      ]
     },
     "execution_count": 34,
     "metadata": {},
     "output_type": "execute_result"
    }
   ],
   "source": [
    "gt_first_symbols = np.array([inv_vocab[quantized_matrix[i, 0]] for i in range(1024)])\n",
    "gt_first_symbols"
   ]
  },
  {
   "cell_type": "code",
   "execution_count": null,
   "metadata": {},
   "outputs": [
    {
     "data": {
      "text/plain": [
       "True"
      ]
     },
     "execution_count": 35,
     "metadata": {},
     "output_type": "execute_result"
    }
   ],
   "source": [
    "js_first_symbols = np.array([3,16,11,4,11,3,3,1,9,3,5,29,7,2,1,23,0,19,10,1,11,11,5,14,10,27,17,29,9,30,0,3,29,1,42,13,8,17,8,19,7,1,13,8,8,34,26,4,18,9,5,6,20,30,3,4,20,0,14,18,9,12,9,4,19,6,5,4,9,3,2,15,4,4,10,7,1,5,1,7,0,8,22,16,8,1,3,15,32,15,16,0,8,9,5,6,12,27,4,4,2,15,16,11,26,6,15,2,25,15,13,8,0,21,9,17,9,22,39,3,31,20,14,25,5,15,3,30,23,23,7,18,6,26,12,3,13,5,21,35,27,2,20,11,16,8,8,43,6,6,3,12,14,33,11,14,19,41,9,8,18,12,6,9,31,0,23,30,5,0,27,1,14,1,11,11,6,22,3,1,14,40,22,5,23,18,7,7,43,2,0,9,23,40,16,44,6,2,16,12,25,4,3,11,25,28,13,14,26,15,9,12,0,23,3,22,5,10,18,13,7,26,5,9,5,5,26,8,10,4,23,5,7,26,1,11,9,9,15,21,22,26,8,10,21,16,0,9,3,2,5,29,5,21,14,3,0,7,5,2,4,2,10,13,6,16,19,28,8,33,9,14,25,2,34,8,18,11,11,9,4,17,7,12,13,18,2,2,9,13,4,10,15,16,19,20,2,0,17,3,13,7,6,18,7,8,7,16,23,0,4,9,6,3,5,10,3,11,10,11,19,5,14,19,7,29,1,2,10,2,8,18,28,3,1,7,5,20,16,14,11,2,1,11,39,16,38,34,1,9,12,18,8,7,13,19,20,9,18,7,26,2,9,1,2,30,11,11,4,29,1,6,6,26,6,22,43,9,27,7,3,7,15,30,5,16,18,11,8,33,9,6,14,0,5,14,25,9,8,16,13,21,17,38,0,22,34,4,20,14,20,5,32,14,0,8,34,12,27,5,14,4,13,35,12,25,6,5,6,12,9,3,15,19,16,10,16,6,21,16,15,22,13,2,14,30,0,12,11,4,0,3,13,17,30,29,24,3,9,12,19,2,15,17,3,26,3,10,0,12,26,24,15,10,5,14,9,27,1,20,1,4,28,1,17,2,21,1,7,5,16,3,32,4,6,5,0,27,1,29,6,21,18,0,17,2,19,14,9,9,20,8,8,1,22,20,9,1,26,4,14,9,0,38,7,9,13,0,6,0,8,14,0,15,22,0,10,0,19,11,30,21,5,9,0,3,0,26,55,13,26,13,5,5,3,21,4,0,4,3,27,4,13,9,28,7,23,10,14,6,7,23,1,4,15,21,20,8,16,25,22,4,13,2,20,18,21,0,22,5,10,0,7,11,19,3,6,14,17,6,6,1,23,6,18,21,6,11,17,20,9,47,6,20,2,3,17,4,22,9,31,9,1,11,10,4,21,7,0,5,11,9,5,6,3,9,2,18,21,7,13,11,15,13,34,15,6,0,24,19,41,33,32,10,16,5,12,3,12,1,9,4,9,7,14,4,4,22,8,41,14,0,5,8,19,14,4,10,0,29,21,22,23,18,25,1,17,6,11,15,16,10,7,22,13,3,4,2,14,13,16,5,21,18,16,10,0,12,0,5,29,11,9,11,9,21,13,27,23,21,9,7,1,18,10,10,4,19,4,19,18,42,11,18,12,14,32,1,1,1,19,13,6,3,0,12,14,23,39,4,0,6,25,24,10,24,1,10,17,17,7,8,5,10,0,23,4,14,12,26,14,13,4,1,6,23,5,20,0,2,6,9,7,6,1,7,0,5,23,17,12,25,1,7,4,6,0,10,21,18,6,9,16,17,9,0,3,17,9,5,9,6,4,6,21,6,14,6,0,11,4,9,2,7,1,6,24,17,8,24,27,21,21,9,9,3,0,6,0,31,21,21,7,11,7,15,21,19,10,7,3,15,4,7,7,4,7,13,29,3,17,4,17,14,10,19,29,7,5,5,3,1,3,20,1,18,22,7,8,18,0,3,4,17,0,11,7,30,11,13,11,12,27,9,26,2,16,28,12,12,16,24,21,6,6,3,10,5,2,6,12,8,0,13,4,2,17,23,31,5,20,14,23,6,29,1,23,4,25,30,9,4,10,8,24,0,24,1,21,6,10,18,2,11,22,12,4,1,19,12,10,1,5,3,17,5,10,2,2,8,3,24,29,24,2,18,0,3,0,14,1,2,34,11,11,18,16,4,4,10,5,19,35,3,9,25,7,7,20,0,10,22,34,10,10,5,22,5,6,11,11,25,14,11,0,9,11,2,20,4,17,9,8,6,0,0,4,2,25,5,7,17,12,2])\n",
    "np.all(gt_first_symbols == js_first_symbols)"
   ]
  },
  {
   "cell_type": "code",
   "execution_count": null,
   "metadata": {},
   "outputs": [
    {
     "data": {
      "text/plain": [
       "array([65534, 65528,     6, ..., 65527, 65530,     1], dtype=int32)"
      ]
     },
     "execution_count": 36,
     "metadata": {},
     "output_type": "execute_result"
    }
   ],
   "source": [
    "quantized_matrix[:, 0] % 2**16"
   ]
  },
  {
   "cell_type": "code",
   "execution_count": null,
   "metadata": {},
   "outputs": [
    {
     "data": {
      "text/plain": [
       "[203, 203, 196, 201, 55, 190, 180, 108, 151, 201]"
      ]
     },
     "execution_count": 37,
     "metadata": {},
     "output_type": "execute_result"
    }
   ],
   "source": [
    "quantile = [freqs[i] for i in gt_first_symbols][-10:]\n",
    "quantile"
   ]
  },
  {
   "cell_type": "code",
   "execution_count": null,
   "metadata": {},
   "outputs": [
    {
     "data": {
      "text/plain": [
       "array([   0,  203,  405,  606,  803,  999, 1189, 1378, 1558, 1737, 1905,\n",
       "       2072, 2225, 2376, 2515, 2654, 2777, 2900, 3008, 3114, 3208, 3300,\n",
       "       3380, 3459, 3526, 3592, 3647, 3701, 3746, 3790, 3826, 3861, 3889,\n",
       "       3917, 3939, 3960, 3977, 3993, 4005, 4017, 4026, 4035, 4041, 4047,\n",
       "       4052, 4057, 4060, 4063, 4065, 4067, 4069, 4071, 4072, 4073, 4074,\n",
       "       4075, 4076, 4077, 4078, 4079, 4080, 4081, 4082, 4083, 4084, 4085,\n",
       "       4086, 4087, 4088, 4089, 4090, 4091, 4092, 4093, 4094, 4095, 4096])"
      ]
     },
     "execution_count": 38,
     "metadata": {},
     "output_type": "execute_result"
    }
   ],
   "source": [
    "cdf"
   ]
  },
  {
   "cell_type": "code",
   "execution_count": null,
   "metadata": {},
   "outputs": [
    {
     "data": {
      "text/plain": [
       "77"
      ]
     },
     "execution_count": 61,
     "metadata": {},
     "output_type": "execute_result"
    }
   ],
   "source": [
    "len(cdf)"
   ]
  },
  {
   "cell_type": "code",
   "execution_count": null,
   "metadata": {},
   "outputs": [
    {
     "data": {
      "text/plain": [
       "array([ 3, 16, 11, ..., 17, 12,  2])"
      ]
     },
     "execution_count": 41,
     "metadata": {},
     "output_type": "execute_result"
    }
   ],
   "source": [
    "np.array([inv_vocab[quantized_matrix[i, 0]] for i in range(1024)])"
   ]
  },
  {
   "cell_type": "code",
   "execution_count": null,
   "metadata": {},
   "outputs": [
    {
     "data": {
      "text/plain": [
       "20827"
      ]
     },
     "execution_count": 42,
     "metadata": {},
     "output_type": "execute_result"
    }
   ],
   "source": [
    "serialized[2*1024 + 153]"
   ]
  },
  {
   "cell_type": "code",
   "execution_count": null,
   "metadata": {},
   "outputs": [
    {
     "data": {
      "text/plain": [
       "153"
      ]
     },
     "execution_count": 43,
     "metadata": {},
     "output_type": "execute_result"
    }
   ],
   "source": [
    "len(model_specification)"
   ]
  },
  {
   "cell_type": "code",
   "execution_count": null,
   "metadata": {},
   "outputs": [
    {
     "data": {
      "text/plain": [
       "array([20827, 49878, 32399, 30639, 50865, 53134,  1796, 27504,  2233,\n",
       "       14518], dtype=uint16)"
      ]
     },
     "execution_count": 44,
     "metadata": {},
     "output_type": "execute_result"
    }
   ],
   "source": [
    "compressed[0][:10]"
   ]
  },
  {
   "cell_type": "code",
   "execution_count": null,
   "metadata": {},
   "outputs": [
    {
     "data": {
      "text/plain": [
       "[726,\n",
       " 2778,\n",
       " 2155,\n",
       " 824,\n",
       " 2093,\n",
       " 743,\n",
       " 617,\n",
       " 357,\n",
       " 1756,\n",
       " 777,\n",
       " 1033,\n",
       " 3804,\n",
       " 1444,\n",
       " 530,\n",
       " 221,\n",
       " 3502,\n",
       " 152,\n",
       " 3173,\n",
       " 2067,\n",
       " 342,\n",
       " 2146,\n",
       " 2184,\n",
       " 1151,\n",
       " 2645,\n",
       " 1942,\n",
       " 3741,\n",
       " 2939,\n",
       " 3807,\n",
       " 1847,\n",
       " 3843,\n",
       " 28,\n",
       " 691,\n",
       " 3802,\n",
       " 253,\n",
       " 4046,\n",
       " 2504,\n",
       " 1597,\n",
       " 2903,\n",
       " 1630,\n",
       " 3198,\n",
       " 1510,\n",
       " 334,\n",
       " 2485,\n",
       " 1683,\n",
       " 1566,\n",
       " 3939,\n",
       " 3676,\n",
       " 994,\n",
       " 3090,\n",
       " 1873,\n",
       " 1057,\n",
       " 1209,\n",
       " 3295,\n",
       " 3835,\n",
       " 618,\n",
       " 995,\n",
       " 3297,\n",
       " 36,\n",
       " 2600,\n",
       " 3011,\n",
       " 1749,\n",
       " 2296,\n",
       " 1834,\n",
       " 821,\n",
       " 3168,\n",
       " 1240,\n",
       " 1066,\n",
       " 862,\n",
       " 1810,\n",
       " 783,\n",
       " 443,\n",
       " 2740,\n",
       " 831,\n",
       " 808,\n",
       " 1922,\n",
       " 1554,\n",
       " 374,\n",
       " 1097,\n",
       " 323,\n",
       " 1529,\n",
       " 116,\n",
       " 1704,\n",
       " 3448,\n",
       " 2801,\n",
       " 1614,\n",
       " 205,\n",
       " 745,\n",
       " 2739,\n",
       " 3900,\n",
       " 2681,\n",
       " 2816,\n",
       " 58,\n",
       " 1701,\n",
       " 1792,\n",
       " 1054,\n",
       " 1236,\n",
       " 2288,\n",
       " 3704,\n",
       " 832,\n",
       " 847,\n",
       " 598,\n",
       " 2682,\n",
       " 2875,\n",
       " 2169,\n",
       " 3650,\n",
       " 1280,\n",
       " 2683,\n",
       " 491,\n",
       " 3596,\n",
       " 2682,\n",
       " 2451,\n",
       " 1730,\n",
       " 197,\n",
       " 3314,\n",
       " 1754,\n",
       " 2981,\n",
       " 1781,\n",
       " 3455,\n",
       " 4025,\n",
       " 682,\n",
       " 3861,\n",
       " 3239,\n",
       " 2642,\n",
       " 3611,\n",
       " 1156,\n",
       " 2772,\n",
       " 649,\n",
       " 3847,\n",
       " 3470,\n",
       " 3487,\n",
       " 1460,\n",
       " 3033,\n",
       " 1240,\n",
       " 3690,\n",
       " 2236,\n",
       " 747,\n",
       " 2426,\n",
       " 1176,\n",
       " 3343,\n",
       " 3971,\n",
       " 3729,\n",
       " 545,\n",
       " 3222,\n",
       " 2195,\n",
       " 2895,\n",
       " 1729,\n",
       " 1703,\n",
       " 4049,\n",
       " 1349,\n",
       " 1244,\n",
       " 680,\n",
       " 2337,\n",
       " 2536,\n",
       " 3936,\n",
       " 2192,\n",
       " 2540,\n",
       " 3175,\n",
       " 4036,\n",
       " 1771,\n",
       " 1641,\n",
       " 3095,\n",
       " 2242,\n",
       " 1192,\n",
       " 1797,\n",
       " 3868,\n",
       " 85,\n",
       " 3499,\n",
       " 3833,\n",
       " 1068,\n",
       " 112,\n",
       " 3712,\n",
       " 303,\n",
       " 2518,\n",
       " 331,\n",
       " 2093,\n",
       " 2198,\n",
       " 1254,\n",
       " 3415,\n",
       " 747,\n",
       " 246,\n",
       " 2564,\n",
       " 4027,\n",
       " 3414,\n",
       " 1106,\n",
       " 3507,\n",
       " 3084,\n",
       " 1422,\n",
       " 1419,\n",
       " 4051,\n",
       " 459,\n",
       " 116,\n",
       " 1817,\n",
       " 3468,\n",
       " 4033,\n",
       " 2827,\n",
       " 4054,\n",
       " 1287,\n",
       " 505,\n",
       " 2863,\n",
       " 2302,\n",
       " 3620,\n",
       " 998,\n",
       " 798,\n",
       " 2072,\n",
       " 3630,\n",
       " 3751,\n",
       " 2478,\n",
       " 2547,\n",
       " 3685,\n",
       " 2725,\n",
       " 1888,\n",
       " 2291,\n",
       " 16,\n",
       " 3515,\n",
       " 800,\n",
       " 3430,\n",
       " 1030,\n",
       " 1964,\n",
       " 3025,\n",
       " 2430,\n",
       " 1539,\n",
       " 3663,\n",
       " 1122,\n",
       " 1758,\n",
       " 1155,\n",
       " 1030,\n",
       " 3654,\n",
       " 1629,\n",
       " 2053,\n",
       " 971,\n",
       " 3486,\n",
       " 1012,\n",
       " 1485,\n",
       " 3693,\n",
       " 348,\n",
       " 2159,\n",
       " 1851,\n",
       " 1882,\n",
       " 2731,\n",
       " 3311,\n",
       " 3448,\n",
       " 3682,\n",
       " 1635,\n",
       " 1988,\n",
       " 3376,\n",
       " 2783,\n",
       " 69,\n",
       " 1864,\n",
       " 796,\n",
       " 605,\n",
       " 1098,\n",
       " 3790,\n",
       " 1120,\n",
       " 3359,\n",
       " 2653,\n",
       " 634,\n",
       " 108,\n",
       " 1427,\n",
       " 1032,\n",
       " 463,\n",
       " 958,\n",
       " 585,\n",
       " 1973,\n",
       " 2386,\n",
       " 1215,\n",
       " 2799,\n",
       " 3204,\n",
       " 3773,\n",
       " 1650,\n",
       " 3932,\n",
       " 1872,\n",
       " 2576,\n",
       " 3626,\n",
       " 406,\n",
       " 3944,\n",
       " 1631,\n",
       " 3047,\n",
       " 2215,\n",
       " 2074,\n",
       " 1835,\n",
       " 875,\n",
       " 2973,\n",
       " 1418,\n",
       " 2230,\n",
       " 2399,\n",
       " 3013,\n",
       " 598,\n",
       " 434,\n",
       " 1804,\n",
       " 2442,\n",
       " 958,\n",
       " 2019,\n",
       " 2725,\n",
       " 2801,\n",
       " 3126,\n",
       " 3292,\n",
       " 605,\n",
       " 86,\n",
       " 2961,\n",
       " 695,\n",
       " 2421,\n",
       " 1422,\n",
       " 1222,\n",
       " 3074,\n",
       " 1382,\n",
       " 1659,\n",
       " 1555,\n",
       " 2825,\n",
       " 3477,\n",
       " 19,\n",
       " 858,\n",
       " 1742,\n",
       " 1341,\n",
       " 740,\n",
       " 1033,\n",
       " 1948,\n",
       " 760,\n",
       " 2197,\n",
       " 1924,\n",
       " 2146,\n",
       " 3187,\n",
       " 1130,\n",
       " 2581,\n",
       " 3137,\n",
       " 1428,\n",
       " 3823,\n",
       " 345,\n",
       " 534,\n",
       " 1970,\n",
       " 425,\n",
       " 1606,\n",
       " 3103,\n",
       " 3787,\n",
       " 699,\n",
       " 331,\n",
       " 1383,\n",
       " 1186,\n",
       " 3289,\n",
       " 2807,\n",
       " 2622,\n",
       " 2161,\n",
       " 460,\n",
       " 379,\n",
       " 2074,\n",
       " 4018,\n",
       " 2897,\n",
       " 4015,\n",
       " 3941,\n",
       " 345,\n",
       " 1900,\n",
       " 2344,\n",
       " 3051,\n",
       " 1667,\n",
       " 1509,\n",
       " 2408,\n",
       " 3207,\n",
       " 3214,\n",
       " 1867,\n",
       " 3100,\n",
       " 1420,\n",
       " 3662,\n",
       " 601,\n",
       " 1884,\n",
       " 257,\n",
       " 579,\n",
       " 3853,\n",
       " 2215,\n",
       " 2197,\n",
       " 900,\n",
       " 3819,\n",
       " 247,\n",
       " 1352,\n",
       " 1307,\n",
       " 3675,\n",
       " 1231,\n",
       " 3417,\n",
       " 4050,\n",
       " 1785,\n",
       " 3742,\n",
       " 1464,\n",
       " 632,\n",
       " 1418,\n",
       " 2769,\n",
       " 3838,\n",
       " 1110,\n",
       " 2792,\n",
       " 3016,\n",
       " 2116,\n",
       " 1610,\n",
       " 3931,\n",
       " 1765,\n",
       " 1239,\n",
       " 2523,\n",
       " 98,\n",
       " 1001,\n",
       " 2626,\n",
       " 3628,\n",
       " 1879,\n",
       " 1590,\n",
       " 2819,\n",
       " 2423,\n",
       " 3356,\n",
       " 2969,\n",
       " 4016,\n",
       " 108,\n",
       " 3443,\n",
       " 3949,\n",
       " 812,\n",
       " 3224,\n",
       " 2604,\n",
       " 3263,\n",
       " 1154,\n",
       " 3905,\n",
       " 2620,\n",
       " 15,\n",
       " 1566,\n",
       " 3941,\n",
       " 2282,\n",
       " 3701,\n",
       " 1090,\n",
       " 2523,\n",
       " 979,\n",
       " 2494,\n",
       " 3971,\n",
       " 2373,\n",
       " 3592,\n",
       " 1297,\n",
       " 1135,\n",
       " 1288,\n",
       " 2234,\n",
       " 1834,\n",
       " 708,\n",
       " 2656,\n",
       " 3124,\n",
       " 2828,\n",
       " 1978,\n",
       " 2861,\n",
       " 1284,\n",
       " 3357,\n",
       " 2887,\n",
       " 2679,\n",
       " 3393,\n",
       " 2388,\n",
       " 506,\n",
       " 2638,\n",
       " 3852,\n",
       " 103,\n",
       " 2287,\n",
       " 2119,\n",
       " 917,\n",
       " 195,\n",
       " 614,\n",
       " 2500,\n",
       " 2928,\n",
       " 3827,\n",
       " 3801,\n",
       " 3578,\n",
       " 628,\n",
       " 1800,\n",
       " 2236,\n",
       " 3191,\n",
       " 536,\n",
       " 2688,\n",
       " 2906,\n",
       " 743,\n",
       " 3655,\n",
       " 731,\n",
       " 1939,\n",
       " 173,\n",
       " 2367,\n",
       " 3687,\n",
       " 3582,\n",
       " 2743,\n",
       " 1919,\n",
       " 1131,\n",
       " 2537,\n",
       " 1786,\n",
       " 3735,\n",
       " 268,\n",
       " 3280,\n",
       " 329,\n",
       " 823,\n",
       " 3770,\n",
       " 374,\n",
       " 2926,\n",
       " 580,\n",
       " 3343,\n",
       " 367,\n",
       " 1445,\n",
       " 1101,\n",
       " 2809,\n",
       " 756,\n",
       " 3904,\n",
       " 918,\n",
       " 1248,\n",
       " 1094,\n",
       " 92,\n",
       " 3737,\n",
       " 254,\n",
       " 3807,\n",
       " 1326,\n",
       " 3303,\n",
       " 3048,\n",
       " 119,\n",
       " 2971,\n",
       " 517,\n",
       " 3131,\n",
       " 2544,\n",
       " 1850,\n",
       " 1800,\n",
       " 3258,\n",
       " 1680,\n",
       " 1717,\n",
       " 381,\n",
       " 3436,\n",
       " 3218,\n",
       " 1903,\n",
       " 391,\n",
       " 3667,\n",
       " 942,\n",
       " 2631,\n",
       " 1742,\n",
       " 137,\n",
       " 4006,\n",
       " 1458,\n",
       " 1779,\n",
       " 2484,\n",
       " 121,\n",
       " 1322,\n",
       " 125,\n",
       " 1725,\n",
       " 2540,\n",
       " 162,\n",
       " 2773,\n",
       " 3413,\n",
       " 33,\n",
       " 2019,\n",
       " 173,\n",
       " 3176,\n",
       " 2129,\n",
       " 3857,\n",
       " 3331,\n",
       " 1065,\n",
       " 1738,\n",
       " 110,\n",
       " 741,\n",
       " 156,\n",
       " 3671,\n",
       " 4075,\n",
       " 2422,\n",
       " 3673,\n",
       " 2390,\n",
       " 1176,\n",
       " 1109,\n",
       " 709,\n",
       " 3349,\n",
       " 919,\n",
       " 62,\n",
       " 980,\n",
       " 714,\n",
       " 3724,\n",
       " 874,\n",
       " 2411,\n",
       " 1873,\n",
       " 3784,\n",
       " 1449,\n",
       " 3510,\n",
       " 1927,\n",
       " 2569,\n",
       " 1219,\n",
       " 1392,\n",
       " 3470,\n",
       " 240,\n",
       " 911,\n",
       " 2665,\n",
       " 3359,\n",
       " 3269,\n",
       " 1575,\n",
       " 2891,\n",
       " 3638,\n",
       " 3388,\n",
       " 946,\n",
       " 2378,\n",
       " 522,\n",
       " 3278,\n",
       " 3093,\n",
       " 3371,\n",
       " 78,\n",
       " 3446,\n",
       " 1031,\n",
       " 2017,\n",
       " 190,\n",
       " 1385,\n",
       " 2144,\n",
       " 3136,\n",
       " 752,\n",
       " 1353,\n",
       " 2551,\n",
       " 2984,\n",
       " 1249,\n",
       " 1219,\n",
       " 251,\n",
       " 3523,\n",
       " 1333,\n",
       " 3012,\n",
       " 3317,\n",
       " 1322,\n",
       " 2097,\n",
       " 3005,\n",
       " 3210,\n",
       " 1810,\n",
       " 4063,\n",
       " 1317,\n",
       " 3227,\n",
       " 538,\n",
       " 683,\n",
       " 2946,\n",
       " 814,\n",
       " 3435,\n",
       " 1899,\n",
       " 3885,\n",
       " 1828,\n",
       " 286,\n",
       " 2118,\n",
       " 1951,\n",
       " 850,\n",
       " 3323,\n",
       " 1440,\n",
       " 87,\n",
       " 1094,\n",
       " 2150,\n",
       " 1773,\n",
       " 1083,\n",
       " 1357,\n",
       " 746,\n",
       " 1819,\n",
       " 405,\n",
       " 3060,\n",
       " 3301,\n",
       " 1435,\n",
       " 2438,\n",
       " 2101,\n",
       " 2748,\n",
       " 2389,\n",
       " 3940,\n",
       " 2721,\n",
       " 1264,\n",
       " 158,\n",
       " 3590,\n",
       " 3189,\n",
       " 4040,\n",
       " 3930,\n",
       " 3907,\n",
       " 1991,\n",
       " 2781,\n",
       " 1061,\n",
       " 2340,\n",
       " 727,\n",
       " 2348,\n",
       " 341,\n",
       " 1869,\n",
       " 988,\n",
       " 1811,\n",
       " 1440,\n",
       " 2545,\n",
       " 862,\n",
       " 896,\n",
       " 3426,\n",
       " 1686,\n",
       " 4037,\n",
       " 2615,\n",
       " 8,\n",
       " 1126,\n",
       " 1632,\n",
       " 3114,\n",
       " 2557,\n",
       " 942,\n",
       " 1985,\n",
       " 64,\n",
       " 3815,\n",
       " 3362,\n",
       " 3412,\n",
       " 3520,\n",
       " 3081,\n",
       " 3636,\n",
       " 385,\n",
       " 3003,\n",
       " 1219,\n",
       " 2179,\n",
       " 2665,\n",
       " 2830,\n",
       " 1965,\n",
       " 1476,\n",
       " 3436,\n",
       " 2489,\n",
       " 739,\n",
       " 993,\n",
       " 468,\n",
       " 2619,\n",
       " 2431,\n",
       " 2812,\n",
       " 1086,\n",
       " 3371,\n",
       " 3106,\n",
       " 2780,\n",
       " 2066,\n",
       " 177,\n",
       " 2361,\n",
       " 106,\n",
       " 1066,\n",
       " 3796,\n",
       " 2086,\n",
       " 1809,\n",
       " 2081,\n",
       " 1896,\n",
       " 3374,\n",
       " 2425,\n",
       " 3714,\n",
       " 3478,\n",
       " 3357,\n",
       " 1802,\n",
       " 1416,\n",
       " 397,\n",
       " 3111,\n",
       " 2007,\n",
       " 1906,\n",
       " 906,\n",
       " 3140,\n",
       " 969,\n",
       " 3145,\n",
       " 3045,\n",
       " 4043,\n",
       " 2143,\n",
       " 3082,\n",
       " 2369,\n",
       " 2645,\n",
       " 3908,\n",
       " 247,\n",
       " 232,\n",
       " 249,\n",
       " 3177,\n",
       " 2430,\n",
       " 1208,\n",
       " 646,\n",
       " 29,\n",
       " 2310,\n",
       " 2589,\n",
       " 3516,\n",
       " 4024,\n",
       " 912,\n",
       " 33,\n",
       " 1370,\n",
       " 3602,\n",
       " 3560,\n",
       " 1960,\n",
       " 3579,\n",
       " 382,\n",
       " 1918,\n",
       " 2989,\n",
       " 3007,\n",
       " 1428,\n",
       " 1613,\n",
       " 1116,\n",
       " 2050,\n",
       " 142,\n",
       " 3479,\n",
       " 876,\n",
       " 2525,\n",
       " 2316,\n",
       " 3654,\n",
       " 2618,\n",
       " 2399,\n",
       " 926,\n",
       " 343,\n",
       " 1255,\n",
       " 3511,\n",
       " 1173,\n",
       " 3268,\n",
       " 130,\n",
       " 482,\n",
       " 1265,\n",
       " 1894,\n",
       " 1490,\n",
       " 1290,\n",
       " 277,\n",
       " 1469,\n",
       " 94,\n",
       " 1131,\n",
       " 3469,\n",
       " 2930,\n",
       " 2274,\n",
       " 3601,\n",
       " 302,\n",
       " 1481,\n",
       " 940,\n",
       " 1297,\n",
       " 58,\n",
       " 2050,\n",
       " 3358,\n",
       " 3057,\n",
       " 1216,\n",
       " 1804,\n",
       " 2873,\n",
       " 2956,\n",
       " 1826,\n",
       " 53,\n",
       " 661,\n",
       " 2989,\n",
       " 1769,\n",
       " 1039,\n",
       " 1837,\n",
       " 1347,\n",
       " 841,\n",
       " 1277,\n",
       " 3307,\n",
       " 1350,\n",
       " 2628,\n",
       " 1298,\n",
       " 191,\n",
       " 2090,\n",
       " 823,\n",
       " 1819,\n",
       " 568,\n",
       " 1435,\n",
       " 262,\n",
       " 1270,\n",
       " 3529,\n",
       " 2967,\n",
       " 1707,\n",
       " 3566,\n",
       " 3745,\n",
       " 3311,\n",
       " 3354,\n",
       " 1785,\n",
       " 1833,\n",
       " 710,\n",
       " 181,\n",
       " 1280,\n",
       " 179,\n",
       " 3865,\n",
       " 3375,\n",
       " 3321,\n",
       " 1477,\n",
       " 2085,\n",
       " 1381,\n",
       " 2743,\n",
       " 3300,\n",
       " 3161,\n",
       " 2044,\n",
       " 1426,\n",
       " 797,\n",
       " 2707,\n",
       " 819,\n",
       " 1539,\n",
       " 1445,\n",
       " 925,\n",
       " 1544,\n",
       " 2385,\n",
       " 3791,\n",
       " 672,\n",
       " 2980,\n",
       " 998,\n",
       " 2967,\n",
       " 2613,\n",
       " 1958,\n",
       " 3175,\n",
       " 3818,\n",
       " 1532,\n",
       " 1057,\n",
       " 1065,\n",
       " 620,\n",
       " 209,\n",
       " 730,\n",
       " 3266,\n",
       " 397,\n",
       " 3058,\n",
       " 3397,\n",
       " 1531,\n",
       " 1577,\n",
       " 3056,\n",
       " 11,\n",
       " 662,\n",
       " 858,\n",
       " 2967,\n",
       " 103,\n",
       " 2156,\n",
       " 1430,\n",
       " 3841,\n",
       " 2216,\n",
       " 2444,\n",
       " 2200,\n",
       " 2232,\n",
       " 3711,\n",
       " 1774,\n",
       " 3679,\n",
       " 588,\n",
       " 2820,\n",
       " 3764,\n",
       " 2346,\n",
       " 2305,\n",
       " 2866,\n",
       " 3574,\n",
       " 3365,\n",
       " 1209,\n",
       " 1339,\n",
       " 627,\n",
       " 1946,\n",
       " 1021,\n",
       " 525,\n",
       " 1217,\n",
       " 2230,\n",
       " 1711,\n",
       " 99,\n",
       " 2434,\n",
       " 913,\n",
       " 595,\n",
       " 2962,\n",
       " 3516,\n",
       " 3871,\n",
       " 1050,\n",
       " 3272,\n",
       " 2623,\n",
       " 3479,\n",
       " 1285,\n",
       " 3810,\n",
       " 334,\n",
       " 3492,\n",
       " 946,\n",
       " 3645,\n",
       " 3840,\n",
       " 1854,\n",
       " 953,\n",
       " 1934,\n",
       " 1586,\n",
       " 3551,\n",
       " 70,\n",
       " 3555,\n",
       " 210,\n",
       " 3363,\n",
       " 1292,\n",
       " 1964,\n",
       " 3110,\n",
       " 516,\n",
       " 2210,\n",
       " 3410,\n",
       " 2369,\n",
       " 809,\n",
       " 278,\n",
       " 3201,\n",
       " 2261,\n",
       " 1983,\n",
       " 222,\n",
       " 1023,\n",
       " 762,\n",
       " 2982,\n",
       " 1118,\n",
       " 2008,\n",
       " 580,\n",
       " 517,\n",
       " 1676,\n",
       " 767,\n",
       " 3578,\n",
       " 3794,\n",
       " 3558,\n",
       " 531,\n",
       " 3100,\n",
       " 79,\n",
       " 624,\n",
       " 47,\n",
       " 2533,\n",
       " 350,\n",
       " 529,\n",
       " 3942,\n",
       " 2182,\n",
       " 2192,\n",
       " 3036,\n",
       " 2858,\n",
       " 848,\n",
       " 928,\n",
       " 2011,\n",
       " 1110,\n",
       " 3163,\n",
       " 3960,\n",
       " 651,\n",
       " 1740,\n",
       " 3629,\n",
       " 1513,\n",
       " 1444,\n",
       " 3291,\n",
       " 20,\n",
       " 2017,\n",
       " 3389,\n",
       " 3952,\n",
       " 2060,\n",
       " 2065,\n",
       " 1039,\n",
       " 3391,\n",
       " 1108,\n",
       " 1336,\n",
       " 2213,\n",
       " ...]"
      ]
     },
     "execution_count": 45,
     "metadata": {},
     "output_type": "execute_result"
    }
   ],
   "source": [
    "[AnsCoder(12, 16, list(compressed[i][::-1])).head % (1<<12) for i in range(1024)]\n",
    "# coder.pop(freqs)\n",
    "# coder.head"
   ]
  },
  {
   "cell_type": "code",
   "execution_count": null,
   "metadata": {},
   "outputs": [
    {
     "data": {
      "text/plain": [
       "array([ 3, 16, 11, ..., 17, 12,  2])"
      ]
     },
     "execution_count": 46,
     "metadata": {},
     "output_type": "execute_result"
    }
   ],
   "source": [
    "gt_first_symbols"
   ]
  },
  {
   "cell_type": "code",
   "execution_count": null,
   "metadata": {},
   "outputs": [
    {
     "data": {
      "text/plain": [
       "array([   11,    17,     5, ...,     9, 65532, 65535], dtype=int32)"
      ]
     },
     "execution_count": 47,
     "metadata": {},
     "output_type": "execute_result"
    }
   ],
   "source": [
    "quantized_matrix[:, 1023] % (2**16)"
   ]
  },
  {
   "cell_type": "code",
   "execution_count": null,
   "metadata": {},
   "outputs": [
    {
     "data": {
      "text/plain": [
       "726"
      ]
     },
     "execution_count": 48,
     "metadata": {},
     "output_type": "execute_result"
    }
   ],
   "source": [
    "1364968150 % (2**12)"
   ]
  },
  {
   "cell_type": "code",
   "execution_count": null,
   "metadata": {},
   "outputs": [
    {
     "data": {
      "text/plain": [
       "65649794"
      ]
     },
     "execution_count": 49,
     "metadata": {},
     "output_type": "execute_result"
    }
   ],
   "source": [
    "(1364968150 >> 12) * 197 + 726"
   ]
  },
  {
   "cell_type": "code",
   "execution_count": null,
   "metadata": {},
   "outputs": [
    {
     "data": {
      "text/plain": [
       "array([3836677573, 3860787223, 3898272600, ..., 3862884404, 3859483710,\n",
       "       3872849774], dtype=uint32)"
      ]
     },
     "execution_count": 50,
     "metadata": {},
     "output_type": "execute_result"
    }
   ],
   "source": [
    "gt_checksum = (quantized_matrix.astype(np.uint16).astype(np.uint32)**2).sum(axis=1).astype(np.uint32)\n",
    "gt_checksum"
   ]
  },
  {
   "cell_type": "code",
   "execution_count": null,
   "metadata": {},
   "outputs": [],
   "source": [
    "js_checksum = np.array([3836677573,3860787223,3898272600,3873900219,3881497336,3860791599,3890934752,3867872476,3871011871,3876916429,3879795958,3862888370,3852537666,3880056720,3850832077,3869835243,3888186726,3869967731,3869181512,3861313528,3863152026,3864853711,3891334524,3885565165,3874417693,3844279456,3851098689,3886350394,3855807536,3873635431,3871404419,3910730173,3905744531,3899586419,3877307966,3869310218,3871149755,3872454990,3898014554,3869442911,3873502470,3872851945,3884643441,3880319127,3873374112,3887660864,3910461944,3874290061,3865640414,3861706414,3852796673,3860531120,3862229372,3839820983,3887396842,3872062835,3864722643,3891850695,3853323402,3881763097,3874945733,3860529602,3853585312,3876907586,3827896291,3862366182,3875206230,3828553118,3825929177,3855414781,3891194734,3827499310,3850961846,3841395294,3889498758,3875469143,3862097146,3874817122,3858303261,3855027793,3860132429,3871278978,3869180893,3882810193,3865382927,3901817929,3862759527,3860919552,3888842618,3849387670,3856208410,3871543068,3868393137,3859480626,3852928497,3909021093,3896047866,3866821293,3901681269,3875215428,3857772391,3895655704,3876777800,3851224066,3872717329,3859876191,3863286372,3879931745,3887921281,3861318370,3865901957,3854497040,3846247731,3882417393,3856600893,3855545346,3866690753,3856075480,3861055298,3847297236,3902342580,3897884783,3881369132,3877967171,3884249978,3876125341,3890672865,3887924819,3896966109,3854367537,3881891745,3839948851,3847818883,3872588263,3862234913,3871802234,3870355430,3864070755,3876648933,3857651050,3857511460,3860925807,3820293577,3832612136,3864462061,3851093444,3881368678,3874028485,3854498080,3882550277,3869966301,3842179136,3859613473,3865510448,3844803480,3884516022,3893036281,3847686787,3847034090,3884256082,3857908441,3837592536,3863023895,3881231379,3855547095,3853062293,3869706187,3834191279,3874292941,3907449319,3883856709,3889889898,3858303287,3888705129,3864854260,3864066332,3869708465,3856725533,3856597886,3847821229,3889627485,3848471214,3862889651,3869576371,3887529657,3859608992,3865637958,3834450136,3822260889,3886741496,3850826565,3844540018,3818856465,3868783089,3853454235,3845324687,3872975546,3915047084,3847163882,3882290954,3907579714,3883725049,3861314066,3895126553,3890936718,3869837904,3864069495,3874420087,3892375312,3857777521,3875729247,3892637259,3854371052,3860006256,3819899183,3863547693,3847949822,3865643507,3898800503,3826056598,3842972926,3890933471,3875474857,3885039229,3858694247,3856467323,3836417865,3895921648,3872846780,3883991417,3867865483,3841918445,3875468576,3831690859,3846636026,3854364841,3875338301,3865772445,3862361887,3856467154,3885563788,3836548546,3879531162,3864854082,3894218417,3881630846,3870750666,3870751914,3906011253,3877173268,3864853746,3902078093,3854366765,3858037717,3845328441,3875734605,3846372942,3864986834,3862494058,3861313246,3894212956,3879270390,3869046819,3873108678,3881240492,3858693550,3877439167,3856470545,3886481602,3859088860,3836546915,3861840163,3861577427,3840086334,3836547630,3869175953,3894211526,3846237753,3843750366,3892115780,3885694972,3845068627,3866684923,3883859018,3862104714,3842838697,3870625176,3867086897,3887791715,3855544487,3860133616,3862100641,3873638794,3903130123,3867873431,3878742732,3856463862,3827892787,3892117970,3873505496,3856862592,3861317437,3853976030,3855681376,3919246714,3885038941,3889496422,3867998042,3831960722,3838256574,3843883643,3862760322,3861184747,3854889354,3839820140,3845454361,3845065099,3865773744,3876783307,3874157269,3888443565,3848467615,3866164633,3855025531,3876519378,3850046041,3871147010,3843365362,3893553575,3868657842,3860402359,3894738619,3846240438,3829604703,3848599278,3854107745,3856599343,3898014423,3892511010,3872715870,3876522180,3879795963,3839692977,3864724153,3864598433,3850305368,3863806703,3877301649,3879536000,3848342438,3823834245,3898796651,3881629188,3858694459,3866949738,3814393762,3889102587,3866032782,3858690732,3854374023,3858433521,3876129580,3872849022,3910857872,3833394291,3853323993,3872979672,3859218352,3837465163,3838904539,3863412037,3914394162,3881239317,3850176894,3855552873,3826846797,3855685657,3861052666,3864333231,3824094448,3877174103,3862760468,3861841851,3856594816,3870885685,3855287047,3879799246,3860659376,3867865758,3864202589,3853060329,3867609489,3885564977,3869575883,3875205031,3857123818,3873900164,3847557035,3861315001,3834188888,3872849414,3879403532,3868525804,3841131598,3897750101,3852924600,3865900970,3876783193,3878222589,3889100439,3875863772,3898802086,3884389134,3857258527,3827371308,3848082224,3884646954,3814787895,3902859445,3879536198,3855549943,3867611452,3854107434,3865380654,3864199739,3889361424,3881501018,3847812351,3860924298,3897226546,3880581362,3875080437,3842702914,3865772429,3863939079,3828682853,3880450331,3909679747,3898275156,3845983003,3881627193,3889892384,3869702159,3864857878,3885039979,3851873793,3891324681,3879533998,3851091195,3871409021,3863937417,3820946964,3892637558,3868390469,3853322075,3867083510,3867083409,3868131166,3829731646,3859481219,3851879495,3885038989,3874550859,3852667776,3871013231,3879267673,3849913291,3858035180,3871143885,3892900973,3875997240,3862234040,3851745269,3870885755,3867733257,3884119695,3856336898,3900767250,3830129258,3860531511,3867603078,3867475306,3886872360,3858827624,3858960318,3868919639,3890282426,3869966374,3893693869,3846638927,3901552497,3868914839,3862494133,3891460966,3923574750,3887265238,3871408055,3831436749,3811770342,3875076719,3873111023,3838115987,3859741978,3887794052,3864460140,3857644318,3878090044,3862363423,3851483291,3883596463,3863284913,3870491736,3863544145,3837200442,3874685425,3861317129,3833397542,3827107264,3843619557,3880718364,3861711409,3855411834,3857118576,3847949409,3859089989,3882417054,3844540076,3844411676,3846505479,3858163814,3865906301,3867476451,3860270254,3873373045,3878876679,3873237087,3898145747,3887791755,3849522310,3883863746,3836546820,3864727532,3867209515,3906142876,3923176387,3831824047,3828682881,3828682537,3855025801,3808498484,3879794237,3874026739,3841920679,3839559177,3850566920,3866692625,3875205015,3871801312,3883861606,3847157504,3896444310,3904824505,3832614614,3864588418,3850697870,3896047350,3878226378,3864987111,3851093678,3880319951,3860003988,3857123004,3843229751,3875076809,3873902740,3879144350,3848998076,3827629542,3882940529,3857121313,3860922596,3848339612,3888315971,3890276913,3889230659,3893947893,3839692141,3874554877,3835886437,3880582743,3842441103,3816753186,3888187868,3856987511,3858436689,3879532924,3867475152,3872720550,3889624339,3864195793,3869570832,3911382347,3841523246,3850567178,3854629918,3839954073,3852927962,3897488263,3854893428,3874551514,3850178322,3866949796,3902206990,3848734401,3859083680,3920949634,3882419148,3887922768,3850172841,3863938048,3866298260,3877175116,3890802197,3890150038,3843363244,3876126762,3885956924,3865116853,3867865643,3839952960,3857121943,3869443064,3846899206,3831826944,3872850490,3879663192,3864991086,3876915239,3896049687,3886349490,3852670174,3861455674,3873897736,3885434713,3838773595,3858557541,3878485920,3887528250,3883988158,3861185290,3870358224,3884513700,3868000657,3825277837,3907191434,3820551593,3844144814,3888970972,3884250861,3891984456,3842966190,3840483096,3888448007,3863413025,3872325621,3881500851,3863808061,3885696811,3857907911,3861972994,3870094941,3921082397,3870885430,3862887473,3896572825,3842836633,3853583584,3856204000,3873893900,3871928856,3847028856,3876389654,3883070868,3910073154,3826586427,3857515833,3868261754,3900638022,3863016274,3858169421,3876126098,3837070972,3896570329,3879401838,3878221627,3871536707,3855414543,3861447586,3859873656,3874947389,3889622390,3825793199,3903514012,3878356294,3870621301,3868792371,3874549101,3844671216,3906533324,3898536377,3871534495,3852009035,3844144443,3879141275,3889497083,3849388920,3837730577,3874034207,3868132837,3882415826,3879141213,3879924794,3832745074,3830645990,3917934388,3847553974,3875603489,3853716475,3859743270,3865906991,3852401217,3849263062,3864593086,3882544798,3873893211,3868264968,3883987984,3854764971,3848079835,3872586680,3892117690,3888968601,3874554570,3854232431,3859352350,3839038665,3882681255,3858826214,3857383519,3872583947,3861180690,3893423878,3880449122,3889623233,3877571405,3873374142,3860008059,3848599615,3880842421,3880582130,3868654249,3838774237,3865642820,3885433067,3870882583,3863804696,3875727182,3860266961,3869834799,3858170199,3866958289,3898668479,3855156315,3887792463,3845460973,3875732074,3855022256,3895264163,3877435737,3883856630,3865118639,3869310806,3847552536,3879666383,3866554684,3859741664,3885437426,3831432438,3855549389,3882678691,3879797554,3872062702,3834578258,3852270477,3890802289,3863543234,3851354632,3871410422,3865646905,3848602597,3851095399,3887917096,3880709362,3875867221,3889753868,3855939916,3854242710,3867084641,3841789286,3868785151,3882291277,3821865052,3897490297,3881371031,3862235536,3913739899,3901553073,3866556958,3894345855,3846244607,3840603024,3877702118,3885040257,3830643333,3833794081,3872455461,3855155963,3852924696,3838381431,3853060824,3852669156,3841527063,3891196279,3856074883,3862497055,3851747004,3879661044,3885561036,3837723912,3820690547,3870362616,3858033850,3888053585,3870357513,3900500488,3848601499,3829202578,3877567646,3858038807,3849781860,3902214095,3827635790,3868913864,3823437830,3855287889,3853453310,3908496871,3871013586,3869180557,3855412704,3868387852,3859350742,3872981025,3883071883,3835498309,3856337102,3848867099,3838905598,3853453125,3862489292,3881497367,3866298885,3904175069,3879535442,3875474008,3890147258,3878486138,3863144226,3865247519,3860663021,3855287536,3898670863,3862232756,3896707594,3858694842,3877433297,3903516744,3860659779,3881499886,3860531644,3895257915,3876391543,3861573895,3851878227,3896703976,3841262565,3925539032,3850830554,3860399497,3842445431,3863941185,3854893484,3855157814,3874815691,3885429388,3839295238,\n",
    "     3883728688,3829600541,3848729309,3872061248,3887401540,3878221738,3864201169,3846637760,3875991174,3864333784,3862105863,3866554523,3848338001,3906140052,3871010925,3854761951,3887657887,3833530625,3837592644,3870622706,3852011686,3887794036,3833920156,3848472510,3880187906,3888579043,3884381020,3846635912,3857907527,3871149651,3855940956,3838120381,3879796915,3852408131,3865116814,3872064254,3911122642,3861836616,3900109573,3868129467,3856467204,3876912209,3879663232,3839037558,3906794079,3869702312,3876254869,3884123803,3826583501,3825269717,3863415236,3874415559,3875995054,3866166219,3867609213,3879925851,3882418661,3862891176,3839558749,3884907974,3886866097,3848994665,3863541446,3853715501,3860136954,3857512432,3856338419,3881110269,3879272525,3844280702,3856863977,3851484021,3868002324,3879005781,3846764262,3825403891,3847031538,3817280271,3871543407,3849785512,3883725190,3874556727,3898010854,3875861392,3904700301,3889496947,3841787308,3842966726,3876127275,3840867973,3860398998,3842054780,3898139045,3855681501,3863937121,3866432085,3864592647,3895651905,3849386139,3865507865,3857123669,3829731253,3862497232,3868921492,3874030854,3845585629,3883729123,3855946131,3859483766,3839823035,3890939346,3888447765,3841521075,3848860450,3867342936,3862884404,3859483710,3883070957])"
   ]
  },
  {
   "cell_type": "code",
   "execution_count": null,
   "metadata": {},
   "outputs": [
    {
     "data": {
      "text/plain": [
       "380561252.0"
      ]
     },
     "execution_count": 52,
     "metadata": {},
     "output_type": "execute_result"
    }
   ],
   "source": [
    "(3836677573 + quantized_matrix[0].astype(np.uint16).astype(np.uint32).sum() * 25) % (2**32)"
   ]
  },
  {
   "cell_type": "code",
   "execution_count": null,
   "metadata": {},
   "outputs": [
    {
     "data": {
      "text/plain": [
       "3836677573"
      ]
     },
     "execution_count": 53,
     "metadata": {},
     "output_type": "execute_result"
    }
   ],
   "source": [
    "3836677573"
   ]
  },
  {
   "cell_type": "code",
   "execution_count": null,
   "metadata": {},
   "outputs": [
    {
     "data": {
      "text/plain": [
       "1"
      ]
     },
     "execution_count": 54,
     "metadata": {},
     "output_type": "execute_result"
    }
   ],
   "source": [
    "np.sum(gt_checksum != js_checksum)"
   ]
  },
  {
   "cell_type": "code",
   "execution_count": null,
   "metadata": {},
   "outputs": [
    {
     "data": {
      "text/plain": [
       "31.837210382706186"
      ]
     },
     "execution_count": 55,
     "metadata": {},
     "output_type": "execute_result"
    }
   ],
   "source": [
    "np.log2(3836677573)"
   ]
  },
  {
   "cell_type": "code",
   "execution_count": null,
   "metadata": {},
   "outputs": [
    {
     "data": {
      "text/plain": [
       "array([ 11,  -8,  -2,   1,   4,  10,   9,  -1,  -1,  -5,   8, -14,  11,\n",
       "         4,   3, -12,  -7,  -3,  12,  10, -11,   9,  -4,  -1], dtype=int8)"
      ]
     },
     "execution_count": 56,
     "metadata": {},
     "output_type": "execute_result"
    }
   ],
   "source": [
    "quantized_matrix[:, -1][1000:]"
   ]
  },
  {
   "cell_type": "code",
   "execution_count": null,
   "metadata": {},
   "outputs": [
    {
     "data": {
      "text/plain": [
       "32768"
      ]
     },
     "execution_count": 57,
     "metadata": {},
     "output_type": "execute_result"
    }
   ],
   "source": [
    "2**15"
   ]
  },
  {
   "cell_type": "code",
   "execution_count": null,
   "metadata": {},
   "outputs": [
    {
     "data": {
      "text/plain": [
       "array([654, 125, 355, ..., 136, 676, 492])"
      ]
     },
     "execution_count": 58,
     "metadata": {},
     "output_type": "execute_result"
    }
   ],
   "source": [
    "quantized_matrix @ (quantized_matrix @ np.arange(1024) % 1024) % 1024"
   ]
  },
  {
   "cell_type": "code",
   "execution_count": null,
   "metadata": {},
   "outputs": [
    {
     "data": {
      "text/plain": [
       "array([[ 3, 14, 27, ...,  5, 15, 21],\n",
       "       [16,  7,  7, ..., 30,  6, 34],\n",
       "       [11, 22,  0, ..., 31, 11,  9],\n",
       "       ...,\n",
       "       [17,  6, 12, ..., 19,  4, 18],\n",
       "       [12, 12, 12, ...,  7,  6,  8],\n",
       "       [ 2,  8, 11, ...,  7,  9,  1]])"
      ]
     },
     "execution_count": 59,
     "metadata": {},
     "output_type": "execute_result"
    }
   ],
   "source": [
    "np.array([[inv_vocab[x] for x in row] for row in quantized_matrix])"
   ]
  },
  {
   "cell_type": "code",
   "execution_count": null,
   "metadata": {},
   "outputs": [
    {
     "data": {
      "text/plain": [
       "array([-393, -311,  172, ..., -224,   28,  106])"
      ]
     },
     "execution_count": 60,
     "metadata": {},
     "output_type": "execute_result"
    }
   ],
   "source": [
    "quantized_matrix.sum(axis=1)"
   ]
  },
  {
   "cell_type": "code",
   "execution_count": null,
   "metadata": {},
   "outputs": [],
   "source": []
  }
 ],
 "metadata": {
  "kernelspec": {
   "display_name": "Python 3",
   "language": "python",
   "name": "python3"
  },
  "language_info": {
   "codemirror_mode": {
    "name": "ipython",
    "version": 3
   },
   "file_extension": ".py",
   "mimetype": "text/x-python",
   "name": "python",
   "nbconvert_exporter": "python",
   "pygments_lexer": "ipython3",
   "version": "3.12.0"
  }
 },
 "nbformat": 4,
 "nbformat_minor": 2
}
