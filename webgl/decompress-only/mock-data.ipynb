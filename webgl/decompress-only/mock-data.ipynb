{
 "cells": [
  {
   "cell_type": "markdown",
   "metadata": {},
   "source": [
    "# Mock Data for Compressed Matrices"
   ]
  },
  {
   "cell_type": "code",
   "execution_count": 1,
   "metadata": {},
   "outputs": [],
   "source": [
    "import numpy as np\n",
    "from tqdm import tqdm\n",
    "import pickle"
   ]
  },
  {
   "cell_type": "markdown",
   "metadata": {},
   "source": [
    "## Preparation"
   ]
  },
  {
   "cell_type": "markdown",
   "metadata": {},
   "source": [
    "### Create Random Quantized Matrices"
   ]
  },
  {
   "cell_type": "code",
   "execution_count": 2,
   "metadata": {},
   "outputs": [],
   "source": [
    "np.random.seed(202404151)\n",
    "matrices = np.random.randn(100, 1024, 1024)"
   ]
  },
  {
   "cell_type": "code",
   "execution_count": 3,
   "metadata": {},
   "outputs": [
    {
     "name": "stdout",
     "output_type": "stream",
     "text": [
      "mins: [-41 -38 -40 -38 -44 -38 -37 -41 -41 -37 -39 -40 -39 -37 -39 -40 -37 -41\n",
      " -40 -40 -39 -41 -38 -42 -39 -39 -42 -39 -41 -41 -38 -39 -40 -38 -38 -38\n",
      " -42 -41 -37 -44 -38 -38 -37 -39 -39 -36 -39 -42 -40 -40 -41 -38 -36 -41\n",
      " -40 -41 -42 -38 -38 -38 -42 -37 -39 -39 -38 -36 -39 -37 -38 -40 -43 -36\n",
      " -37 -37 -41 -39 -41 -37 -40 -42 -38 -37 -38 -37 -38 -42 -41 -42 -38 -42\n",
      " -40 -46 -39 -37 -42 -41 -37 -40 -38 -42]\n",
      "maxs: [38 39 36 36 39 37 36 38 36 39 38 37 39 40 37 40 37 38 39 41 38 40 37 38\n",
      " 36 36 39 39 36 39 37 37 37 38 39 39 41 41 37 36 37 38 35 37 37 40 42 36\n",
      " 41 37 37 41 40 39 38 40 42 43 38 41 37 36 41 37 37 38 38 39 40 36 38 39\n",
      " 39 40 39 38 39 37 38 40 39 43 43 44 36 42 44 39 43 39 37 37 38 43 40 38\n",
      " 40 44 39 39]\n"
     ]
    }
   ],
   "source": [
    "quantized_matrices = np.round(matrices * 8).astype(np.int8)\n",
    "print(f'mins: {quantized_matrices.min(axis=(1, 2))}')\n",
    "print(f'maxs: {quantized_matrices.max(axis=(1, 2))}')"
   ]
  },
  {
   "cell_type": "markdown",
   "metadata": {},
   "source": [
    "### Create Entropy Models"
   ]
  },
  {
   "cell_type": "code",
   "execution_count": 4,
   "metadata": {},
   "outputs": [
    {
     "name": "stderr",
     "output_type": "stream",
     "text": [
      "100%|██████████| 100/100 [00:02<00:00, 36.25it/s]"
     ]
    },
    {
     "name": "stdout",
     "output_type": "stream",
     "text": [
      "Maximum absolute overhead: 0.0471\n",
      "Maximum relative overhead: 0.93 %\n"
     ]
    },
    {
     "name": "stderr",
     "output_type": "stream",
     "text": [
      "\n"
     ]
    },
    {
     "data": {
      "text/plain": [
       "(array([5.04873129, 5.04657062, 5.04677307, 5.04884595, 5.0473163 ,\n",
       "        5.0486622 , 5.04661374, 5.04849787, 5.04695842, 5.04865761,\n",
       "        5.04702978, 5.04732894, 5.04798469, 5.04782882, 5.04794853,\n",
       "        5.04891135, 5.04778863, 5.0474892 , 5.04845118, 5.04870344,\n",
       "        5.04692647, 5.0466256 , 5.04761184, 5.04772784, 5.04902663,\n",
       "        5.04909297, 5.0483021 , 5.0477679 , 5.04680325, 5.0470743 ,\n",
       "        5.04774866, 5.04810709, 5.04799223, 5.04751116, 5.04805406,\n",
       "        5.04894296, 5.04914948, 5.04813692, 5.04773768, 5.04766498,\n",
       "        5.04820142, 5.04674641, 5.04612653, 5.04954575, 5.04798425,\n",
       "        5.04911074, 5.04806961, 5.04883531, 5.04730741, 5.04820349,\n",
       "        5.0475805 , 5.04728574, 5.0476444 , 5.04874619, 5.04859174,\n",
       "        5.04892564, 5.04605025, 5.04941888, 5.04747965, 5.04812066,\n",
       "        5.04752634, 5.04696448, 5.04841835, 5.0466188 , 5.04660691,\n",
       "        5.04749418, 5.04658043, 5.04970472, 5.04751697, 5.0466669 ,\n",
       "        5.0487524 , 5.04709681, 5.0476797 , 5.04769936, 5.04902494,\n",
       "        5.04895012, 5.04639921, 5.04668295, 5.04814853, 5.05002499,\n",
       "        5.04836993, 5.04791812, 5.04791608, 5.04752935, 5.04711372,\n",
       "        5.0493911 , 5.0481115 , 5.04940273, 5.04633744, 5.04810413,\n",
       "        5.04664947, 5.04846792, 5.04931599, 5.04653048, 5.04739448,\n",
       "        5.04770291, 5.04775435, 5.04835903, 5.04771543, 5.04719952]),\n",
       " array([5.08750168, 5.08959662, 5.08385052, 5.08566755, 5.09129431,\n",
       "        5.08733714, 5.08326359, 5.08649926, 5.08471898, 5.08960345,\n",
       "        5.08905128, 5.08647551, 5.08718853, 5.08483556, 5.08624012,\n",
       "        5.0923847 , 5.08303542, 5.09104248, 5.09007439, 5.09315758,\n",
       "        5.0888587 , 5.08802607, 5.08047001, 5.08625601, 5.08671615,\n",
       "        5.08749734, 5.08889974, 5.09129045, 5.08115863, 5.08742054,\n",
       "        5.08744216, 5.08290823, 5.08786022, 5.08444307, 5.08588086,\n",
       "        5.0888699 , 5.08785647, 5.08923196, 5.08477889, 5.08810134,\n",
       "        5.08745848, 5.0884914 , 5.07773614, 5.08755609, 5.08656536,\n",
       "        5.09034321, 5.08933964, 5.08724775, 5.08963167, 5.08699161,\n",
       "        5.08589455, 5.09002287, 5.0845995 , 5.08901659, 5.08960003,\n",
       "        5.08730749, 5.09016844, 5.08705772, 5.0881861 , 5.09211099,\n",
       "        5.08584096, 5.08019499, 5.08920872, 5.08489129, 5.08355797,\n",
       "        5.08597065, 5.08314265, 5.08081851, 5.08352519, 5.08436051,\n",
       "        5.08963755, 5.08161253, 5.08795184, 5.0894477 , 5.08602634,\n",
       "        5.08996221, 5.0892723 , 5.08327869, 5.08985089, 5.09137262,\n",
       "        5.08675653, 5.08829172, 5.08258285, 5.09197218, 5.08176347,\n",
       "        5.08974509, 5.09044136, 5.09122814, 5.0839789 , 5.09055789,\n",
       "        5.08757338, 5.08641071, 5.0910912 , 5.08742698, 5.09451667,\n",
       "        5.08906716, 5.08875837, 5.08622083, 5.08630715, 5.09299419]))"
      ]
     },
     "execution_count": 4,
     "metadata": {},
     "output_type": "execute_result"
    }
   ],
   "source": [
    "values = []\n",
    "counts = []\n",
    "counts_12bit = []\n",
    "entropies = []\n",
    "cross_entropies_12bit = []\n",
    "for quantized_matrix in tqdm(quantized_matrices):\n",
    "    v, c = np.unique(quantized_matrix, return_counts=True)\n",
    "    order = np.argsort(c)[::-1]\n",
    "    v = v[order]\n",
    "    c = c[order]\n",
    "    values.append(v)\n",
    "    counts.append(c)\n",
    "    entropies.append(np.log2(quantized_matrix.size) - c @ np.log2(c) / quantized_matrix.size)\n",
    "    c12bit = np.maximum(np.round(c / 256).astype(np.uint32), 1)\n",
    "    excess = sum(c12bit) - (1 << 12)\n",
    "    assert excess >= 0 and excess <= len(c)\n",
    "    if excess != 0:\n",
    "        assert c12bit[excess - 1] > 1\n",
    "    c12bit[:excess] -= 1\n",
    "    counts_12bit.append(c12bit)\n",
    "    cross_entropies_12bit.append(12 - c12bit @ np.log2(c12bit) / (1 << 12))\n",
    "entropies = np.array(entropies)\n",
    "cross_entropies_12bit = np.array(cross_entropies_12bit)\n",
    "overheads = cross_entropies_12bit - entropies\n",
    "print(f'Maximum absolute overhead: {overheads.max():.4f}')\n",
    "print(f'Maximum relative overhead: {(overheads * 100 / entropies).max():.2f} %')\n",
    "entropies, cross_entropies_12bit"
   ]
  },
  {
   "cell_type": "code",
   "execution_count": 5,
   "metadata": {},
   "outputs": [],
   "source": [
    "inv_vocabs = [{v: i for i, v in enumerate(vs)} for vs in values]"
   ]
  },
  {
   "cell_type": "markdown",
   "metadata": {},
   "source": [
    "### Entropy Coder"
   ]
  },
  {
   "cell_type": "code",
   "execution_count": 6,
   "metadata": {},
   "outputs": [],
   "source": [
    "class AnsCoder:\n",
    "    def __init__(self, precision, word_size, compressed=[]):\n",
    "        self.precision = precision\n",
    "        self.word_size = word_size\n",
    "        self.word_mask = (1 << word_size) - 1\n",
    "        self.quantile_mask = (1 << precision) - 1\n",
    "        self.bulk = compressed.copy()\n",
    "        self.head = 0\n",
    "        while len(self.bulk) != 0 and (self.head >> word_size) == 0:\n",
    "            self.head = (self.head << word_size) | self.bulk.pop()\n",
    "\n",
    "    def push(self, symbol, m):\n",
    "        if (self.head >> (2 * self.word_size - self.precision)) >= m[symbol]:\n",
    "            self.bulk.append(self.head & self.word_mask)\n",
    "            self.head >>= self.word_size\n",
    "\n",
    "        z = self.head % m[symbol] + sum(m[0:symbol])\n",
    "        self.head //= m[symbol]\n",
    "        self.head = (self.head << self.precision) | z\n",
    "\n",
    "    def pop(self, m):\n",
    "        z = self.head & self.quantile_mask\n",
    "        self.head >>= self.precision\n",
    "        for symbol, m_symbol in enumerate(m):\n",
    "            if z >= m_symbol:\n",
    "                z -= m_symbol\n",
    "            else:\n",
    "                break\n",
    "        self.head = self.head * m_symbol + z\n",
    "        if (self.head >> self.word_size) == 0 and len(self.bulk) != 0:\n",
    "            self.head = (self.head << self.word_size) | self.bulk.pop()\n",
    "        return symbol\n",
    "\n",
    "    def get_compressed(self):\n",
    "        compressed = self.bulk.copy()\n",
    "        head = self.head\n",
    "        while head != 0:\n",
    "            compressed.append(head & self.word_mask)\n",
    "            head >>= self.word_size\n",
    "        return compressed"
   ]
  },
  {
   "cell_type": "markdown",
   "metadata": {},
   "source": [
    "## Compression 1: independently compressed matrix entries, with non-interleaved matrices"
   ]
  },
  {
   "cell_type": "markdown",
   "metadata": {},
   "source": [
    "### Compress the matrices"
   ]
  },
  {
   "cell_type": "markdown",
   "metadata": {},
   "source": [
    "Uncomment the following cell if you've already executed the entropy coding part in a previous run and saved the results to a file, and you now only want to play with the multiplexing part.\n",
    "Then, don't execute any more cells in this section (as they would overwrite what you just loaded from the pickle file) and instead jump directly to the next section (\"Serialize to a file\")."
   ]
  },
  {
   "cell_type": "code",
   "execution_count": 8,
   "metadata": {},
   "outputs": [],
   "source": [
    "# with open(\"100-compressed-matrices.pickle\", \"rb\") as f:\n",
    "#     d = pickle.load(f)\n",
    "#     compressed_stream = d[\"compressed_stream\"]\n",
    "#     coder_offsets = d[\"coder_offsets\"]\n",
    "#     del d"
   ]
  },
  {
   "cell_type": "markdown",
   "metadata": {},
   "source": [
    "The following cell is expensive, but only because the entropy coders are implemented in python, which makes them excruciatingly slow.\n",
    "Once we've settled on precise coder settings (`precision` and `word_size`), we should move the entropy coding part to a compiled language."
   ]
  },
  {
   "cell_type": "code",
   "execution_count": 9,
   "metadata": {},
   "outputs": [
    {
     "name": "stderr",
     "output_type": "stream",
     "text": [
      "1it [00:03,  3.49s/it]"
     ]
    },
    {
     "name": "stdout",
     "output_type": "stream",
     "text": [
      "Encoded matrix 99; words emitted so far: 0\n"
     ]
    },
    {
     "name": "stderr",
     "output_type": "stream",
     "text": [
      "2it [00:06,  3.47s/it]"
     ]
    },
    {
     "name": "stdout",
     "output_type": "stream",
     "text": [
      "Encoded matrix 98; words emitted so far: 0\n"
     ]
    },
    {
     "name": "stderr",
     "output_type": "stream",
     "text": [
      "3it [00:10,  3.49s/it]"
     ]
    },
    {
     "name": "stdout",
     "output_type": "stream",
     "text": [
      "Encoded matrix 97; words emitted so far: 6442\n"
     ]
    },
    {
     "name": "stderr",
     "output_type": "stream",
     "text": [
      "4it [00:14,  3.57s/it]"
     ]
    },
    {
     "name": "stdout",
     "output_type": "stream",
     "text": [
      "Encoded matrix 96; words emitted so far: 256628\n"
     ]
    },
    {
     "name": "stderr",
     "output_type": "stream",
     "text": [
      "5it [00:17,  3.52s/it]"
     ]
    },
    {
     "name": "stdout",
     "output_type": "stream",
     "text": [
      "Encoded matrix 95; words emitted so far: 1048779\n"
     ]
    },
    {
     "name": "stderr",
     "output_type": "stream",
     "text": [
      "6it [00:21,  3.53s/it]"
     ]
    },
    {
     "name": "stdout",
     "output_type": "stream",
     "text": [
      "Encoded matrix 94; words emitted so far: 1061698\n"
     ]
    },
    {
     "name": "stderr",
     "output_type": "stream",
     "text": [
      "7it [00:24,  3.58s/it]"
     ]
    },
    {
     "name": "stdout",
     "output_type": "stream",
     "text": [
      "Encoded matrix 93; words emitted so far: 1274851\n"
     ]
    },
    {
     "name": "stderr",
     "output_type": "stream",
     "text": [
      "8it [00:28,  3.58s/it]"
     ]
    },
    {
     "name": "stdout",
     "output_type": "stream",
     "text": [
      "Encoded matrix 92; words emitted so far: 2035984\n"
     ]
    },
    {
     "name": "stderr",
     "output_type": "stream",
     "text": [
      "9it [00:31,  3.59s/it]"
     ]
    },
    {
     "name": "stdout",
     "output_type": "stream",
     "text": [
      "Encoded matrix 91; words emitted so far: 2114211\n"
     ]
    },
    {
     "name": "stderr",
     "output_type": "stream",
     "text": [
      "10it [00:35,  3.61s/it]"
     ]
    },
    {
     "name": "stdout",
     "output_type": "stream",
     "text": [
      "Encoded matrix 90; words emitted so far: 2294396\n"
     ]
    },
    {
     "name": "stderr",
     "output_type": "stream",
     "text": [
      "11it [00:39,  3.60s/it]"
     ]
    },
    {
     "name": "stdout",
     "output_type": "stream",
     "text": [
      "Encoded matrix 89; words emitted so far: 2910784\n"
     ]
    },
    {
     "name": "stderr",
     "output_type": "stream",
     "text": [
      "12it [00:42,  3.57s/it]"
     ]
    },
    {
     "name": "stdout",
     "output_type": "stream",
     "text": [
      "Encoded matrix 88; words emitted so far: 3164586\n"
     ]
    },
    {
     "name": "stderr",
     "output_type": "stream",
     "text": [
      "13it [00:46,  3.59s/it]"
     ]
    },
    {
     "name": "stdout",
     "output_type": "stream",
     "text": [
      "Encoded matrix 87; words emitted so far: 3316701\n"
     ]
    },
    {
     "name": "stderr",
     "output_type": "stream",
     "text": [
      "14it [00:49,  3.59s/it]"
     ]
    },
    {
     "name": "stdout",
     "output_type": "stream",
     "text": [
      "Encoded matrix 86; words emitted so far: 3820266\n"
     ]
    },
    {
     "name": "stderr",
     "output_type": "stream",
     "text": [
      "15it [00:53,  3.61s/it]"
     ]
    },
    {
     "name": "stdout",
     "output_type": "stream",
     "text": [
      "Encoded matrix 85; words emitted so far: 4203805\n"
     ]
    },
    {
     "name": "stderr",
     "output_type": "stream",
     "text": [
      "16it [00:57,  3.61s/it]"
     ]
    },
    {
     "name": "stdout",
     "output_type": "stream",
     "text": [
      "Encoded matrix 84; words emitted so far: 4343774\n"
     ]
    },
    {
     "name": "stderr",
     "output_type": "stream",
     "text": [
      "17it [01:00,  3.61s/it]"
     ]
    },
    {
     "name": "stdout",
     "output_type": "stream",
     "text": [
      "Encoded matrix 83; words emitted so far: 4762721\n"
     ]
    },
    {
     "name": "stderr",
     "output_type": "stream",
     "text": [
      "18it [01:04,  3.58s/it]"
     ]
    },
    {
     "name": "stdout",
     "output_type": "stream",
     "text": [
      "Encoded matrix 82; words emitted so far: 5207028\n"
     ]
    },
    {
     "name": "stderr",
     "output_type": "stream",
     "text": [
      "19it [01:07,  3.58s/it]"
     ]
    },
    {
     "name": "stdout",
     "output_type": "stream",
     "text": [
      "Encoded matrix 81; words emitted so far: 5373775\n"
     ]
    },
    {
     "name": "stderr",
     "output_type": "stream",
     "text": [
      "20it [01:11,  3.58s/it]"
     ]
    },
    {
     "name": "stdout",
     "output_type": "stream",
     "text": [
      "Encoded matrix 80; words emitted so far: 5727251\n"
     ]
    },
    {
     "name": "stderr",
     "output_type": "stream",
     "text": [
      "21it [01:15,  3.56s/it]"
     ]
    },
    {
     "name": "stdout",
     "output_type": "stream",
     "text": [
      "Encoded matrix 79; words emitted so far: 6184444\n"
     ]
    },
    {
     "name": "stderr",
     "output_type": "stream",
     "text": [
      "22it [01:18,  3.55s/it]"
     ]
    },
    {
     "name": "stdout",
     "output_type": "stream",
     "text": [
      "Encoded matrix 78; words emitted so far: 6404354\n"
     ]
    },
    {
     "name": "stderr",
     "output_type": "stream",
     "text": [
      "23it [01:22,  3.59s/it]"
     ]
    },
    {
     "name": "stdout",
     "output_type": "stream",
     "text": [
      "Encoded matrix 77; words emitted so far: 6708664\n"
     ]
    },
    {
     "name": "stderr",
     "output_type": "stream",
     "text": [
      "24it [01:25,  3.59s/it]"
     ]
    },
    {
     "name": "stdout",
     "output_type": "stream",
     "text": [
      "Encoded matrix 76; words emitted so far: 7152621\n"
     ]
    },
    {
     "name": "stderr",
     "output_type": "stream",
     "text": [
      "25it [01:29,  3.60s/it]"
     ]
    },
    {
     "name": "stdout",
     "output_type": "stream",
     "text": [
      "Encoded matrix 75; words emitted so far: 7428625\n"
     ]
    },
    {
     "name": "stderr",
     "output_type": "stream",
     "text": [
      "26it [01:33,  3.59s/it]"
     ]
    },
    {
     "name": "stdout",
     "output_type": "stream",
     "text": [
      "Encoded matrix 74; words emitted so far: 7701460\n"
     ]
    },
    {
     "name": "stderr",
     "output_type": "stream",
     "text": [
      "27it [01:36,  3.59s/it]"
     ]
    },
    {
     "name": "stdout",
     "output_type": "stream",
     "text": [
      "Encoded matrix 73; words emitted so far: 8120839\n"
     ]
    },
    {
     "name": "stderr",
     "output_type": "stream",
     "text": [
      "28it [01:40,  3.57s/it]"
     ]
    },
    {
     "name": "stdout",
     "output_type": "stream",
     "text": [
      "Encoded matrix 72; words emitted so far: 8441861\n"
     ]
    },
    {
     "name": "stderr",
     "output_type": "stream",
     "text": [
      "29it [01:43,  3.58s/it]"
     ]
    },
    {
     "name": "stdout",
     "output_type": "stream",
     "text": [
      "Encoded matrix 71; words emitted so far: 8702378\n"
     ]
    },
    {
     "name": "stderr",
     "output_type": "stream",
     "text": [
      "30it [01:47,  3.56s/it]"
     ]
    },
    {
     "name": "stdout",
     "output_type": "stream",
     "text": [
      "Encoded matrix 70; words emitted so far: 9093003\n"
     ]
    },
    {
     "name": "stderr",
     "output_type": "stream",
     "text": [
      "31it [01:50,  3.54s/it]"
     ]
    },
    {
     "name": "stdout",
     "output_type": "stream",
     "text": [
      "Encoded matrix 69; words emitted so far: 9444023\n"
     ]
    },
    {
     "name": "stderr",
     "output_type": "stream",
     "text": [
      "32it [01:54,  3.53s/it]"
     ]
    },
    {
     "name": "stdout",
     "output_type": "stream",
     "text": [
      "Encoded matrix 68; words emitted so far: 9709115\n"
     ]
    },
    {
     "name": "stderr",
     "output_type": "stream",
     "text": [
      "33it [01:57,  3.54s/it]"
     ]
    },
    {
     "name": "stdout",
     "output_type": "stream",
     "text": [
      "Encoded matrix 67; words emitted so far: 10069518\n"
     ]
    },
    {
     "name": "stderr",
     "output_type": "stream",
     "text": [
      "34it [02:01,  3.53s/it]"
     ]
    },
    {
     "name": "stdout",
     "output_type": "stream",
     "text": [
      "Encoded matrix 66; words emitted so far: 10437342\n"
     ]
    },
    {
     "name": "stderr",
     "output_type": "stream",
     "text": [
      "35it [02:04,  3.54s/it]"
     ]
    },
    {
     "name": "stdout",
     "output_type": "stream",
     "text": [
      "Encoded matrix 65; words emitted so far: 10716954\n"
     ]
    },
    {
     "name": "stderr",
     "output_type": "stream",
     "text": [
      "36it [02:08,  3.58s/it]"
     ]
    },
    {
     "name": "stdout",
     "output_type": "stream",
     "text": [
      "Encoded matrix 64; words emitted so far: 11052761\n"
     ]
    },
    {
     "name": "stderr",
     "output_type": "stream",
     "text": [
      "37it [02:12,  3.58s/it]"
     ]
    },
    {
     "name": "stdout",
     "output_type": "stream",
     "text": [
      "Encoded matrix 63; words emitted so far: 11425705\n"
     ]
    },
    {
     "name": "stderr",
     "output_type": "stream",
     "text": [
      "38it [02:15,  3.59s/it]"
     ]
    },
    {
     "name": "stdout",
     "output_type": "stream",
     "text": [
      "Encoded matrix 62; words emitted so far: 11722858\n"
     ]
    },
    {
     "name": "stderr",
     "output_type": "stream",
     "text": [
      "39it [02:19,  3.68s/it]"
     ]
    },
    {
     "name": "stdout",
     "output_type": "stream",
     "text": [
      "Encoded matrix 61; words emitted so far: 12041996\n"
     ]
    },
    {
     "name": "stderr",
     "output_type": "stream",
     "text": [
      "40it [02:23,  3.67s/it]"
     ]
    },
    {
     "name": "stdout",
     "output_type": "stream",
     "text": [
      "Encoded matrix 60; words emitted so far: 12410758\n"
     ]
    },
    {
     "name": "stderr",
     "output_type": "stream",
     "text": [
      "41it [02:26,  3.67s/it]"
     ]
    },
    {
     "name": "stdout",
     "output_type": "stream",
     "text": [
      "Encoded matrix 59; words emitted so far: 12726113\n"
     ]
    },
    {
     "name": "stderr",
     "output_type": "stream",
     "text": [
      "42it [02:30,  3.65s/it]"
     ]
    },
    {
     "name": "stdout",
     "output_type": "stream",
     "text": [
      "Encoded matrix 58; words emitted so far: 13035500\n"
     ]
    },
    {
     "name": "stderr",
     "output_type": "stream",
     "text": [
      "43it [02:34,  3.64s/it]"
     ]
    },
    {
     "name": "stdout",
     "output_type": "stream",
     "text": [
      "Encoded matrix 57; words emitted so far: 13395635\n"
     ]
    },
    {
     "name": "stderr",
     "output_type": "stream",
     "text": [
      "44it [02:37,  3.62s/it]"
     ]
    },
    {
     "name": "stdout",
     "output_type": "stream",
     "text": [
      "Encoded matrix 56; words emitted so far: 13725241\n"
     ]
    },
    {
     "name": "stderr",
     "output_type": "stream",
     "text": [
      "45it [02:41,  3.61s/it]"
     ]
    },
    {
     "name": "stdout",
     "output_type": "stream",
     "text": [
      "Encoded matrix 55; words emitted so far: 14032246\n"
     ]
    },
    {
     "name": "stderr",
     "output_type": "stream",
     "text": [
      "46it [02:44,  3.62s/it]"
     ]
    },
    {
     "name": "stdout",
     "output_type": "stream",
     "text": [
      "Encoded matrix 54; words emitted so far: 14382222\n"
     ]
    },
    {
     "name": "stderr",
     "output_type": "stream",
     "text": [
      "47it [02:48,  3.62s/it]"
     ]
    },
    {
     "name": "stdout",
     "output_type": "stream",
     "text": [
      "Encoded matrix 53; words emitted so far: 14721411\n"
     ]
    },
    {
     "name": "stderr",
     "output_type": "stream",
     "text": [
      "48it [02:52,  3.63s/it]"
     ]
    },
    {
     "name": "stdout",
     "output_type": "stream",
     "text": [
      "Encoded matrix 52; words emitted so far: 15030577\n"
     ]
    },
    {
     "name": "stderr",
     "output_type": "stream",
     "text": [
      "49it [02:55,  3.63s/it]"
     ]
    },
    {
     "name": "stdout",
     "output_type": "stream",
     "text": [
      "Encoded matrix 51; words emitted so far: 15370724\n"
     ]
    },
    {
     "name": "stderr",
     "output_type": "stream",
     "text": [
      "50it [02:59,  3.66s/it]"
     ]
    },
    {
     "name": "stdout",
     "output_type": "stream",
     "text": [
      "Encoded matrix 50; words emitted so far: 15714205\n"
     ]
    },
    {
     "name": "stderr",
     "output_type": "stream",
     "text": [
      "51it [03:03,  3.67s/it]"
     ]
    },
    {
     "name": "stdout",
     "output_type": "stream",
     "text": [
      "Encoded matrix 49; words emitted so far: 16029060\n"
     ]
    },
    {
     "name": "stderr",
     "output_type": "stream",
     "text": [
      "52it [03:06,  3.68s/it]"
     ]
    },
    {
     "name": "stdout",
     "output_type": "stream",
     "text": [
      "Encoded matrix 48; words emitted so far: 16360831\n"
     ]
    },
    {
     "name": "stderr",
     "output_type": "stream",
     "text": [
      "53it [03:10,  3.68s/it]"
     ]
    },
    {
     "name": "stdout",
     "output_type": "stream",
     "text": [
      "Encoded matrix 47; words emitted so far: 16706084\n"
     ]
    },
    {
     "name": "stderr",
     "output_type": "stream",
     "text": [
      "54it [03:14,  3.66s/it]"
     ]
    },
    {
     "name": "stdout",
     "output_type": "stream",
     "text": [
      "Encoded matrix 46; words emitted so far: 17026551\n"
     ]
    },
    {
     "name": "stderr",
     "output_type": "stream",
     "text": [
      "55it [03:17,  3.66s/it]"
     ]
    },
    {
     "name": "stdout",
     "output_type": "stream",
     "text": [
      "Encoded matrix 45; words emitted so far: 17353267\n"
     ]
    },
    {
     "name": "stderr",
     "output_type": "stream",
     "text": [
      "56it [03:21,  3.65s/it]"
     ]
    },
    {
     "name": "stdout",
     "output_type": "stream",
     "text": [
      "Encoded matrix 44; words emitted so far: 17697071\n"
     ]
    },
    {
     "name": "stderr",
     "output_type": "stream",
     "text": [
      "57it [03:25,  3.66s/it]"
     ]
    },
    {
     "name": "stdout",
     "output_type": "stream",
     "text": [
      "Encoded matrix 43; words emitted so far: 18023446\n"
     ]
    },
    {
     "name": "stderr",
     "output_type": "stream",
     "text": [
      "58it [03:28,  3.66s/it]"
     ]
    },
    {
     "name": "stdout",
     "output_type": "stream",
     "text": [
      "Encoded matrix 42; words emitted so far: 18346814\n"
     ]
    },
    {
     "name": "stderr",
     "output_type": "stream",
     "text": [
      "59it [03:32,  3.67s/it]"
     ]
    },
    {
     "name": "stdout",
     "output_type": "stream",
     "text": [
      "Encoded matrix 41; words emitted so far: 18687526\n"
     ]
    },
    {
     "name": "stderr",
     "output_type": "stream",
     "text": [
      "60it [03:36,  3.68s/it]"
     ]
    },
    {
     "name": "stdout",
     "output_type": "stream",
     "text": [
      "Encoded matrix 40; words emitted so far: 19018871\n"
     ]
    },
    {
     "name": "stderr",
     "output_type": "stream",
     "text": [
      "61it [03:39,  3.67s/it]"
     ]
    },
    {
     "name": "stdout",
     "output_type": "stream",
     "text": [
      "Encoded matrix 39; words emitted so far: 19341563\n"
     ]
    },
    {
     "name": "stderr",
     "output_type": "stream",
     "text": [
      "62it [03:43,  3.67s/it]"
     ]
    },
    {
     "name": "stdout",
     "output_type": "stream",
     "text": [
      "Encoded matrix 38; words emitted so far: 19679067\n"
     ]
    },
    {
     "name": "stderr",
     "output_type": "stream",
     "text": [
      "63it [03:47,  3.68s/it]"
     ]
    },
    {
     "name": "stdout",
     "output_type": "stream",
     "text": [
      "Encoded matrix 37; words emitted so far: 20013158\n"
     ]
    },
    {
     "name": "stderr",
     "output_type": "stream",
     "text": [
      "64it [03:51,  3.73s/it]"
     ]
    },
    {
     "name": "stdout",
     "output_type": "stream",
     "text": [
      "Encoded matrix 36; words emitted so far: 20336871\n"
     ]
    },
    {
     "name": "stderr",
     "output_type": "stream",
     "text": [
      "65it [03:54,  3.72s/it]"
     ]
    },
    {
     "name": "stdout",
     "output_type": "stream",
     "text": [
      "Encoded matrix 35; words emitted so far: 20670222\n"
     ]
    },
    {
     "name": "stderr",
     "output_type": "stream",
     "text": [
      "66it [03:58,  3.69s/it]"
     ]
    },
    {
     "name": "stdout",
     "output_type": "stream",
     "text": [
      "Encoded matrix 34; words emitted so far: 21006192\n"
     ]
    },
    {
     "name": "stderr",
     "output_type": "stream",
     "text": [
      "67it [04:02,  3.68s/it]"
     ]
    },
    {
     "name": "stdout",
     "output_type": "stream",
     "text": [
      "Encoded matrix 33; words emitted so far: 21332328\n"
     ]
    },
    {
     "name": "stderr",
     "output_type": "stream",
     "text": [
      "68it [04:05,  3.68s/it]"
     ]
    },
    {
     "name": "stdout",
     "output_type": "stream",
     "text": [
      "Encoded matrix 32; words emitted so far: 21663189\n"
     ]
    },
    {
     "name": "stderr",
     "output_type": "stream",
     "text": [
      "69it [04:09,  3.66s/it]"
     ]
    },
    {
     "name": "stdout",
     "output_type": "stream",
     "text": [
      "Encoded matrix 31; words emitted so far: 21999552\n"
     ]
    },
    {
     "name": "stderr",
     "output_type": "stream",
     "text": [
      "70it [04:13,  3.65s/it]"
     ]
    },
    {
     "name": "stdout",
     "output_type": "stream",
     "text": [
      "Encoded matrix 30; words emitted so far: 22327116\n"
     ]
    },
    {
     "name": "stderr",
     "output_type": "stream",
     "text": [
      "71it [04:16,  3.65s/it]"
     ]
    },
    {
     "name": "stdout",
     "output_type": "stream",
     "text": [
      "Encoded matrix 29; words emitted so far: 22655949\n"
     ]
    },
    {
     "name": "stderr",
     "output_type": "stream",
     "text": [
      "72it [04:20,  3.63s/it]"
     ]
    },
    {
     "name": "stdout",
     "output_type": "stream",
     "text": [
      "Encoded matrix 28; words emitted so far: 22991943\n"
     ]
    },
    {
     "name": "stderr",
     "output_type": "stream",
     "text": [
      "73it [04:23,  3.62s/it]"
     ]
    },
    {
     "name": "stdout",
     "output_type": "stream",
     "text": [
      "Encoded matrix 27; words emitted so far: 23321390\n"
     ]
    },
    {
     "name": "stderr",
     "output_type": "stream",
     "text": [
      "74it [04:27,  3.60s/it]"
     ]
    },
    {
     "name": "stdout",
     "output_type": "stream",
     "text": [
      "Encoded matrix 26; words emitted so far: 23649220\n"
     ]
    },
    {
     "name": "stderr",
     "output_type": "stream",
     "text": [
      "75it [04:31,  3.61s/it]"
     ]
    },
    {
     "name": "stdout",
     "output_type": "stream",
     "text": [
      "Encoded matrix 25; words emitted so far: 23984877\n"
     ]
    },
    {
     "name": "stderr",
     "output_type": "stream",
     "text": [
      "76it [04:34,  3.60s/it]"
     ]
    },
    {
     "name": "stdout",
     "output_type": "stream",
     "text": [
      "Encoded matrix 24; words emitted so far: 24315658\n"
     ]
    },
    {
     "name": "stderr",
     "output_type": "stream",
     "text": [
      "77it [04:38,  3.60s/it]"
     ]
    },
    {
     "name": "stdout",
     "output_type": "stream",
     "text": [
      "Encoded matrix 23; words emitted so far: 24644002\n"
     ]
    },
    {
     "name": "stderr",
     "output_type": "stream",
     "text": [
      "78it [04:41,  3.64s/it]"
     ]
    },
    {
     "name": "stdout",
     "output_type": "stream",
     "text": [
      "Encoded matrix 22; words emitted so far: 24977313\n"
     ]
    },
    {
     "name": "stderr",
     "output_type": "stream",
     "text": [
      "79it [04:45,  3.68s/it]"
     ]
    },
    {
     "name": "stdout",
     "output_type": "stream",
     "text": [
      "Encoded matrix 21; words emitted so far: 25309423\n"
     ]
    },
    {
     "name": "stderr",
     "output_type": "stream",
     "text": [
      "80it [04:49,  3.69s/it]"
     ]
    },
    {
     "name": "stdout",
     "output_type": "stream",
     "text": [
      "Encoded matrix 20; words emitted so far: 25637462\n"
     ]
    },
    {
     "name": "stderr",
     "output_type": "stream",
     "text": [
      "81it [04:53,  3.72s/it]"
     ]
    },
    {
     "name": "stdout",
     "output_type": "stream",
     "text": [
      "Encoded matrix 19; words emitted so far: 25969721\n"
     ]
    },
    {
     "name": "stderr",
     "output_type": "stream",
     "text": [
      "82it [04:56,  3.70s/it]"
     ]
    },
    {
     "name": "stdout",
     "output_type": "stream",
     "text": [
      "Encoded matrix 18; words emitted so far: 26302485\n"
     ]
    },
    {
     "name": "stderr",
     "output_type": "stream",
     "text": [
      "83it [05:00,  3.71s/it]"
     ]
    },
    {
     "name": "stdout",
     "output_type": "stream",
     "text": [
      "Encoded matrix 17; words emitted so far: 26632280\n"
     ]
    },
    {
     "name": "stderr",
     "output_type": "stream",
     "text": [
      "84it [05:04,  3.74s/it]"
     ]
    },
    {
     "name": "stdout",
     "output_type": "stream",
     "text": [
      "Encoded matrix 16; words emitted so far: 26963759\n"
     ]
    },
    {
     "name": "stderr",
     "output_type": "stream",
     "text": [
      "85it [05:08,  3.77s/it]"
     ]
    },
    {
     "name": "stdout",
     "output_type": "stream",
     "text": [
      "Encoded matrix 15; words emitted so far: 27295997\n"
     ]
    },
    {
     "name": "stderr",
     "output_type": "stream",
     "text": [
      "86it [05:11,  3.75s/it]"
     ]
    },
    {
     "name": "stdout",
     "output_type": "stream",
     "text": [
      "Encoded matrix 14; words emitted so far: 27625988\n"
     ]
    },
    {
     "name": "stderr",
     "output_type": "stream",
     "text": [
      "87it [05:15,  3.72s/it]"
     ]
    },
    {
     "name": "stdout",
     "output_type": "stream",
     "text": [
      "Encoded matrix 13; words emitted so far: 27956972\n"
     ]
    },
    {
     "name": "stderr",
     "output_type": "stream",
     "text": [
      "88it [05:19,  3.68s/it]"
     ]
    },
    {
     "name": "stdout",
     "output_type": "stream",
     "text": [
      "Encoded matrix 12; words emitted so far: 28289047\n"
     ]
    },
    {
     "name": "stderr",
     "output_type": "stream",
     "text": [
      "89it [05:22,  3.65s/it]"
     ]
    },
    {
     "name": "stdout",
     "output_type": "stream",
     "text": [
      "Encoded matrix 11; words emitted so far: 28620248\n"
     ]
    },
    {
     "name": "stderr",
     "output_type": "stream",
     "text": [
      "90it [05:26,  3.70s/it]"
     ]
    },
    {
     "name": "stdout",
     "output_type": "stream",
     "text": [
      "Encoded matrix 10; words emitted so far: 28950098\n"
     ]
    },
    {
     "name": "stderr",
     "output_type": "stream",
     "text": [
      "91it [05:30,  3.68s/it]"
     ]
    },
    {
     "name": "stdout",
     "output_type": "stream",
     "text": [
      "Encoded matrix 9; words emitted so far: 29282317\n"
     ]
    },
    {
     "name": "stderr",
     "output_type": "stream",
     "text": [
      "92it [05:33,  3.67s/it]"
     ]
    },
    {
     "name": "stdout",
     "output_type": "stream",
     "text": [
      "Encoded matrix 8; words emitted so far: 29613855\n"
     ]
    },
    {
     "name": "stderr",
     "output_type": "stream",
     "text": [
      "93it [05:37,  3.65s/it]"
     ]
    },
    {
     "name": "stdout",
     "output_type": "stream",
     "text": [
      "Encoded matrix 7; words emitted so far: 29943590\n"
     ]
    },
    {
     "name": "stderr",
     "output_type": "stream",
     "text": [
      "94it [05:41,  3.63s/it]"
     ]
    },
    {
     "name": "stdout",
     "output_type": "stream",
     "text": [
      "Encoded matrix 6; words emitted so far: 30275837\n"
     ]
    },
    {
     "name": "stderr",
     "output_type": "stream",
     "text": [
      "95it [05:44,  3.62s/it]"
     ]
    },
    {
     "name": "stdout",
     "output_type": "stream",
     "text": [
      "Encoded matrix 5; words emitted so far: 30607617\n"
     ]
    },
    {
     "name": "stderr",
     "output_type": "stream",
     "text": [
      "96it [05:48,  3.64s/it]"
     ]
    },
    {
     "name": "stdout",
     "output_type": "stream",
     "text": [
      "Encoded matrix 4; words emitted so far: 30937585\n"
     ]
    },
    {
     "name": "stderr",
     "output_type": "stream",
     "text": [
      "97it [05:52,  3.70s/it]"
     ]
    },
    {
     "name": "stdout",
     "output_type": "stream",
     "text": [
      "Encoded matrix 3; words emitted so far: 31268964\n"
     ]
    },
    {
     "name": "stderr",
     "output_type": "stream",
     "text": [
      "98it [05:55,  3.66s/it]"
     ]
    },
    {
     "name": "stdout",
     "output_type": "stream",
     "text": [
      "Encoded matrix 2; words emitted so far: 31600871\n"
     ]
    },
    {
     "name": "stderr",
     "output_type": "stream",
     "text": [
      "99it [05:59,  3.64s/it]"
     ]
    },
    {
     "name": "stdout",
     "output_type": "stream",
     "text": [
      "Encoded matrix 1; words emitted so far: 31931008\n"
     ]
    },
    {
     "name": "stderr",
     "output_type": "stream",
     "text": [
      "100it [06:02,  3.63s/it]"
     ]
    },
    {
     "name": "stdout",
     "output_type": "stream",
     "text": [
      "Encoded matrix 0; words emitted so far: 32261992\n"
     ]
    },
    {
     "name": "stderr",
     "output_type": "stream",
     "text": [
      "\n"
     ]
    }
   ],
   "source": [
    "compressed_stream = []\n",
    "coder_offsets = np.zeros((len(matrices), matrices[0].size), dtype=np.uint32)\n",
    "coders = [AnsCoder(12, 16, [1, 1]) for _ in range(matrices[0].size)]\n",
    "for i in tqdm(reversed(range(len(matrices)))):\n",
    "    model = counts_12bit[i]\n",
    "    inv_vocab = inv_vocabs[i]\n",
    "    for j, entry, coder in zip(range(quantized_matrices[i].size - 1, -1, -1), reversed(quantized_matrices[i].ravel()), coders):\n",
    "        symbol_id = inv_vocab[entry]\n",
    "        coder.push(symbol_id, model)\n",
    "        if len(coder.bulk) == 1:\n",
    "            compressed_stream.append(coder.bulk.pop())\n",
    "        coder_offsets[i, j] = len(compressed_stream)\n",
    "    print(f'Encoded matrix {i}; words emitted so far: {coder_offsets[i, -1]}')"
   ]
  },
  {
   "cell_type": "code",
   "execution_count": 10,
   "metadata": {},
   "outputs": [
    {
     "name": "stderr",
     "output_type": "stream",
     "text": [
      "  0%|          | 0/1048576 [00:00<?, ?it/s]"
     ]
    },
    {
     "name": "stderr",
     "output_type": "stream",
     "text": [
      "100%|██████████| 1048576/1048576 [00:00<00:00, 1706337.17it/s]\n"
     ]
    }
   ],
   "source": [
    "for coder in tqdm(coders):\n",
    "    assert len(coder.bulk) == 0\n",
    "    head = coder.head\n",
    "    compressed_stream.append(head & coder.word_mask)\n",
    "    head >>= coder.word_size\n",
    "    compressed_stream.append(head & coder.word_mask)\n",
    "\n",
    "compressed_stream = np.array(compressed_stream, dtype=np.uint16)"
   ]
  },
  {
   "cell_type": "code",
   "execution_count": 11,
   "metadata": {},
   "outputs": [
    {
     "data": {
      "text/plain": [
       "(34691299, 5.293472137451172, np.float64(0.20617493810071696))"
      ]
     },
     "execution_count": 11,
     "metadata": {},
     "output_type": "execute_result"
    }
   ],
   "source": [
    "bitrate = len(compressed_stream) * 16 / quantized_matrices.size\n",
    "len(compressed_stream), bitrate, bitrate - cross_entropies_12bit.mean()"
   ]
  },
  {
   "cell_type": "code",
   "execution_count": 12,
   "metadata": {},
   "outputs": [],
   "source": [
    "with open(\"100-compressed-matrices.pickle\", \"wb\") as f:\n",
    "    pickle.dump({\"compressed_stream\": compressed_stream, \"coder_offsets\": coder_offsets}, f)"
   ]
  },
  {
   "cell_type": "markdown",
   "metadata": {},
   "source": [
    "### Serialize to a file"
   ]
  },
  {
   "cell_type": "markdown",
   "metadata": {},
   "source": [
    "We generate a binary file by concatenating the following bit strings:\n",
    "\n",
    "- `coder_heads`: a concatenation of 1024*1024 unsigned 32-bit integers (in little-endian byte order), each representing the initial `head` state of an entropy coder.\n",
    "  Each entropy coder corresponds to a single matrix element, and their initial `head` states are stored in row-major order.\n",
    "- `compressed_sizes`: a concatenation of 100 unsigned 32-bit integers (in little-endian byte order), each holding the total size (in multiples of 16 bits) of `matrices[i]`, defined below, where `i ∈ {0, 1, ..., 99}`.\n",
    "- `matrices`: a concatenation of 100 compressed representations of the matrices; here, the compressed representation of matrix `i` (for `i ∈ {0, 1, ..., 99}`) is a concatenation of `compressed_sizes[i]` unsigned 16-bit integers (in little-endian byte order), constructed by concatenating the following:\n",
    "  - `data_offset`: a single unsigned 16-bit integer pointing to the `data` section below.\n",
    "  - `cdf`: a concatenation of `data_offset - 1` unsigned 16-bit integers (in little-endian byte order), representing the cumulative distribution function (CDF) of the entropy model used for encoding the current matrix.\n",
    "    The CDF is stored in 12-bit precision as a sequence of non-increasing integers, where the first integer is always `0` and the last integer is always `2^12 = 4096`.\n",
    "    This defines a CDF over `data_offset - 2` discrete symbols.\n",
    "    Admittedly, the first and last entry of the CDF are redundant (because they always have values `0` and `4096`, respectively), but having them in the compressed data allows us to avoid an additional branch in the decoder implementation.\n",
    "  - `data`: a (possibly empty) sequence of unsigned 16-bit integers that represent compressed bits.\n",
    "    The decoder will use these to refill any of the entropy coders that need refilling after decoding the current matrix element.\n",
    "    For each matrix element, `data` contains either zero or one unsigned 16-bit integer, and they are concatenated in row-major order.\n",
    "    It's the decoder's job to figure out which entropy coder needs refilling, and to refill each one with the correct chunk of compressed data."
   ]
  },
  {
   "cell_type": "code",
   "execution_count": 14,
   "metadata": {},
   "outputs": [],
   "source": [
    "def serialize_matrix(i):\n",
    "    cdf = np.array([counts_12bit[i][:j].sum() for j in range(len(counts_12bit[i]) + 1)], dtype=np.uint16)\n",
    "    data_offset = np.array([len(cdf) + 1], dtype=np.uint16)\n",
    "    start = coder_offsets[i, 0]\n",
    "    end = start if i == 0 else coder_offsets[i - 1, 0]\n",
    "    data = compressed_stream[start:end][::-1]\n",
    "    return np.concatenate([data_offset, cdf, data])"
   ]
  },
  {
   "cell_type": "code",
   "execution_count": 15,
   "metadata": {},
   "outputs": [
    {
     "data": {
      "text/plain": [
       "(array([    78, 332235, 331061, 330215, 331988, 331457, 330044, 331859,\n",
       "        332323, 329813, 331619, 332297, 329928, 331279, 332151, 331064,\n",
       "        330067, 332317, 331558, 329876, 332844, 332337, 328115, 332189,\n",
       "        333387, 328422, 330859, 335738, 327906, 329527, 336071, 328908,\n",
       "        327643, 336439, 330939, 326216, 336048, 333430, 323791, 334168,\n",
       "        337581, 322772, 331419, 340791, 323447, 326453, 343883, 326795,\n",
       "        320546, 345331, 331849, 314936, 343557, 340226, 309246, 339266,\n",
       "        350058, 307082, 329686, 360214, 309465, 315432, 368840, 319216,\n",
       "        297231, 373020, 335886, 279688, 367901, 360480, 265171, 351098,\n",
       "        390702, 260596, 321100, 419457, 272915, 276082, 444035, 304390,\n",
       "        219990, 457270, 353554, 166826, 444383, 419026, 140051, 383617,\n",
       "        503643, 152196, 253879, 616465, 180265,  78305, 761215, 213233,\n",
       "         12997, 792229, 250265,   6522], dtype=uint32),\n",
       " np.uint32(792229))"
      ]
     },
     "execution_count": 15,
     "metadata": {},
     "output_type": "execute_result"
    }
   ],
   "source": [
    "serialized_sizes = np.array([serialize_matrix(i).size for i in range(len(quantized_matrices))], dtype=np.uint32)\n",
    "serialized_sizes, serialized_sizes.max()"
   ]
  },
  {
   "cell_type": "code",
   "execution_count": 16,
   "metadata": {},
   "outputs": [],
   "source": [
    "with open(\"100-compressed-matrices.bin\", \"wb\") as f:\n",
    "    initial_coder_heads = compressed_stream[coder_offsets[0, 0]:][::-1]\n",
    "    initial_coder_heads.tofile(f)\n",
    "    serialized_sizes_lo = (serialized_sizes & ((1 << 16) - 1)).astype(np.uint16)\n",
    "    serialized_sizes_hi = (serialized_sizes >> 16).astype(np.uint16)\n",
    "    serialized_sizes_le = np.vstack([serialized_sizes_lo, serialized_sizes_hi]).T.ravel()\n",
    "    serialized_sizes_le.tofile(f)\n",
    "    for i in range(len(quantized_matrices)):\n",
    "        m = serialize_matrix(i)\n",
    "        m.tofile(f)\n",
    "    # NOTE: this doesn't serialize the final compressed data that would be necessary\n",
    "    # to reconstruct the original coder states (which is currently always `[1, 0]`)."
   ]
  },
  {
   "cell_type": "code",
   "execution_count": 17,
   "metadata": {},
   "outputs": [
    {
     "name": "stdout",
     "output_type": "stream",
     "text": [
      "-rw-rw-r-- 1 robamler robamler 67M Feb 28 16:42 100-compressed-matrices.bin\n"
     ]
    }
   ],
   "source": [
    "!ls -lh 100-compressed-matrices.bin"
   ]
  },
  {
   "cell_type": "markdown",
   "metadata": {},
   "source": [
    "## Debugging"
   ]
  },
  {
   "cell_type": "code",
   "execution_count": 18,
   "metadata": {},
   "outputs": [],
   "source": [
    "# Checksum adapted from rust's FxHash, but restricted to 26 bit hashes so that the\n",
    "# multiplication doesn't exceed the range of exactly representable integers in JavaScript.\n",
    "def get_checksum(i, cap=None):\n",
    "    checksum = 0\n",
    "    m = quantized_matrices[i].ravel()\n",
    "    if cap is not None:\n",
    "        m = m[:cap]\n",
    "    for value in m:\n",
    "        value = inv_vocabs[i][value]\n",
    "        checksum = ((checksum & 0x001f_ffff) << 5) | (checksum >> 21) # rotate\n",
    "        checksum = (checksum ^ value) * 0x0322_0a95\n",
    "        checksum = checksum & 0x03ff_ffff # truncate to 26 bit\n",
    "    return checksum"
   ]
  },
  {
   "cell_type": "code",
   "execution_count": 23,
   "metadata": {},
   "outputs": [
    {
     "name": "stdout",
     "output_type": "stream",
     "text": [
      "checksum of matrix 0: 64364773\n",
      "checksum of matrix 1: 64612196\n",
      "checksum of matrix 2: 60176446\n",
      "checksum of matrix 3: 10715593\n",
      "checksum of matrix 4: 37212993\n",
      "checksum of matrix 5: 19062629\n",
      "checksum of matrix 6: 44602562\n",
      "checksum of matrix 7: 7827136\n",
      "checksum of matrix 8: 64606195\n",
      "checksum of matrix 9: 57267776\n",
      "checksum of matrix 10: 2963741\n",
      "checksum of matrix 11: 15677458\n",
      "checksum of matrix 12: 60359594\n",
      "checksum of matrix 13: 63603614\n",
      "checksum of matrix 14: 49520088\n",
      "checksum of matrix 15: 24331276\n",
      "checksum of matrix 16: 41146240\n",
      "checksum of matrix 17: 22772352\n",
      "checksum of matrix 18: 24032544\n",
      "checksum of matrix 19: 47519280\n",
      "checksum of matrix 20: 24127898\n",
      "checksum of matrix 21: 35338592\n",
      "checksum of matrix 22: 23628479\n",
      "checksum of matrix 23: 37124762\n",
      "checksum of matrix 24: 65280212\n",
      "checksum of matrix 25: 3816441\n",
      "checksum of matrix 26: 59399301\n",
      "checksum of matrix 27: 65826698\n",
      "checksum of matrix 28: 57103306\n",
      "checksum of matrix 29: 52778725\n",
      "checksum of matrix 30: 54218222\n",
      "checksum of matrix 31: 42909457\n",
      "checksum of matrix 32: 969316\n",
      "checksum of matrix 33: 54623666\n",
      "checksum of matrix 34: 23441323\n",
      "checksum of matrix 35: 29653376\n",
      "checksum of matrix 36: 4600781\n",
      "checksum of matrix 37: 35865685\n",
      "checksum of matrix 38: 58995769\n",
      "checksum of matrix 39: 39808440\n",
      "checksum of matrix 40: 9896911\n",
      "checksum of matrix 41: 24503711\n",
      "checksum of matrix 42: 8634600\n",
      "checksum of matrix 43: 22895188\n",
      "checksum of matrix 44: 40826218\n",
      "checksum of matrix 45: 2949991\n",
      "checksum of matrix 46: 66362528\n",
      "checksum of matrix 47: 21613761\n",
      "checksum of matrix 48: 45373539\n",
      "checksum of matrix 49: 6769693\n",
      "checksum of matrix 50: 40777071\n",
      "checksum of matrix 51: 11104041\n",
      "checksum of matrix 52: 43943172\n",
      "checksum of matrix 53: 5632974\n",
      "checksum of matrix 54: 51316368\n",
      "checksum of matrix 55: 38908337\n",
      "checksum of matrix 56: 56201495\n",
      "checksum of matrix 57: 37724987\n",
      "checksum of matrix 58: 42758833\n",
      "checksum of matrix 59: 28882631\n",
      "checksum of matrix 60: 2945892\n",
      "checksum of matrix 61: 32937833\n",
      "checksum of matrix 62: 54662252\n",
      "checksum of matrix 63: 9474180\n",
      "checksum of matrix 64: 24700017\n",
      "checksum of matrix 65: 11288234\n",
      "checksum of matrix 66: 35065585\n",
      "checksum of matrix 67: 66064269\n",
      "checksum of matrix 68: 24695213\n",
      "checksum of matrix 69: 64396828\n",
      "checksum of matrix 70: 43299604\n",
      "checksum of matrix 71: 34757273\n",
      "checksum of matrix 72: 54219411\n",
      "checksum of matrix 73: 15102903\n",
      "checksum of matrix 74: 28885984\n",
      "checksum of matrix 75: 48277325\n",
      "checksum of matrix 76: 14365621\n",
      "checksum of matrix 77: 3020616\n",
      "checksum of matrix 78: 64774788\n",
      "checksum of matrix 79: 51367381\n",
      "checksum of matrix 80: 38019480\n",
      "checksum of matrix 81: 19129291\n",
      "checksum of matrix 82: 11046631\n",
      "checksum of matrix 83: 28334634\n",
      "checksum of matrix 84: 12584541\n",
      "checksum of matrix 85: 40077104\n",
      "checksum of matrix 86: 55220193\n",
      "checksum of matrix 87: 3802572\n",
      "checksum of matrix 88: 42796216\n",
      "checksum of matrix 89: 20945576\n",
      "checksum of matrix 90: 2053201\n",
      "checksum of matrix 91: 413070\n",
      "checksum of matrix 92: 8974709\n",
      "checksum of matrix 93: 554103\n",
      "checksum of matrix 94: 36264909\n",
      "checksum of matrix 95: 49560527\n",
      "checksum of matrix 96: 2712412\n",
      "checksum of matrix 97: 12828989\n",
      "checksum of matrix 98: 26818491\n",
      "checksum of matrix 99: 46757799\n"
     ]
    }
   ],
   "source": [
    "for i in range(100):\n",
    "    print(f'checksum of matrix {i}: {get_checksum(i)}')"
   ]
  }
 ],
 "metadata": {
  "kernelspec": {
   "display_name": "Python 3",
   "language": "python",
   "name": "python3"
  },
  "language_info": {
   "codemirror_mode": {
    "name": "ipython",
    "version": 3
   },
   "file_extension": ".py",
   "mimetype": "text/x-python",
   "name": "python",
   "nbconvert_exporter": "python",
   "pygments_lexer": "ipython3",
   "version": "3.12.3"
  }
 },
 "nbformat": 4,
 "nbformat_minor": 2
}
